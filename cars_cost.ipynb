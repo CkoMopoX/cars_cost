{
 "cells": [
  {
   "cell_type": "markdown",
   "metadata": {},
   "source": [
    "# Определение стоимости автомобилей"
   ]
  },
  {
   "cell_type": "markdown",
   "metadata": {},
   "source": [
    "Сервис по продаже автомобилей с пробегом «Не бит, не крашен» разрабатывает приложение для привлечения новых клиентов. В нём можно быстро узнать рыночную стоимость своего автомобиля. В вашем распоряжении исторические данные: технические характеристики, комплектации и цены автомобилей. Вам нужно построить модель для определения стоимости. \n",
    "\n",
    "Заказчику важны:\n",
    "\n",
    "- качество предсказания;\n",
    "- скорость предсказания;\n",
    "- время обучения."
   ]
  },
  {
   "cell_type": "markdown",
   "metadata": {},
   "source": [
    "**Цель исследования**: построить модель для определения рыночной стоимости автомобиля"
   ]
  },
  {
   "cell_type": "markdown",
   "metadata": {},
   "source": [
    "**План исследования**:\n",
    "\n",
    "- изучить данных\n",
    "- сделать предобработку и чистку по необходимости\n",
    "- произвести исследовательский анализ\n",
    "- подготовка данных для моделей\n",
    "- обучение моделей\n",
    "- выбрать лучшую и отработать на тестовом наборе"
   ]
  },
  {
   "cell_type": "markdown",
   "metadata": {},
   "source": [
    "**Требования к исследованию:**\n",
    "\n",
    "- качество предсказания;\n",
    "- скорость предсказания;\n",
    "- время обучения\n",
    "- примененение метрики RMSE для оценки качества.\n",
    "- значение метрики RMSE должно быть меньше 2500."
   ]
  },
  {
   "cell_type": "markdown",
   "metadata": {},
   "source": [
    "ОПИСАНИЕ ДАННЫХ:\n",
    "\n",
    "- DateCrawled — дата скачивания анкеты из базы  \n",
    "- VehicleType — тип автомобильного кузова  \n",
    "- RegistrationYear — год регистрации автомобиля  \n",
    "- Gearbox — тип коробки передач  \n",
    "- Power — мощность (л. с.)  \n",
    "- Model — модель автомобиля \n",
    "- Kilometer — пробег (км)  \n",
    "- RegistrationMonth — месяц регистрации автомобиля  \n",
    "- FuelType — тип топлива  \n",
    "- Brand — марка автомобиля  \n",
    "- Repaired — была машина в ремонте или нет  \n",
    "- DateCreated — дата создания анкеты  \n",
    "- NumberOfPictures — количество фотографий автомобиля  \n",
    "- PostalCode — почтовый индекс владельца анкеты (пользователя)  \n",
    "- LastSeen — дата последней активности пользователя  \n",
    "\n",
    "**Целевой признак:**\n",
    "\n",
    "Price — цена (евро)"
   ]
  },
  {
   "cell_type": "code",
   "execution_count": 1,
   "metadata": {},
   "outputs": [],
   "source": [
    "!pip install -q phik\n",
    "!pip install -q shap\n",
    "!pip install -q lightgbm\n",
    "!pip install -q catboost\n",
    "!pip install -Uq scikit-learn"
   ]
  },
  {
   "cell_type": "code",
   "execution_count": 2,
   "metadata": {},
   "outputs": [],
   "source": [
    "# базовые библиотеки для работы с данными\n",
    "import pandas as pd\n",
    "import numpy as np\n",
    "\n",
    "# библиотеки для визуализации\n",
    "import matplotlib.pyplot as plt\n",
    "import seaborn as sns\n",
    "\n",
    "# статистические библиотеки\n",
    "from phik import phik_matrix\n",
    "from phik.report import plot_correlation_matrix\n",
    "\n",
    "# основные инструменты sklearn\n",
    "from sklearn.impute import SimpleImputer\n",
    "from sklearn.compose import ColumnTransformer\n",
    "from sklearn.model_selection import train_test_split, cross_val_score, RandomizedSearchCV\n",
    "from sklearn.preprocessing import OneHotEncoder, OrdinalEncoder, StandardScaler\n",
    "from sklearn.model_selection import cross_validate\n",
    "from sklearn.pipeline import Pipeline\n",
    "\n",
    "# модели машинного обучения\n",
    "from catboost import CatBoostRegressor\n",
    "from lightgbm import LGBMRegressor\n",
    "from sklearn.linear_model import LinearRegression\n",
    "from sklearn.ensemble import RandomForestRegressor\n",
    "\n",
    "# метрики и инструменты оценки\n",
    "from sklearn.metrics import mean_squared_error\n",
    "\n"
   ]
  },
  {
   "cell_type": "code",
   "execution_count": 3,
   "metadata": {},
   "outputs": [],
   "source": [
    "import re"
   ]
  },
  {
   "cell_type": "code",
   "execution_count": 4,
   "metadata": {},
   "outputs": [],
   "source": [
    "# дополнительные настройки \n",
    "pd.options.mode.chained_assignment = None\n",
    "warnings.filterwarnings(\"ignore\")\n",
    "simplefilter(action='ignore', category=FutureWarning)"
   ]
  },
  {
   "cell_type": "code",
   "execution_count": 5,
   "metadata": {},
   "outputs": [],
   "source": [
    "pd.set_option('display.max_columns', None)\n",
    "pd.set_option('display.max_rows', None)\n",
    "pd.options.mode.chained_assignment = None"
   ]
  },
  {
   "cell_type": "code",
   "execution_count": 6,
   "metadata": {},
   "outputs": [],
   "source": [
    "RANDOM_STATE = 42\n",
    "TEST_SIZE = 0.25"
   ]
  },
  {
   "cell_type": "markdown",
   "metadata": {},
   "source": [
    "## Подготовка данных"
   ]
  },
  {
   "cell_type": "markdown",
   "metadata": {},
   "source": [
    "### Загрузка данных и первичная оценка"
   ]
  },
  {
   "cell_type": "code",
   "execution_count": 7,
   "metadata": {},
   "outputs": [],
   "source": [
    "local_path = {\n",
    "    'auto': '/datasets/autos.csv'\n",
    "}\n",
    "\n",
    "url_path = {\n",
    "    'auto': 'https://code.s3.yandex.net/datasets/autos.csv'\n",
    "}\n",
    "\n",
    "# загрузка данных автомобилей\n",
    "if os.path.exists(local_path['auto']):\n",
    "    df_autos = pd.read_csv(local_path['auto'], parse_dates=['DateCrawled', 'DateCreated', 'LastSeen'])\n",
    "elif requests.get(url_paths['auto']).status_code == 200:\n",
    "    df_autos = pd.read_csv(url_path['auto'], parse_dates=['DateCrawled', 'DateCreated', 'LastSeen'])\n",
    "else:\n",
    "    print('Ошибка загрузки данных автомобилей')"
   ]
  },
  {
   "cell_type": "code",
   "execution_count": 8,
   "metadata": {},
   "outputs": [],
   "source": [
    "# функция вывода информации о датасете\n",
    "def df_info(df):\n",
    "    display(df.info())\n",
    "    print('-----------')\n",
    "    display(df.head())\n",
    "    print('-----------')\n",
    "    display(df.describe().T)\n",
    "    print('-----------')\n",
    "    cols = df.columns\n",
    "    for col in cols:\n",
    "        print(df[col].unique())\n",
    "    print('Кол-во дубликатов:\\n', df.duplicated().sum())\n",
    "    print('-----------')\n",
    "    print('Кол-во пропусков:\\n', df.isna().sum())"
   ]
  },
  {
   "cell_type": "code",
   "execution_count": 9,
   "metadata": {},
   "outputs": [],
   "source": [
    "# функция для аналитики колонок с цифровыми непрерывними значениями\n",
    "def num_stat (column, title, label):\n",
    "    plt.figure(figsize=(20, 10)) # создаем график\n",
    "    plt.hist(column,bins=50,edgecolor='white')\n",
    "    plt.title(title,fontsize=20)\n",
    "    plt.xlabel(label,fontsize=20)\n",
    "    plt.ylabel('Количество значений',fontsize=20)\n",
    "    plt.xticks(rotation=45, ha='right')\n",
    "    plt.tight_layout()\n",
    "    plt.show()\n",
    "    \n",
    "    plt.figure(figsize=(10, 10))  \n",
    "    sns.boxplot(y=column)\n",
    "    plt.title(title, fontsize=16)\n",
    "    plt.ylabel(label, fontsize=16)\n",
    "    plt.tight_layout()\n",
    "    plt.show()\n",
    "    \n",
    "    return column.describe()"
   ]
  },
  {
   "cell_type": "code",
   "execution_count": 10,
   "metadata": {},
   "outputs": [],
   "source": [
    "# функция для аналитики колонок с цифровыми дискретными значениями\n",
    "def num_disc_stat(column, title, label):\n",
    "    plt.figure(figsize=(20, 10))\n",
    "    ax = sns.countplot(x=column, palette='viridis')\n",
    "    plt.title(title, fontsize=20)\n",
    "    plt.xlabel(label, fontsize=20)\n",
    "    plt.ylabel('Количество значений', fontsize=20)\n",
    "    plt.xticks(rotation=90, ha='right', fontsize=8)\n",
    "\n",
    "    for p in ax.patches:\n",
    "        height = p.get_height()\n",
    "        ax.annotate(f'{height}', (p.get_x() + p.get_width() / 2., height),\n",
    "                    ha='center', va='bottom', fontsize=8, rotation=90, xytext=(0, 5),textcoords='offset points')\n",
    "    plt.tight_layout()\n",
    "    plt.show()\n",
    "    plt.figure(figsize=(10, 10))  \n",
    "    sns.boxplot(y=column)\n",
    "    plt.title(title, fontsize=16)\n",
    "    plt.ylabel(label, fontsize=16)\n",
    "    plt.tight_layout()\n",
    "    plt.show()\n",
    "\n",
    "    return column.describe()"
   ]
  },
  {
   "cell_type": "code",
   "execution_count": 11,
   "metadata": {},
   "outputs": [],
   "source": [
    "# функция для аналитики колонок с категориальными значениями\n",
    "def category_stat(column, title):\n",
    "    pie_data = column.value_counts()\n",
    "    top_5 = pie_data.iloc[:5]\n",
    "    others_sum = pie_data.iloc[5:].sum()\n",
    "    pie_data_modified = pd.Series(\n",
    "        list(top_5.values) + [others_sum],\n",
    "        index=list(top_5.index) + ['Остальные']\n",
    "    )\n",
    "    colors = ['#FF6B6B', '#C9DABF', '#9CA986', '#808D7C', '#5F6F65', '#659287']\n",
    "    plt.figure(figsize=(8, 6))\n",
    "    plt.pie(pie_data_modified.values, \n",
    "            labels=pie_data_modified.index, \n",
    "            autopct='%1.1f%%', \n",
    "            colors=colors, \n",
    "            startangle=90)\n",
    "    \n",
    "    plt.title(title, pad=20, fontsize=16)\n",
    "    plt.axis('equal')\n",
    "    plt.tight_layout()\n",
    "    plt.show()\n",
    "    return pie_data"
   ]
  },
  {
   "cell_type": "code",
   "execution_count": 12,
   "metadata": {},
   "outputs": [
    {
     "name": "stdout",
     "output_type": "stream",
     "text": [
      "<class 'pandas.core.frame.DataFrame'>\n",
      "RangeIndex: 354369 entries, 0 to 354368\n",
      "Data columns (total 16 columns):\n",
      " #   Column             Non-Null Count   Dtype         \n",
      "---  ------             --------------   -----         \n",
      " 0   DateCrawled        354369 non-null  datetime64[ns]\n",
      " 1   Price              354369 non-null  int64         \n",
      " 2   VehicleType        316879 non-null  object        \n",
      " 3   RegistrationYear   354369 non-null  int64         \n",
      " 4   Gearbox            334536 non-null  object        \n",
      " 5   Power              354369 non-null  int64         \n",
      " 6   Model              334664 non-null  object        \n",
      " 7   Kilometer          354369 non-null  int64         \n",
      " 8   RegistrationMonth  354369 non-null  int64         \n",
      " 9   FuelType           321474 non-null  object        \n",
      " 10  Brand              354369 non-null  object        \n",
      " 11  Repaired           283215 non-null  object        \n",
      " 12  DateCreated        354369 non-null  datetime64[ns]\n",
      " 13  NumberOfPictures   354369 non-null  int64         \n",
      " 14  PostalCode         354369 non-null  int64         \n",
      " 15  LastSeen           354369 non-null  datetime64[ns]\n",
      "dtypes: datetime64[ns](3), int64(7), object(6)\n",
      "memory usage: 43.3+ MB\n"
     ]
    },
    {
     "data": {
      "text/plain": [
       "None"
      ]
     },
     "metadata": {},
     "output_type": "display_data"
    },
    {
     "name": "stdout",
     "output_type": "stream",
     "text": [
      "-----------\n"
     ]
    },
    {
     "data": {
      "text/html": [
       "<div>\n",
       "<style scoped>\n",
       "    .dataframe tbody tr th:only-of-type {\n",
       "        vertical-align: middle;\n",
       "    }\n",
       "\n",
       "    .dataframe tbody tr th {\n",
       "        vertical-align: top;\n",
       "    }\n",
       "\n",
       "    .dataframe thead th {\n",
       "        text-align: right;\n",
       "    }\n",
       "</style>\n",
       "<table border=\"1\" class=\"dataframe\">\n",
       "  <thead>\n",
       "    <tr style=\"text-align: right;\">\n",
       "      <th></th>\n",
       "      <th>DateCrawled</th>\n",
       "      <th>Price</th>\n",
       "      <th>VehicleType</th>\n",
       "      <th>RegistrationYear</th>\n",
       "      <th>Gearbox</th>\n",
       "      <th>Power</th>\n",
       "      <th>Model</th>\n",
       "      <th>Kilometer</th>\n",
       "      <th>RegistrationMonth</th>\n",
       "      <th>FuelType</th>\n",
       "      <th>Brand</th>\n",
       "      <th>Repaired</th>\n",
       "      <th>DateCreated</th>\n",
       "      <th>NumberOfPictures</th>\n",
       "      <th>PostalCode</th>\n",
       "      <th>LastSeen</th>\n",
       "    </tr>\n",
       "  </thead>\n",
       "  <tbody>\n",
       "    <tr>\n",
       "      <th>0</th>\n",
       "      <td>2016-03-24 11:52:17</td>\n",
       "      <td>480</td>\n",
       "      <td>NaN</td>\n",
       "      <td>1993</td>\n",
       "      <td>manual</td>\n",
       "      <td>0</td>\n",
       "      <td>golf</td>\n",
       "      <td>150000</td>\n",
       "      <td>0</td>\n",
       "      <td>petrol</td>\n",
       "      <td>volkswagen</td>\n",
       "      <td>NaN</td>\n",
       "      <td>2016-03-24</td>\n",
       "      <td>0</td>\n",
       "      <td>70435</td>\n",
       "      <td>2016-04-07 03:16:57</td>\n",
       "    </tr>\n",
       "    <tr>\n",
       "      <th>1</th>\n",
       "      <td>2016-03-24 10:58:45</td>\n",
       "      <td>18300</td>\n",
       "      <td>coupe</td>\n",
       "      <td>2011</td>\n",
       "      <td>manual</td>\n",
       "      <td>190</td>\n",
       "      <td>NaN</td>\n",
       "      <td>125000</td>\n",
       "      <td>5</td>\n",
       "      <td>gasoline</td>\n",
       "      <td>audi</td>\n",
       "      <td>yes</td>\n",
       "      <td>2016-03-24</td>\n",
       "      <td>0</td>\n",
       "      <td>66954</td>\n",
       "      <td>2016-04-07 01:46:50</td>\n",
       "    </tr>\n",
       "    <tr>\n",
       "      <th>2</th>\n",
       "      <td>2016-03-14 12:52:21</td>\n",
       "      <td>9800</td>\n",
       "      <td>suv</td>\n",
       "      <td>2004</td>\n",
       "      <td>auto</td>\n",
       "      <td>163</td>\n",
       "      <td>grand</td>\n",
       "      <td>125000</td>\n",
       "      <td>8</td>\n",
       "      <td>gasoline</td>\n",
       "      <td>jeep</td>\n",
       "      <td>NaN</td>\n",
       "      <td>2016-03-14</td>\n",
       "      <td>0</td>\n",
       "      <td>90480</td>\n",
       "      <td>2016-04-05 12:47:46</td>\n",
       "    </tr>\n",
       "    <tr>\n",
       "      <th>3</th>\n",
       "      <td>2016-03-17 16:54:04</td>\n",
       "      <td>1500</td>\n",
       "      <td>small</td>\n",
       "      <td>2001</td>\n",
       "      <td>manual</td>\n",
       "      <td>75</td>\n",
       "      <td>golf</td>\n",
       "      <td>150000</td>\n",
       "      <td>6</td>\n",
       "      <td>petrol</td>\n",
       "      <td>volkswagen</td>\n",
       "      <td>no</td>\n",
       "      <td>2016-03-17</td>\n",
       "      <td>0</td>\n",
       "      <td>91074</td>\n",
       "      <td>2016-03-17 17:40:17</td>\n",
       "    </tr>\n",
       "    <tr>\n",
       "      <th>4</th>\n",
       "      <td>2016-03-31 17:25:20</td>\n",
       "      <td>3600</td>\n",
       "      <td>small</td>\n",
       "      <td>2008</td>\n",
       "      <td>manual</td>\n",
       "      <td>69</td>\n",
       "      <td>fabia</td>\n",
       "      <td>90000</td>\n",
       "      <td>7</td>\n",
       "      <td>gasoline</td>\n",
       "      <td>skoda</td>\n",
       "      <td>no</td>\n",
       "      <td>2016-03-31</td>\n",
       "      <td>0</td>\n",
       "      <td>60437</td>\n",
       "      <td>2016-04-06 10:17:21</td>\n",
       "    </tr>\n",
       "  </tbody>\n",
       "</table>\n",
       "</div>"
      ],
      "text/plain": [
       "          DateCrawled  Price VehicleType  RegistrationYear Gearbox  Power  \\\n",
       "0 2016-03-24 11:52:17    480         NaN              1993  manual      0   \n",
       "1 2016-03-24 10:58:45  18300       coupe              2011  manual    190   \n",
       "2 2016-03-14 12:52:21   9800         suv              2004    auto    163   \n",
       "3 2016-03-17 16:54:04   1500       small              2001  manual     75   \n",
       "4 2016-03-31 17:25:20   3600       small              2008  manual     69   \n",
       "\n",
       "   Model  Kilometer  RegistrationMonth  FuelType       Brand Repaired  \\\n",
       "0   golf     150000                  0    petrol  volkswagen      NaN   \n",
       "1    NaN     125000                  5  gasoline        audi      yes   \n",
       "2  grand     125000                  8  gasoline        jeep      NaN   \n",
       "3   golf     150000                  6    petrol  volkswagen       no   \n",
       "4  fabia      90000                  7  gasoline       skoda       no   \n",
       "\n",
       "  DateCreated  NumberOfPictures  PostalCode            LastSeen  \n",
       "0  2016-03-24                 0       70435 2016-04-07 03:16:57  \n",
       "1  2016-03-24                 0       66954 2016-04-07 01:46:50  \n",
       "2  2016-03-14                 0       90480 2016-04-05 12:47:46  \n",
       "3  2016-03-17                 0       91074 2016-03-17 17:40:17  \n",
       "4  2016-03-31                 0       60437 2016-04-06 10:17:21  "
      ]
     },
     "metadata": {},
     "output_type": "display_data"
    },
    {
     "name": "stdout",
     "output_type": "stream",
     "text": [
      "-----------\n"
     ]
    },
    {
     "data": {
      "text/html": [
       "<div>\n",
       "<style scoped>\n",
       "    .dataframe tbody tr th:only-of-type {\n",
       "        vertical-align: middle;\n",
       "    }\n",
       "\n",
       "    .dataframe tbody tr th {\n",
       "        vertical-align: top;\n",
       "    }\n",
       "\n",
       "    .dataframe thead th {\n",
       "        text-align: right;\n",
       "    }\n",
       "</style>\n",
       "<table border=\"1\" class=\"dataframe\">\n",
       "  <thead>\n",
       "    <tr style=\"text-align: right;\">\n",
       "      <th></th>\n",
       "      <th>count</th>\n",
       "      <th>mean</th>\n",
       "      <th>std</th>\n",
       "      <th>min</th>\n",
       "      <th>25%</th>\n",
       "      <th>50%</th>\n",
       "      <th>75%</th>\n",
       "      <th>max</th>\n",
       "    </tr>\n",
       "  </thead>\n",
       "  <tbody>\n",
       "    <tr>\n",
       "      <th>Price</th>\n",
       "      <td>354369.0</td>\n",
       "      <td>4416.656776</td>\n",
       "      <td>4514.158514</td>\n",
       "      <td>0.0</td>\n",
       "      <td>1050.0</td>\n",
       "      <td>2700.0</td>\n",
       "      <td>6400.0</td>\n",
       "      <td>20000.0</td>\n",
       "    </tr>\n",
       "    <tr>\n",
       "      <th>RegistrationYear</th>\n",
       "      <td>354369.0</td>\n",
       "      <td>2004.234448</td>\n",
       "      <td>90.227958</td>\n",
       "      <td>1000.0</td>\n",
       "      <td>1999.0</td>\n",
       "      <td>2003.0</td>\n",
       "      <td>2008.0</td>\n",
       "      <td>9999.0</td>\n",
       "    </tr>\n",
       "    <tr>\n",
       "      <th>Power</th>\n",
       "      <td>354369.0</td>\n",
       "      <td>110.094337</td>\n",
       "      <td>189.850405</td>\n",
       "      <td>0.0</td>\n",
       "      <td>69.0</td>\n",
       "      <td>105.0</td>\n",
       "      <td>143.0</td>\n",
       "      <td>20000.0</td>\n",
       "    </tr>\n",
       "    <tr>\n",
       "      <th>Kilometer</th>\n",
       "      <td>354369.0</td>\n",
       "      <td>128211.172535</td>\n",
       "      <td>37905.341530</td>\n",
       "      <td>5000.0</td>\n",
       "      <td>125000.0</td>\n",
       "      <td>150000.0</td>\n",
       "      <td>150000.0</td>\n",
       "      <td>150000.0</td>\n",
       "    </tr>\n",
       "    <tr>\n",
       "      <th>RegistrationMonth</th>\n",
       "      <td>354369.0</td>\n",
       "      <td>5.714645</td>\n",
       "      <td>3.726421</td>\n",
       "      <td>0.0</td>\n",
       "      <td>3.0</td>\n",
       "      <td>6.0</td>\n",
       "      <td>9.0</td>\n",
       "      <td>12.0</td>\n",
       "    </tr>\n",
       "    <tr>\n",
       "      <th>NumberOfPictures</th>\n",
       "      <td>354369.0</td>\n",
       "      <td>0.000000</td>\n",
       "      <td>0.000000</td>\n",
       "      <td>0.0</td>\n",
       "      <td>0.0</td>\n",
       "      <td>0.0</td>\n",
       "      <td>0.0</td>\n",
       "      <td>0.0</td>\n",
       "    </tr>\n",
       "    <tr>\n",
       "      <th>PostalCode</th>\n",
       "      <td>354369.0</td>\n",
       "      <td>50508.689087</td>\n",
       "      <td>25783.096248</td>\n",
       "      <td>1067.0</td>\n",
       "      <td>30165.0</td>\n",
       "      <td>49413.0</td>\n",
       "      <td>71083.0</td>\n",
       "      <td>99998.0</td>\n",
       "    </tr>\n",
       "  </tbody>\n",
       "</table>\n",
       "</div>"
      ],
      "text/plain": [
       "                      count           mean           std     min       25%  \\\n",
       "Price              354369.0    4416.656776   4514.158514     0.0    1050.0   \n",
       "RegistrationYear   354369.0    2004.234448     90.227958  1000.0    1999.0   \n",
       "Power              354369.0     110.094337    189.850405     0.0      69.0   \n",
       "Kilometer          354369.0  128211.172535  37905.341530  5000.0  125000.0   \n",
       "RegistrationMonth  354369.0       5.714645      3.726421     0.0       3.0   \n",
       "NumberOfPictures   354369.0       0.000000      0.000000     0.0       0.0   \n",
       "PostalCode         354369.0   50508.689087  25783.096248  1067.0   30165.0   \n",
       "\n",
       "                        50%       75%       max  \n",
       "Price                2700.0    6400.0   20000.0  \n",
       "RegistrationYear     2003.0    2008.0    9999.0  \n",
       "Power                 105.0     143.0   20000.0  \n",
       "Kilometer          150000.0  150000.0  150000.0  \n",
       "RegistrationMonth       6.0       9.0      12.0  \n",
       "NumberOfPictures        0.0       0.0       0.0  \n",
       "PostalCode          49413.0   71083.0   99998.0  "
      ]
     },
     "metadata": {},
     "output_type": "display_data"
    },
    {
     "name": "stdout",
     "output_type": "stream",
     "text": [
      "-----------\n",
      "['2016-03-24T11:52:17.000000000' '2016-03-24T10:58:45.000000000'\n",
      " '2016-03-14T12:52:21.000000000' ... '2016-03-21T09:50:58.000000000'\n",
      " '2016-03-14T17:48:27.000000000' '2016-03-19T18:57:12.000000000']\n",
      "[  480 18300  9800 ... 12395 18429 10985]\n",
      "[nan 'coupe' 'suv' 'small' 'sedan' 'convertible' 'bus' 'wagon' 'other']\n",
      "[1993 2011 2004 2001 2008 1995 1980 2014 1998 2005 1910 2016 2007 2009\n",
      " 2002 2018 1997 1990 2017 1981 2003 1994 1991 1984 2006 1999 2012 2010\n",
      " 2000 1992 2013 1996 1985 1989 2015 1982 1976 1983 1973 1111 1969 1971\n",
      " 1987 1986 1988 1970 1965 1945 1925 1974 1979 1955 1978 1972 1968 1977\n",
      " 1961 1960 1966 1975 1963 1964 5000 1954 1958 1967 1959 9999 1956 3200\n",
      " 1000 1941 8888 1500 2200 4100 1962 1929 1957 1940 3000 2066 1949 2019\n",
      " 1937 1951 1800 1953 1234 8000 5300 9000 2900 6000 5900 5911 1933 1400\n",
      " 1950 4000 1948 1952 1200 8500 1932 1255 3700 3800 4800 1942 7000 1935\n",
      " 1936 6500 1923 2290 2500 1930 1001 9450 1944 1943 1934 1938 1688 2800\n",
      " 1253 1928 1919 5555 5600 1600 2222 1039 9996 1300 8455 1931 1915 4500\n",
      " 1920 1602 7800 9229 1947 1927 7100 8200 1946 7500 3500]\n",
      "['manual' 'auto' nan]\n",
      "[    0   190   163    75    69   102   109    50   125   101   105   140\n",
      "   115   131    60   136   160   231    90   118   193    99   113   218\n",
      "   122   129    70   306    95    61   177    80   170    55   143    64\n",
      "   286   232   150   156    82   155    54   185    87   180    86    84\n",
      "   224   235   200   178   265    77   110   144   120   116   184   126\n",
      "   204    88   194   305   197   179   250    45   313    41   165    98\n",
      "   130   114   211    56   201   213    58   107    83   174   100   220\n",
      "    85    73   192    68    66   299    74    52   147    65   310    71\n",
      "    97   239   203     5   300   103   258   320    63    81   148    44\n",
      "   145   230   280   260   104   188   333   186   117   141    59   132\n",
      "   234   158    39    92    51   135    53   209    43   146    67   106\n",
      "   166   276   344    72   249   237   245   111   326   279    23   138\n",
      "   175    96   226    26    37   301   334   128   133   124    33   219\n",
      "   241   167    94   182   196   238  1398   228   112    48   272   139\n",
      "  1799    40   240    79   256   360   243   375   252   396   340   108\n",
      "   121   345   187   289   222   198   284   450   233   387   152   347\n",
      "   172    57   137   212   476   314    30     7    47   173   290   207\n",
      "   205   171   750    78    91    89   349   325    76   151   350   953\n",
      "    93   142   500   343   199   119   164    16   264   367   208   210\n",
      "    46   435  1001   225   127   176   161   603   307   354    35   206\n",
      "   771   355   273   223   255   123   154   149  7515  1400   268   620\n",
      "   169   400   275    34     2   242  1779   285   162   328  1753   329\n",
      "   134   420   247   168 10317   215    18   330   283    62    10   214\n",
      "   183   254    15   321   322   315   952   600   181   426   599   379\n",
      "   999    22   157    42   195   553     4   309   507   381   271   440\n",
      "   189   401  1111  2729    21   236  1240  1704   521     1  1900   270\n",
      "    24   159   292   808   515  1200   303    29    38  1993    14   216\n",
      "   610   504    49   267   331   363   261   385  1011   253   696 10520\n",
      "   376   227   311    27   217    20  1999    11  1056    25   394    12\n",
      "   298   296  1659   294   551  6920   246    17  1800  1625   368   390\n",
      "   221  1367   259   606   327  2017  1597   266   374   392     9   405\n",
      "    13   262   601   430   295     8   411   900   541  7512   382 10218\n",
      "  7544  1102   287    19   751   297  1090   457   282   602   388     6\n",
      "  1000  5411   335  1360   202  3750   805  1062  1024 11530   364  1796\n",
      "  5000   269   460  1002   288  1780 12012 17932   316  2005  1399   191\n",
      "   278  1300   380   257   449  1256   153  1653   520   560   281 12510\n",
      "     3  1500   386    32  1202  2016  1436  1405   671   274  1288  1055\n",
      " 10912 15016  6226  1115   277  1105   341  1223  2340  8404  1968   338\n",
      "   445  1920   370   517  4400 10710 10522  9010   431  1164 11509   371\n",
      "  1501   428 11635    36   304   348  1703  1910  1995   579 10000   580\n",
      "   408    31  1005   358  1403   489  5575 19211   585   960   365   353\n",
      "   490   352  1801   346   550  3199   800  7508  1312   357  1937   950\n",
      "  4700  1600  3454 19208   251   850   337   700  8011  2331  2789   487\n",
      "   519  2461  6006  3500  5815  6018  1781  1503   612  1596   229  1506\n",
      "  5809 15020  5867  2172  1598 17410  1363   584  1054   851  1339   318\n",
      "   510   525  1700    28  1151   685  6011   317   703  1771 15001   514\n",
      "   362   332   324  6045   530   425   308  6010   475   903   640  2000\n",
      "   248   651  2799 17011   505  1103  1521   351 16051   398  9000  1998\n",
      " 10311   409  1230 17019 12684  8259  1895   901  1317   871   909  2201\n",
      "  1595   776 17700 11011  1199   459  1162  1120 15033  1896   339   361\n",
      "   574  6512   454   650 13616   604   607 16312  1082   336 20000   416\n",
      "   678  6012  1401  1021  1870 13636  1250  9710   323  1158  2009   902\n",
      "  6062  1275   572   244   399  1016   743  1221  2402 16011  1362   544\n",
      "   645   907   702 12512  1986  1003  1432  9013  9011   442  1017  1394\n",
      " 15017 10910  1992   540  2018 11025  1433  1701  2792  1502  1239  1390\n",
      " 14009  1160  1351 11111  1783  9007   923  1149   754  1988   402  2004\n",
      "  5420  1793  1324   356  7511  1299   293 19312  1079  1689   998  1100\n",
      "  9012  1933   508 16311   682  1252  1922  7529   732  2389  2200  1707\n",
      "  1416  8500  1012   485  3000 10110   421  4507  1631  7518   377  1004\n",
      "  2007  2598  1548  1241]\n",
      "['golf' nan 'grand' 'fabia' '3er' '2_reihe' 'other' 'c_max' '3_reihe'\n",
      " 'passat' 'navara' 'ka' 'polo' 'twingo' 'a_klasse' 'scirocco' '5er'\n",
      " 'meriva' 'arosa' 'c4' 'civic' 'transporter' 'punto' 'e_klasse' 'clio'\n",
      " 'kadett' 'kangoo' 'corsa' 'one' 'fortwo' '1er' 'b_klasse' 'signum'\n",
      " 'astra' 'a8' 'jetta' 'fiesta' 'c_klasse' 'micra' 'vito' 'sprinter' '156'\n",
      " 'escort' 'forester' 'xc_reihe' 'scenic' 'a4' 'a1' 'insignia' 'combo'\n",
      " 'focus' 'tt' 'a6' 'jazz' 'omega' 'slk' '7er' '80' '147' '100' 'z_reihe'\n",
      " 'sportage' 'sorento' 'v40' 'ibiza' 'mustang' 'eos' 'touran' 'getz' 'a3'\n",
      " 'almera' 'megane' 'lupo' 'r19' 'zafira' 'caddy' 'mondeo' 'cordoba' 'colt'\n",
      " 'impreza' 'vectra' 'berlingo' 'tiguan' 'i_reihe' 'espace' 'sharan'\n",
      " '6_reihe' 'panda' 'up' 'seicento' 'ceed' '5_reihe' 'yeti' 'octavia' 'mii'\n",
      " 'rx_reihe' '6er' 'modus' 'fox' 'matiz' 'beetle' 'c1' 'rio' 'touareg'\n",
      " 'logan' 'spider' 'cuore' 's_max' 'a2' 'galaxy' 'c3' 'viano' 's_klasse'\n",
      " '1_reihe' 'avensis' 'roomster' 'sl' 'kaefer' 'santa' 'cooper' 'leon'\n",
      " '4_reihe' 'a5' '500' 'laguna' 'ptcruiser' 'clk' 'primera' 'x_reihe'\n",
      " 'exeo' '159' 'transit' 'juke' 'qashqai' 'carisma' 'accord' 'corolla'\n",
      " 'lanos' 'phaeton' 'verso' 'swift' 'rav' 'picanto' 'boxster' 'kalos'\n",
      " 'superb' 'stilo' 'alhambra' 'mx_reihe' 'roadster' 'ypsilon' 'cayenne'\n",
      " 'galant' 'justy' '90' 'sirion' 'crossfire' 'agila' 'duster' 'cr_reihe'\n",
      " 'v50' 'c_reihe' 'v_klasse' 'm_klasse' 'yaris' 'c5' 'aygo' 'cc' 'carnival'\n",
      " 'fusion' '911' 'bora' 'forfour' 'm_reihe' 'cl' 'tigra' '300c' 'spark'\n",
      " 'v70' 'kuga' 'x_type' 'ducato' 's_type' 'x_trail' 'toledo' 'altea'\n",
      " 'voyager' 'calibra' 'bravo' 'antara' 'tucson' 'citigo' 'jimny' 'wrangler'\n",
      " 'lybra' 'q7' 'lancer' 'captiva' 'c2' 'discovery' 'freelander' 'sandero'\n",
      " 'note' '900' 'cherokee' 'clubman' 'samara' 'defender' '601' 'cx_reihe'\n",
      " 'legacy' 'pajero' 'auris' 'niva' 's60' 'nubira' 'vivaro' 'g_klasse'\n",
      " 'lodgy' '850' 'range_rover' 'q3' 'serie_2' 'glk' 'charade' 'croma'\n",
      " 'outlander' 'doblo' 'musa' 'move' '9000' 'v60' '145' 'aveo' '200' 'b_max'\n",
      " 'range_rover_sport' 'terios' 'rangerover' 'q5' 'range_rover_evoque'\n",
      " 'materia' 'delta' 'gl' 'kalina' 'amarok' 'elefantino' 'i3' 'kappa'\n",
      " 'serie_3' 'serie_1']\n",
      "[150000 125000  90000  40000  30000  70000   5000 100000  60000  20000\n",
      "  80000  50000  10000]\n",
      "[ 0  5  8  6  7 10 12 11  2  3  1  4  9]\n",
      "['petrol' 'gasoline' nan 'lpg' 'other' 'hybrid' 'cng' 'electric']\n",
      "['volkswagen' 'audi' 'jeep' 'skoda' 'bmw' 'peugeot' 'ford' 'mazda'\n",
      " 'nissan' 'renault' 'mercedes_benz' 'opel' 'seat' 'citroen' 'honda' 'fiat'\n",
      " 'mini' 'smart' 'hyundai' 'sonstige_autos' 'alfa_romeo' 'subaru' 'volvo'\n",
      " 'mitsubishi' 'kia' 'suzuki' 'lancia' 'toyota' 'chevrolet' 'dacia'\n",
      " 'daihatsu' 'trabant' 'saab' 'chrysler' 'jaguar' 'daewoo' 'porsche'\n",
      " 'rover' 'land_rover' 'lada']\n",
      "[nan 'yes' 'no']\n",
      "['2016-03-24T00:00:00.000000000' '2016-03-14T00:00:00.000000000'\n",
      " '2016-03-17T00:00:00.000000000' '2016-03-31T00:00:00.000000000'\n",
      " '2016-04-04T00:00:00.000000000' '2016-04-01T00:00:00.000000000'\n",
      " '2016-03-21T00:00:00.000000000' '2016-03-26T00:00:00.000000000'\n",
      " '2016-04-07T00:00:00.000000000' '2016-03-15T00:00:00.000000000'\n",
      " '2016-03-11T00:00:00.000000000' '2016-03-20T00:00:00.000000000'\n",
      " '2016-03-23T00:00:00.000000000' '2016-03-27T00:00:00.000000000'\n",
      " '2016-03-12T00:00:00.000000000' '2016-03-13T00:00:00.000000000'\n",
      " '2016-03-18T00:00:00.000000000' '2016-03-10T00:00:00.000000000'\n",
      " '2016-03-07T00:00:00.000000000' '2016-03-09T00:00:00.000000000'\n",
      " '2016-03-08T00:00:00.000000000' '2016-04-03T00:00:00.000000000'\n",
      " '2016-03-29T00:00:00.000000000' '2016-03-25T00:00:00.000000000'\n",
      " '2016-03-28T00:00:00.000000000' '2016-03-30T00:00:00.000000000'\n",
      " '2016-03-22T00:00:00.000000000' '2016-02-09T00:00:00.000000000'\n",
      " '2016-03-05T00:00:00.000000000' '2016-04-02T00:00:00.000000000'\n",
      " '2016-03-16T00:00:00.000000000' '2016-03-19T00:00:00.000000000'\n",
      " '2016-04-05T00:00:00.000000000' '2016-03-06T00:00:00.000000000'\n",
      " '2016-02-12T00:00:00.000000000' '2016-03-03T00:00:00.000000000'\n",
      " '2016-03-01T00:00:00.000000000' '2016-03-04T00:00:00.000000000'\n",
      " '2016-04-06T00:00:00.000000000' '2016-02-15T00:00:00.000000000'\n",
      " '2016-02-24T00:00:00.000000000' '2016-02-27T00:00:00.000000000'\n",
      " '2015-03-20T00:00:00.000000000' '2016-02-28T00:00:00.000000000'\n",
      " '2016-02-17T00:00:00.000000000' '2016-01-27T00:00:00.000000000'\n",
      " '2016-02-20T00:00:00.000000000' '2016-02-29T00:00:00.000000000'\n",
      " '2016-02-10T00:00:00.000000000' '2016-02-23T00:00:00.000000000'\n",
      " '2016-02-21T00:00:00.000000000' '2015-11-02T00:00:00.000000000'\n",
      " '2016-02-19T00:00:00.000000000' '2016-02-26T00:00:00.000000000'\n",
      " '2016-02-11T00:00:00.000000000' '2016-01-10T00:00:00.000000000'\n",
      " '2016-02-06T00:00:00.000000000' '2016-02-18T00:00:00.000000000'\n",
      " '2016-01-29T00:00:00.000000000' '2016-03-02T00:00:00.000000000'\n",
      " '2015-12-06T00:00:00.000000000' '2016-01-24T00:00:00.000000000'\n",
      " '2016-01-30T00:00:00.000000000' '2016-02-02T00:00:00.000000000'\n",
      " '2016-02-16T00:00:00.000000000' '2016-02-13T00:00:00.000000000'\n",
      " '2016-02-05T00:00:00.000000000' '2016-02-22T00:00:00.000000000'\n",
      " '2015-11-17T00:00:00.000000000' '2014-03-10T00:00:00.000000000'\n",
      " '2016-02-07T00:00:00.000000000' '2016-01-23T00:00:00.000000000'\n",
      " '2016-02-25T00:00:00.000000000' '2016-02-14T00:00:00.000000000'\n",
      " '2016-01-02T00:00:00.000000000' '2015-09-04T00:00:00.000000000'\n",
      " '2015-11-12T00:00:00.000000000' '2015-12-27T00:00:00.000000000'\n",
      " '2015-11-24T00:00:00.000000000' '2016-01-20T00:00:00.000000000'\n",
      " '2016-02-03T00:00:00.000000000' '2015-12-05T00:00:00.000000000'\n",
      " '2015-08-07T00:00:00.000000000' '2016-01-28T00:00:00.000000000'\n",
      " '2016-01-31T00:00:00.000000000' '2016-02-08T00:00:00.000000000'\n",
      " '2016-01-07T00:00:00.000000000' '2016-01-22T00:00:00.000000000'\n",
      " '2016-01-18T00:00:00.000000000' '2016-01-08T00:00:00.000000000'\n",
      " '2015-11-23T00:00:00.000000000' '2016-01-13T00:00:00.000000000'\n",
      " '2016-01-17T00:00:00.000000000' '2016-01-15T00:00:00.000000000'\n",
      " '2015-11-08T00:00:00.000000000' '2016-01-26T00:00:00.000000000'\n",
      " '2016-02-04T00:00:00.000000000' '2016-01-25T00:00:00.000000000'\n",
      " '2016-01-16T00:00:00.000000000' '2015-08-10T00:00:00.000000000'\n",
      " '2016-01-03T00:00:00.000000000' '2016-01-19T00:00:00.000000000'\n",
      " '2015-12-30T00:00:00.000000000' '2016-02-01T00:00:00.000000000'\n",
      " '2015-12-17T00:00:00.000000000' '2015-11-10T00:00:00.000000000'\n",
      " '2016-01-06T00:00:00.000000000' '2015-09-09T00:00:00.000000000'\n",
      " '2015-06-18T00:00:00.000000000']\n",
      "[0]\n",
      "[70435 66954 90480 ... 38528 38325 31096]\n",
      "['2016-04-07T03:16:57.000000000' '2016-04-07T01:46:50.000000000'\n",
      " '2016-04-05T12:47:46.000000000' ... '2016-03-19T20:44:43.000000000'\n",
      " '2016-03-29T10:17:23.000000000' '2016-03-21T10:42:49.000000000']\n",
      "Кол-во дубликатов:\n",
      " 4\n",
      "-----------\n",
      "Кол-во пропусков:\n",
      " DateCrawled              0\n",
      "Price                    0\n",
      "VehicleType          37490\n",
      "RegistrationYear         0\n",
      "Gearbox              19833\n",
      "Power                    0\n",
      "Model                19705\n",
      "Kilometer                0\n",
      "RegistrationMonth        0\n",
      "FuelType             32895\n",
      "Brand                    0\n",
      "Repaired             71154\n",
      "DateCreated              0\n",
      "NumberOfPictures         0\n",
      "PostalCode               0\n",
      "LastSeen                 0\n",
      "dtype: int64\n"
     ]
    }
   ],
   "source": [
    "df_info(df_autos)"
   ]
  },
  {
   "cell_type": "markdown",
   "metadata": {},
   "source": [
    "**Выводы по предобработке**\n",
    "- всего в датасете 354 369 записей и 16 столбцов  \n",
    "  \n",
    "  \n",
    "- обнаружены пропущенные значения:\n",
    "  - VehicleType - 37 490\n",
    "  - Gearbox - 19 833\n",
    "  - Model - 19 705\n",
    "  - FuelType - 32 895\n",
    "  - Repaired - 71 154  \n",
    "  \n",
    " \n",
    "- найдено 4 полных дубликата\n",
    "\n",
    "- найдены аномальные значения:\n",
    "  - Price - цена не может быть равна 0\n",
    "  - RegistrationYear - машина явно не может быть зарегистрирована в 9999 году, как и в 1000\n",
    "  - Power - 20 000 как 0 лошадиных сил кажется ненормальным значением\n",
    "\n",
    "- типы данных в норме\n",
    "- можно поправить названия колонок в snake_case"
   ]
  },
  {
   "cell_type": "markdown",
   "metadata": {},
   "source": [
    "### Предобработка данных"
   ]
  },
  {
   "cell_type": "code",
   "execution_count": 13,
   "metadata": {},
   "outputs": [],
   "source": [
    "def to_snake_case(columns):\n",
    "    pattern1 = re.compile(r'(.)([A-Z][a-z]+)')\n",
    "    pattern2 = re.compile(r'([a-z0-9])([A-Z])')\n",
    "\n",
    "    return [pattern2.sub(r'\\1_\\2', pattern1.sub(r'\\1_\\2', name)).lower() for name in columns]"
   ]
  },
  {
   "cell_type": "code",
   "execution_count": 14,
   "metadata": {},
   "outputs": [
    {
     "data": {
      "text/html": [
       "<div>\n",
       "<style scoped>\n",
       "    .dataframe tbody tr th:only-of-type {\n",
       "        vertical-align: middle;\n",
       "    }\n",
       "\n",
       "    .dataframe tbody tr th {\n",
       "        vertical-align: top;\n",
       "    }\n",
       "\n",
       "    .dataframe thead th {\n",
       "        text-align: right;\n",
       "    }\n",
       "</style>\n",
       "<table border=\"1\" class=\"dataframe\">\n",
       "  <thead>\n",
       "    <tr style=\"text-align: right;\">\n",
       "      <th></th>\n",
       "      <th>date_crawled</th>\n",
       "      <th>price</th>\n",
       "      <th>vehicle_type</th>\n",
       "      <th>registration_year</th>\n",
       "      <th>gearbox</th>\n",
       "      <th>power</th>\n",
       "      <th>model</th>\n",
       "      <th>kilometer</th>\n",
       "      <th>registration_month</th>\n",
       "      <th>fuel_type</th>\n",
       "      <th>brand</th>\n",
       "      <th>repaired</th>\n",
       "      <th>date_created</th>\n",
       "      <th>number_of_pictures</th>\n",
       "      <th>postal_code</th>\n",
       "      <th>last_seen</th>\n",
       "    </tr>\n",
       "  </thead>\n",
       "  <tbody>\n",
       "    <tr>\n",
       "      <th>0</th>\n",
       "      <td>2016-03-24 11:52:17</td>\n",
       "      <td>480</td>\n",
       "      <td>NaN</td>\n",
       "      <td>1993</td>\n",
       "      <td>manual</td>\n",
       "      <td>0</td>\n",
       "      <td>golf</td>\n",
       "      <td>150000</td>\n",
       "      <td>0</td>\n",
       "      <td>petrol</td>\n",
       "      <td>volkswagen</td>\n",
       "      <td>NaN</td>\n",
       "      <td>2016-03-24</td>\n",
       "      <td>0</td>\n",
       "      <td>70435</td>\n",
       "      <td>2016-04-07 03:16:57</td>\n",
       "    </tr>\n",
       "    <tr>\n",
       "      <th>1</th>\n",
       "      <td>2016-03-24 10:58:45</td>\n",
       "      <td>18300</td>\n",
       "      <td>coupe</td>\n",
       "      <td>2011</td>\n",
       "      <td>manual</td>\n",
       "      <td>190</td>\n",
       "      <td>NaN</td>\n",
       "      <td>125000</td>\n",
       "      <td>5</td>\n",
       "      <td>gasoline</td>\n",
       "      <td>audi</td>\n",
       "      <td>yes</td>\n",
       "      <td>2016-03-24</td>\n",
       "      <td>0</td>\n",
       "      <td>66954</td>\n",
       "      <td>2016-04-07 01:46:50</td>\n",
       "    </tr>\n",
       "    <tr>\n",
       "      <th>2</th>\n",
       "      <td>2016-03-14 12:52:21</td>\n",
       "      <td>9800</td>\n",
       "      <td>suv</td>\n",
       "      <td>2004</td>\n",
       "      <td>auto</td>\n",
       "      <td>163</td>\n",
       "      <td>grand</td>\n",
       "      <td>125000</td>\n",
       "      <td>8</td>\n",
       "      <td>gasoline</td>\n",
       "      <td>jeep</td>\n",
       "      <td>NaN</td>\n",
       "      <td>2016-03-14</td>\n",
       "      <td>0</td>\n",
       "      <td>90480</td>\n",
       "      <td>2016-04-05 12:47:46</td>\n",
       "    </tr>\n",
       "    <tr>\n",
       "      <th>3</th>\n",
       "      <td>2016-03-17 16:54:04</td>\n",
       "      <td>1500</td>\n",
       "      <td>small</td>\n",
       "      <td>2001</td>\n",
       "      <td>manual</td>\n",
       "      <td>75</td>\n",
       "      <td>golf</td>\n",
       "      <td>150000</td>\n",
       "      <td>6</td>\n",
       "      <td>petrol</td>\n",
       "      <td>volkswagen</td>\n",
       "      <td>no</td>\n",
       "      <td>2016-03-17</td>\n",
       "      <td>0</td>\n",
       "      <td>91074</td>\n",
       "      <td>2016-03-17 17:40:17</td>\n",
       "    </tr>\n",
       "    <tr>\n",
       "      <th>4</th>\n",
       "      <td>2016-03-31 17:25:20</td>\n",
       "      <td>3600</td>\n",
       "      <td>small</td>\n",
       "      <td>2008</td>\n",
       "      <td>manual</td>\n",
       "      <td>69</td>\n",
       "      <td>fabia</td>\n",
       "      <td>90000</td>\n",
       "      <td>7</td>\n",
       "      <td>gasoline</td>\n",
       "      <td>skoda</td>\n",
       "      <td>no</td>\n",
       "      <td>2016-03-31</td>\n",
       "      <td>0</td>\n",
       "      <td>60437</td>\n",
       "      <td>2016-04-06 10:17:21</td>\n",
       "    </tr>\n",
       "  </tbody>\n",
       "</table>\n",
       "</div>"
      ],
      "text/plain": [
       "         date_crawled  price vehicle_type  registration_year gearbox  power  \\\n",
       "0 2016-03-24 11:52:17    480          NaN               1993  manual      0   \n",
       "1 2016-03-24 10:58:45  18300        coupe               2011  manual    190   \n",
       "2 2016-03-14 12:52:21   9800          suv               2004    auto    163   \n",
       "3 2016-03-17 16:54:04   1500        small               2001  manual     75   \n",
       "4 2016-03-31 17:25:20   3600        small               2008  manual     69   \n",
       "\n",
       "   model  kilometer  registration_month fuel_type       brand repaired  \\\n",
       "0   golf     150000                   0    petrol  volkswagen      NaN   \n",
       "1    NaN     125000                   5  gasoline        audi      yes   \n",
       "2  grand     125000                   8  gasoline        jeep      NaN   \n",
       "3   golf     150000                   6    petrol  volkswagen       no   \n",
       "4  fabia      90000                   7  gasoline       skoda       no   \n",
       "\n",
       "  date_created  number_of_pictures  postal_code           last_seen  \n",
       "0   2016-03-24                   0        70435 2016-04-07 03:16:57  \n",
       "1   2016-03-24                   0        66954 2016-04-07 01:46:50  \n",
       "2   2016-03-14                   0        90480 2016-04-05 12:47:46  \n",
       "3   2016-03-17                   0        91074 2016-03-17 17:40:17  \n",
       "4   2016-03-31                   0        60437 2016-04-06 10:17:21  "
      ]
     },
     "execution_count": 14,
     "metadata": {},
     "output_type": "execute_result"
    }
   ],
   "source": [
    "df_autos.columns = to_snake_case(df_autos.columns)\n",
    "df_autos.head()"
   ]
  },
  {
   "cell_type": "code",
   "execution_count": 15,
   "metadata": {},
   "outputs": [
    {
     "name": "stdout",
     "output_type": "stream",
     "text": [
      "Количество пропущенных значений после замены: \n",
      " date_crawled          0\n",
      "price                 0\n",
      "vehicle_type          0\n",
      "registration_year     0\n",
      "gearbox               0\n",
      "power                 0\n",
      "model                 0\n",
      "kilometer             0\n",
      "registration_month    0\n",
      "fuel_type             0\n",
      "brand                 0\n",
      "repaired              0\n",
      "date_created          0\n",
      "number_of_pictures    0\n",
      "postal_code           0\n",
      "last_seen             0\n",
      "dtype: int64\n",
      "\n",
      "Проверка исправности данных:\n",
      "<class 'pandas.core.frame.DataFrame'>\n",
      "RangeIndex: 354369 entries, 0 to 354368\n",
      "Data columns (total 16 columns):\n",
      " #   Column              Non-Null Count   Dtype         \n",
      "---  ------              --------------   -----         \n",
      " 0   date_crawled        354369 non-null  datetime64[ns]\n",
      " 1   price               354369 non-null  int64         \n",
      " 2   vehicle_type        354369 non-null  object        \n",
      " 3   registration_year   354369 non-null  int64         \n",
      " 4   gearbox             354369 non-null  object        \n",
      " 5   power               354369 non-null  int64         \n",
      " 6   model               354369 non-null  object        \n",
      " 7   kilometer           354369 non-null  int64         \n",
      " 8   registration_month  354369 non-null  int64         \n",
      " 9   fuel_type           354369 non-null  object        \n",
      " 10  brand               354369 non-null  object        \n",
      " 11  repaired            354369 non-null  object        \n",
      " 12  date_created        354369 non-null  datetime64[ns]\n",
      " 13  number_of_pictures  354369 non-null  int64         \n",
      " 14  postal_code         354369 non-null  int64         \n",
      " 15  last_seen           354369 non-null  datetime64[ns]\n",
      "dtypes: datetime64[ns](3), int64(7), object(6)\n",
      "memory usage: 43.3+ MB\n"
     ]
    }
   ],
   "source": [
    "imputer_pipe = Pipeline([\n",
    "    ('SimpleImputer', SimpleImputer(missing_values=np.nan, strategy='most_frequent'))\n",
    "])\n",
    "\n",
    "nan_cols = ['vehicle_type', 'gearbox', 'model', 'fuel_type', 'repaired']\n",
    "df_autos[nan_cols] = imputer_pipe.fit_transform(df_autos[nan_cols])\n",
    "\n",
    "print(f'Количество пропущенных значений после замены: \\n {df_autos.isna().sum()}')\n",
    "print('\\nПроверка исправности данных:')\n",
    "df_autos.info()"
   ]
  },
  {
   "cell_type": "code",
   "execution_count": 16,
   "metadata": {},
   "outputs": [
    {
     "name": "stdout",
     "output_type": "stream",
     "text": [
      "Проверено 6 категориальных столбцов\n",
      "Обнаружены неявные дубликаты в 0 столбцах\n"
     ]
    }
   ],
   "source": [
    "# проверка на неявные дубликаты \n",
    "unique_values = {}\n",
    "for column in df_autos.columns:\n",
    "    if df_autos[column].dtype == 'object':\n",
    "        unique_values[column] = list(df_autos[column].unique())\n",
    "\n",
    "duplicates_found = {}\n",
    "for column, values in unique_values.items():\n",
    "    normalized_map = {}\n",
    "    for value in values:\n",
    "        if pd.isna(value):\n",
    "            continue\n",
    "        normalized = str(value).lower().strip()\n",
    "        if normalized in normalized_map:\n",
    "            if column not in duplicates_found:\n",
    "                duplicates_found[column] = []\n",
    "            duplicates_found[column].append((value, normalized_map[normalized]))\n",
    "        else:\n",
    "            normalized_map[normalized] = value\n",
    "\n",
    "print(f\"Проверено {len(unique_values)} категориальных столбцов\")\n",
    "print(f\"Обнаружены неявные дубликаты в {len(duplicates_found)} столбцах\")\n",
    "\n",
    "for column, dupes in duplicates_found.items():\n",
    "    print(f\"\\nВ столбце '{column}' найдены следующие дубликаты:\")"
   ]
  },
  {
   "cell_type": "code",
   "execution_count": 17,
   "metadata": {},
   "outputs": [],
   "source": [
    "df_autos['fuel_type'] = df_autos['fuel_type'].replace('gasoline', 'petrol')"
   ]
  },
  {
   "cell_type": "code",
   "execution_count": 18,
   "metadata": {},
   "outputs": [
    {
     "name": "stdout",
     "output_type": "stream",
     "text": [
      "Явных дубликатов: 5\n",
      "После чистки: 0\n"
     ]
    }
   ],
   "source": [
    "# уберем явные дубликаты\n",
    "print(f'Явных дубликатов: {df_autos.duplicated().sum()}')\n",
    "df_autos.drop_duplicates(inplace=True)\n",
    "print(f'После чистки: {df_autos.duplicated().sum()}')"
   ]
  },
  {
   "cell_type": "markdown",
   "metadata": {},
   "source": [
    "**Вывод по предобработке данных**\n",
    "- корректировка регистра колонок\n",
    "- заполнили NAN в колонках через SimpleImputer\n",
    "- проверка на неполные дубликаты\n",
    "- очистка от полных дубликатов"
   ]
  },
  {
   "cell_type": "markdown",
   "metadata": {},
   "source": [
    "### Исследовательский анализ"
   ]
  },
  {
   "cell_type": "code",
   "execution_count": 19,
   "metadata": {},
   "outputs": [
    {
     "data": {
      "image/png": "[encoded data removed]",
      "text/plain": [
       "<Figure size 1440x720 with 1 Axes>"
      ]
     },
     "metadata": {
      "needs_background": "light"
     },
     "output_type": "display_data"
    },
    {
     "data": {
      "image/png": "[encoded data removed]",
      "text/plain": [
       "<Figure size 720x720 with 1 Axes>"
      ]
     },
     "metadata": {
      "needs_background": "light"
     },
     "output_type": "display_data"
    },
    {
     "data": {
      "text/plain": [
       "count    354364.000000\n",
       "mean       4416.655608\n",
       "std        4514.159690\n",
       "min           0.000000\n",
       "25%        1050.000000\n",
       "50%        2700.000000\n",
       "75%        6400.000000\n",
       "max       20000.000000\n",
       "Name: price, dtype: float64"
      ]
     },
     "execution_count": 19,
     "metadata": {},
     "output_type": "execute_result"
    }
   ],
   "source": [
    "num_stat (df_autos['price'], 'График распределения стоимости автомобилей','стоимость авто, евро')"
   ]
  },
  {
   "cell_type": "markdown",
   "metadata": {},
   "source": [
    "Видим выбросы как вверх > 14000, но автомобили могут быть дорогими, изза года выпуска, ограниченной серии или к примеру мощности, поэтому эти значения не трогаем, так и вниз за 0 евро, от таких значений точно нужно избавляться, поскольку стоить столько автомобили не могут."
   ]
  },
  {
   "cell_type": "code",
   "execution_count": 20,
   "metadata": {},
   "outputs": [
    {
     "name": "stdout",
     "output_type": "stream",
     "text": [
      "До удаления: (354364, 16)\n",
      "После удаления: (343592, 16)\n",
      "Удалено: 10772 (3.04%)\n"
     ]
    }
   ],
   "source": [
    "# убираем \"бесплатные\" автомобили\n",
    "rows_before = df_autos.shape[0]\n",
    "print(f'До удаления: {df_autos.shape}')\n",
    "\n",
    "df_autos = df_autos[df_autos['price'] > 0]\n",
    "\n",
    "rows_removed = rows_before - df_autos.shape[0]\n",
    "print(f'После удаления: {df_autos.shape}')\n",
    "print(f'Удалено: {rows_removed} ({rows_removed/rows_before:.2%})')"
   ]
  },
  {
   "cell_type": "code",
   "execution_count": 21,
   "metadata": {},
   "outputs": [
    {
     "data": {
      "image/png": "[encoded data removed]",
      "text/plain": [
       "<Figure size 1440x720 with 1 Axes>"
      ]
     },
     "metadata": {
      "needs_background": "light"
     },
     "output_type": "display_data"
    },
    {
     "data": {
      "image/png": "[encoded data removed]",
      "text/plain": [
       "<Figure size 720x720 with 1 Axes>"
      ]
     },
     "metadata": {
      "needs_background": "light"
     },
     "output_type": "display_data"
    },
    {
     "data": {
      "text/plain": [
       "count    343592.000000\n",
       "mean       2004.089819\n",
       "std          78.413794\n",
       "min        1000.000000\n",
       "25%        1999.000000\n",
       "50%        2003.000000\n",
       "75%        2008.000000\n",
       "max        9999.000000\n",
       "Name: registration_year, dtype: float64"
      ]
     },
     "execution_count": 21,
     "metadata": {},
     "output_type": "execute_result"
    }
   ],
   "source": [
    "num_disc_stat(df_autos['registration_year'], 'График распределения по году выпуска автомоиля','год выпуска')"
   ]
  },
  {
   "cell_type": "code",
   "execution_count": 22,
   "metadata": {},
   "outputs": [
    {
     "data": {
      "text/plain": [
       "2000    23072\n",
       "1999    21994\n",
       "2005    21524\n",
       "2006    19679\n",
       "2001    19653\n",
       "2003    19498\n",
       "2004    19342\n",
       "2002    18724\n",
       "1998    17178\n",
       "2007    17017\n",
       "2008    15251\n",
       "2009    14397\n",
       "1997    13991\n",
       "2010    10681\n",
       "1996    10364\n",
       "2017     9895\n",
       "2011     9837\n",
       "2016     8968\n",
       "1995     8953\n",
       "2012     7119\n",
       "1994     4615\n",
       "2013     4096\n",
       "2018     3782\n",
       "1993     3268\n",
       "1992     2853\n",
       "1991     2609\n",
       "2014     2505\n",
       "1990     2458\n",
       "2015     1243\n",
       "1989     1235\n",
       "1988      903\n",
       "1985      667\n",
       "1987      627\n",
       "1986      502\n",
       "1980      490\n",
       "1983      403\n",
       "1984      382\n",
       "1982      300\n",
       "1970      284\n",
       "1978      276\n",
       "1979      267\n",
       "1981      249\n",
       "1972      210\n",
       "1977      169\n",
       "1974      167\n",
       "1973      165\n",
       "1971      159\n",
       "1976      157\n",
       "1975      137\n",
       "1960      136\n",
       "1969      117\n",
       "1966      110\n",
       "1968      105\n",
       "1967       94\n",
       "1965       80\n",
       "1964       60\n",
       "1910       56\n",
       "1963       55\n",
       "1962       40\n",
       "1961       38\n",
       "1000       31\n",
       "1959       30\n",
       "1956       26\n",
       "1958       21\n",
       "9999       18\n",
       "1950       17\n",
       "5000       16\n",
       "2019       16\n",
       "1953       14\n",
       "1955       13\n",
       "1957       13\n",
       "1951       10\n",
       "1937       10\n",
       "1954        9\n",
       "1952        8\n",
       "1938        8\n",
       "1929        7\n",
       "3000        6\n",
       "6000        5\n",
       "1800        5\n",
       "1234        4\n",
       "7000        4\n",
       "1943        4\n",
       "1945        4\n",
       "1500        3\n",
       "2500        3\n",
       "1932        3\n",
       "4000        3\n",
       "1936        3\n",
       "1934        3\n",
       "1935        3\n",
       "8000        2\n",
       "1948        2\n",
       "5555        2\n",
       "1300        2\n",
       "5911        2\n",
       "9000        2\n",
       "1600        2\n",
       "1930        2\n",
       "1933        2\n",
       "1944        2\n",
       "1942        2\n",
       "4500        2\n",
       "1941        2\n",
       "1923        2\n",
       "1940        2\n",
       "1928        2\n",
       "1947        2\n",
       "5600        1\n",
       "1255        1\n",
       "1001        1\n",
       "9450        1\n",
       "2800        1\n",
       "3800        1\n",
       "4100        1\n",
       "4800        1\n",
       "1400        1\n",
       "8200        1\n",
       "5900        1\n",
       "1039        1\n",
       "2066        1\n",
       "8500        1\n",
       "1602        1\n",
       "2900        1\n",
       "1111        1\n",
       "6500        1\n",
       "3700        1\n",
       "7800        1\n",
       "7100        1\n",
       "3200        1\n",
       "1925        1\n",
       "1927        1\n",
       "1931        1\n",
       "2200        1\n",
       "1946        1\n",
       "1949        1\n",
       "2222        1\n",
       "5300        1\n",
       "8888        1\n",
       "2290        1\n",
       "Name: registration_year, dtype: int64"
      ]
     },
     "execution_count": 22,
     "metadata": {},
     "output_type": "execute_result"
    }
   ],
   "source": [
    "df_autos['registration_year'].value_counts()"
   ]
  },
  {
   "cell_type": "markdown",
   "metadata": {},
   "source": [
    "Видим выбросы в обе стороны, проверим, насколько они вероятны."
   ]
  },
  {
   "cell_type": "code",
   "execution_count": 23,
   "metadata": {},
   "outputs": [
    {
     "data": {
      "text/plain": [
       "Timestamp('2016-04-07 00:00:00')"
      ]
     },
     "execution_count": 23,
     "metadata": {},
     "output_type": "execute_result"
    }
   ],
   "source": [
    "df_autos['date_created'].max()"
   ]
  },
  {
   "cell_type": "markdown",
   "metadata": {},
   "source": [
    "То есть дата создания анкеты ограничена 2016 годом, поэтому автомобили старше этой даты считаем аномалией и их можно удалить."
   ]
  },
  {
   "cell_type": "markdown",
   "metadata": {},
   "source": [
    "Так же год выпуска не может быть ранее 1886 года - года появления первых автомобилей как таковых."
   ]
  },
  {
   "cell_type": "code",
   "execution_count": 24,
   "metadata": {},
   "outputs": [
    {
     "name": "stdout",
     "output_type": "stream",
     "text": [
      "До удаления: (343592, 16)\n",
      "Удалено 13832 строк (4.03%)\n",
      "После чистки: (329760, 16)\n"
     ]
    }
   ],
   "source": [
    "print(f'До удаления: {df_autos.shape}')\n",
    "\n",
    "valid_years_mask = (df_autos['registration_year'] >= 1886) & (df_autos['registration_year'] <= 2016)\n",
    "\n",
    "rows_before = len(df_autos)\n",
    "invalid_rows = rows_before - valid_years_mask.sum()\n",
    "\n",
    "df_autos = df_autos[valid_years_mask]\n",
    "\n",
    "print(f'Удалено {invalid_rows} строк ({invalid_rows/rows_before:.2%})')\n",
    "print(f'После чистки: {df_autos.shape}')"
   ]
  },
  {
   "cell_type": "code",
   "execution_count": 25,
   "metadata": {},
   "outputs": [
    {
     "data": {
      "image/png": "[encoded data removed]",
      "text/plain": [
       "<Figure size 1440x720 with 1 Axes>"
      ]
     },
     "metadata": {
      "needs_background": "light"
     },
     "output_type": "display_data"
    },
    {
     "data": {
      "image/png": "[encoded data removed]",
      "text/plain": [
       "<Figure size 720x720 with 1 Axes>"
      ]
     },
     "metadata": {
      "needs_background": "light"
     },
     "output_type": "display_data"
    },
    {
     "data": {
      "text/plain": [
       "count    329760.000000\n",
       "mean        111.901547\n",
       "std         184.850465\n",
       "min           0.000000\n",
       "25%          71.000000\n",
       "50%         105.000000\n",
       "75%         143.000000\n",
       "max       20000.000000\n",
       "Name: power, dtype: float64"
      ]
     },
     "execution_count": 25,
     "metadata": {},
     "output_type": "execute_result"
    }
   ],
   "source": [
    "num_stat(df_autos['power'], 'График распределения по мощности автомобиля','мощность авто')"
   ]
  },
  {
   "cell_type": "code",
   "execution_count": 26,
   "metadata": {},
   "outputs": [
    {
     "name": "stdout",
     "output_type": "stream",
     "text": [
      "Доля авто с мощностью 0 л.с.: 9.97%\n",
      "Доля авто с мощностью > 1500 л.с.: 0.0525%\n"
     ]
    }
   ],
   "source": [
    "print(f\"Доля авто с мощностью 0 л.с.: {len(df_autos[df_autos['power'] == 0]) / len(df_autos):.2%}\")\n",
    "print(f\"Доля авто с мощностью > 1500 л.с.: {len(df_autos[df_autos['power'] > 1500]) / len(df_autos):.4%}\")"
   ]
  },
  {
   "cell_type": "markdown",
   "metadata": {},
   "source": [
    "График распредления не информативен, видимо большое количество  единичных представителей по мощности. По боксплоту видим много выбросов \"вверх\". Серийные автомобили с мощностью выше 1500 не выпускаются, поэтому ограничим максимальное значение этим числом, маловероятно, что единичные экземпляры будут продаваться на общем сервисе.   \n",
    "Доля авто со значением выше 1500 л.с. небольшая, можно удалить эти значения.\n",
    "А вот с позициями, где мощность равна 0 будем работать, дополнительно надо уточнить о возможных причинах такого заполнения."
   ]
  },
  {
   "cell_type": "code",
   "execution_count": 27,
   "metadata": {},
   "outputs": [
    {
     "data": {
      "text/plain": [
       "329760"
      ]
     },
     "execution_count": 27,
     "metadata": {},
     "output_type": "execute_result"
    }
   ],
   "source": [
    "rows_before = len(df_autos)\n",
    "rows_before"
   ]
  },
  {
   "cell_type": "code",
   "execution_count": 28,
   "metadata": {},
   "outputs": [],
   "source": [
    "# отсев с мощностью > 1500\n",
    "df_autos = df_autos[df_autos['power'] <= 1500]"
   ]
  },
  {
   "cell_type": "code",
   "execution_count": 29,
   "metadata": {},
   "outputs": [],
   "source": [
    "# перевод в число\n",
    "df_autos['power'] = pd.to_numeric(df_autos['power'], errors='coerce')"
   ]
  },
  {
   "cell_type": "code",
   "execution_count": 30,
   "metadata": {},
   "outputs": [],
   "source": [
    "# подсчет медианы и добавление нового столбца\n",
    "df_autos.loc[df_autos['power'] == 0, 'power'] = np.nan\n",
    "brand_model_median = df_autos.groupby(['brand', 'model'])['power'].median().reset_index()\n",
    "brand_model_median.rename(columns={'power': 'power_median'}, inplace=True)\n",
    "df_autos = pd.merge(\n",
    "    df_autos, \n",
    "    brand_model_median, \n",
    "    on=['brand', 'model'], \n",
    "    how='left'\n",
    ")\n"
   ]
  },
  {
   "cell_type": "code",
   "execution_count": 31,
   "metadata": {},
   "outputs": [],
   "source": [
    "# заполнение\n",
    "df_autos['power'] = df_autos.apply(\n",
    "    lambda row: row['power_median'] if pd.isna(row['power']) else row['power'],\n",
    "    axis=1\n",
    ")"
   ]
  },
  {
   "cell_type": "code",
   "execution_count": 32,
   "metadata": {},
   "outputs": [],
   "source": [
    "overall_median = df_autos['power'].median()\n",
    "df_autos['power'].fillna(overall_median, inplace=True)"
   ]
  },
  {
   "cell_type": "code",
   "execution_count": 33,
   "metadata": {},
   "outputs": [
    {
     "name": "stdout",
     "output_type": "stream",
     "text": [
      "Удалено записей с аномальной мощностью: 173 (0.05%)\n",
      "Финальный размер датасета: (329587, 16)\n",
      "Проверка пропущенных значений в столбце 'power': 0\n"
     ]
    }
   ],
   "source": [
    "df_autos.drop(columns=['power_median'], inplace=True)\n",
    "\n",
    "rows_after = len(df_autos)\n",
    "rows_removed = rows_before - rows_after\n",
    "print(f\"Удалено записей с аномальной мощностью: {rows_removed} ({rows_removed/rows_before:.2%})\")\n",
    "print(f\"Финальный размер датасета: {df_autos.shape}\")\n",
    "print(f\"Проверка пропущенных значений в столбце 'power': {df_autos['power'].isna().sum()}\")\n"
   ]
  },
  {
   "cell_type": "code",
   "execution_count": 34,
   "metadata": {},
   "outputs": [
    {
     "data": {
      "image/png": "[encoded data removed]",
      "text/plain": [
       "<Figure size 1440x720 with 1 Axes>"
      ]
     },
     "metadata": {
      "needs_background": "light"
     },
     "output_type": "display_data"
    },
    {
     "data": {
      "image/png": "[encoded data removed]",
      "text/plain": [
       "<Figure size 720x720 with 1 Axes>"
      ]
     },
     "metadata": {
      "needs_background": "light"
     },
     "output_type": "display_data"
    },
    {
     "data": {
      "text/plain": [
       "count    329587.000000\n",
       "mean        119.789999\n",
       "std          56.675315\n",
       "min           1.000000\n",
       "25%          75.000000\n",
       "50%         110.000000\n",
       "75%         147.000000\n",
       "max        1500.000000\n",
       "Name: power, dtype: float64"
      ]
     },
     "execution_count": 34,
     "metadata": {},
     "output_type": "execute_result"
    }
   ],
   "source": [
    "num_stat(df_autos['power'], 'График распределения по мощности автомобиля','мощность авто')"
   ]
  },
  {
   "cell_type": "code",
   "execution_count": 35,
   "metadata": {},
   "outputs": [
    {
     "data": {
      "image/png": "[encoded data removed]",
      "text/plain": [
       "<Figure size 1440x720 with 1 Axes>"
      ]
     },
     "metadata": {
      "needs_background": "light"
     },
     "output_type": "display_data"
    },
    {
     "data": {
      "image/png": "[encoded data removed]",
      "text/plain": [
       "<Figure size 720x720 with 1 Axes>"
      ]
     },
     "metadata": {
      "needs_background": "light"
     },
     "output_type": "display_data"
    },
    {
     "data": {
      "text/plain": [
       "count    329587.000000\n",
       "mean     128207.605276\n",
       "std       37519.932051\n",
       "min        5000.000000\n",
       "25%      125000.000000\n",
       "50%      150000.000000\n",
       "75%      150000.000000\n",
       "max      150000.000000\n",
       "Name: kilometer, dtype: float64"
      ]
     },
     "execution_count": 35,
     "metadata": {},
     "output_type": "execute_result"
    }
   ],
   "source": [
    "num_stat(df_autos['kilometer'], 'График распределения по пробегу автомобиля','пробег авто')"
   ]
  },
  {
   "cell_type": "code",
   "execution_count": 36,
   "metadata": {},
   "outputs": [
    {
     "name": "stdout",
     "output_type": "stream",
     "text": [
      "Доля авто с пробегом менее 90 000 км:      15.10%\n"
     ]
    },
    {
     "data": {
      "text/html": [
       "<div>\n",
       "<style scoped>\n",
       "    .dataframe tbody tr th:only-of-type {\n",
       "        vertical-align: middle;\n",
       "    }\n",
       "\n",
       "    .dataframe tbody tr th {\n",
       "        vertical-align: top;\n",
       "    }\n",
       "\n",
       "    .dataframe thead th {\n",
       "        text-align: right;\n",
       "    }\n",
       "</style>\n",
       "<table border=\"1\" class=\"dataframe\">\n",
       "  <thead>\n",
       "    <tr style=\"text-align: right;\">\n",
       "      <th></th>\n",
       "      <th>date_crawled</th>\n",
       "      <th>price</th>\n",
       "      <th>vehicle_type</th>\n",
       "      <th>registration_year</th>\n",
       "      <th>gearbox</th>\n",
       "      <th>power</th>\n",
       "      <th>model</th>\n",
       "      <th>kilometer</th>\n",
       "      <th>registration_month</th>\n",
       "      <th>fuel_type</th>\n",
       "      <th>brand</th>\n",
       "      <th>repaired</th>\n",
       "      <th>date_created</th>\n",
       "      <th>number_of_pictures</th>\n",
       "      <th>postal_code</th>\n",
       "      <th>last_seen</th>\n",
       "    </tr>\n",
       "  </thead>\n",
       "  <tbody>\n",
       "    <tr>\n",
       "      <th>7</th>\n",
       "      <td>2016-04-04 23:42:13</td>\n",
       "      <td>14500</td>\n",
       "      <td>bus</td>\n",
       "      <td>2014</td>\n",
       "      <td>manual</td>\n",
       "      <td>125.0</td>\n",
       "      <td>c_max</td>\n",
       "      <td>30000</td>\n",
       "      <td>8</td>\n",
       "      <td>petrol</td>\n",
       "      <td>ford</td>\n",
       "      <td>no</td>\n",
       "      <td>2016-04-04</td>\n",
       "      <td>0</td>\n",
       "      <td>94505</td>\n",
       "      <td>2016-04-04 23:42:13</td>\n",
       "    </tr>\n",
       "    <tr>\n",
       "      <th>13</th>\n",
       "      <td>2016-03-21 12:57:01</td>\n",
       "      <td>17999</td>\n",
       "      <td>suv</td>\n",
       "      <td>2011</td>\n",
       "      <td>manual</td>\n",
       "      <td>190.0</td>\n",
       "      <td>navara</td>\n",
       "      <td>70000</td>\n",
       "      <td>3</td>\n",
       "      <td>petrol</td>\n",
       "      <td>nissan</td>\n",
       "      <td>no</td>\n",
       "      <td>2016-03-21</td>\n",
       "      <td>0</td>\n",
       "      <td>4177</td>\n",
       "      <td>2016-04-06 07:45:42</td>\n",
       "    </tr>\n",
       "    <tr>\n",
       "      <th>14</th>\n",
       "      <td>2016-03-11 21:39:15</td>\n",
       "      <td>450</td>\n",
       "      <td>small</td>\n",
       "      <td>1910</td>\n",
       "      <td>manual</td>\n",
       "      <td>60.0</td>\n",
       "      <td>ka</td>\n",
       "      <td>5000</td>\n",
       "      <td>0</td>\n",
       "      <td>petrol</td>\n",
       "      <td>ford</td>\n",
       "      <td>no</td>\n",
       "      <td>2016-03-11</td>\n",
       "      <td>0</td>\n",
       "      <td>24148</td>\n",
       "      <td>2016-03-19 08:46:47</td>\n",
       "    </tr>\n",
       "    <tr>\n",
       "      <th>24</th>\n",
       "      <td>2016-03-07 12:51:23</td>\n",
       "      <td>6900</td>\n",
       "      <td>sedan</td>\n",
       "      <td>2008</td>\n",
       "      <td>manual</td>\n",
       "      <td>99.0</td>\n",
       "      <td>civic</td>\n",
       "      <td>60000</td>\n",
       "      <td>11</td>\n",
       "      <td>petrol</td>\n",
       "      <td>honda</td>\n",
       "      <td>no</td>\n",
       "      <td>2016-03-07</td>\n",
       "      <td>0</td>\n",
       "      <td>12621</td>\n",
       "      <td>2016-03-26 09:44:53</td>\n",
       "    </tr>\n",
       "    <tr>\n",
       "      <th>25</th>\n",
       "      <td>2016-03-09 11:56:38</td>\n",
       "      <td>1990</td>\n",
       "      <td>bus</td>\n",
       "      <td>1981</td>\n",
       "      <td>manual</td>\n",
       "      <td>50.0</td>\n",
       "      <td>transporter</td>\n",
       "      <td>5000</td>\n",
       "      <td>1</td>\n",
       "      <td>petrol</td>\n",
       "      <td>volkswagen</td>\n",
       "      <td>no</td>\n",
       "      <td>2016-03-09</td>\n",
       "      <td>0</td>\n",
       "      <td>87471</td>\n",
       "      <td>2016-03-10 07:44:33</td>\n",
       "    </tr>\n",
       "  </tbody>\n",
       "</table>\n",
       "</div>"
      ],
      "text/plain": [
       "          date_crawled  price vehicle_type  registration_year gearbox  power  \\\n",
       "7  2016-04-04 23:42:13  14500          bus               2014  manual  125.0   \n",
       "13 2016-03-21 12:57:01  17999          suv               2011  manual  190.0   \n",
       "14 2016-03-11 21:39:15    450        small               1910  manual   60.0   \n",
       "24 2016-03-07 12:51:23   6900        sedan               2008  manual   99.0   \n",
       "25 2016-03-09 11:56:38   1990          bus               1981  manual   50.0   \n",
       "\n",
       "          model  kilometer  registration_month fuel_type       brand repaired  \\\n",
       "7         c_max      30000                   8    petrol        ford       no   \n",
       "13       navara      70000                   3    petrol      nissan       no   \n",
       "14           ka       5000                   0    petrol        ford       no   \n",
       "24        civic      60000                  11    petrol       honda       no   \n",
       "25  transporter       5000                   1    petrol  volkswagen       no   \n",
       "\n",
       "   date_created  number_of_pictures  postal_code           last_seen  \n",
       "7    2016-04-04                   0        94505 2016-04-04 23:42:13  \n",
       "13   2016-03-21                   0         4177 2016-04-06 07:45:42  \n",
       "14   2016-03-11                   0        24148 2016-03-19 08:46:47  \n",
       "24   2016-03-07                   0        12621 2016-03-26 09:44:53  \n",
       "25   2016-03-09                   0        87471 2016-03-10 07:44:33  "
      ]
     },
     "metadata": {},
     "output_type": "display_data"
    }
   ],
   "source": [
    "print(f\"Доля авто с пробегом менее 90 000 км: \\\n",
    "     {len(df_autos.query('kilometer < 90000')) / len(df_autos):.2%}\")\n",
    "display(df_autos.query('kilometer < 90000').head())"
   ]
  },
  {
   "cell_type": "markdown",
   "metadata": {},
   "source": [
    "Многовато выбросов, оставим как есть, поскольку низкий пробег возможен."
   ]
  },
  {
   "cell_type": "code",
   "execution_count": 37,
   "metadata": {},
   "outputs": [
    {
     "data": {
      "image/png": "[encoded data removed]",
      "text/plain": [
       "<Figure size 1440x720 with 1 Axes>"
      ]
     },
     "metadata": {
      "needs_background": "light"
     },
     "output_type": "display_data"
    },
    {
     "data": {
      "image/png": "[encoded data removed]",
      "text/plain": [
       "<Figure size 720x720 with 1 Axes>"
      ]
     },
     "metadata": {
      "needs_background": "light"
     },
     "output_type": "display_data"
    },
    {
     "data": {
      "text/plain": [
       "count    329587.000000\n",
       "mean          5.819071\n",
       "std           3.679271\n",
       "min           0.000000\n",
       "25%           3.000000\n",
       "50%           6.000000\n",
       "75%           9.000000\n",
       "max          12.000000\n",
       "Name: registration_month, dtype: float64"
      ]
     },
     "execution_count": 37,
     "metadata": {},
     "output_type": "execute_result"
    }
   ],
   "source": [
    "num_stat(df_autos['registration_month'], 'График распределения по месяцам регистрации объявления','дата')"
   ]
  },
  {
   "cell_type": "markdown",
   "metadata": {},
   "source": [
    "Вцелом объявления размещаются равномерно."
   ]
  },
  {
   "cell_type": "code",
   "execution_count": 38,
   "metadata": {},
   "outputs": [
    {
     "data": {
      "image/png": "[encoded data removed]",
      "text/plain": [
       "<Figure size 1440x720 with 1 Axes>"
      ]
     },
     "metadata": {
      "needs_background": "light"
     },
     "output_type": "display_data"
    },
    {
     "data": {
      "image/png": "[encoded data removed]",
      "text/plain": [
       "<Figure size 720x720 with 1 Axes>"
      ]
     },
     "metadata": {
      "needs_background": "light"
     },
     "output_type": "display_data"
    },
    {
     "data": {
      "text/plain": [
       "count    329587.0\n",
       "mean          0.0\n",
       "std           0.0\n",
       "min           0.0\n",
       "25%           0.0\n",
       "50%           0.0\n",
       "75%           0.0\n",
       "max           0.0\n",
       "Name: number_of_pictures, dtype: float64"
      ]
     },
     "execution_count": 38,
     "metadata": {},
     "output_type": "execute_result"
    }
   ],
   "source": [
    "num_stat(df_autos['number_of_pictures'], 'График распределения по количеству изображений в объявления','дата')"
   ]
  },
  {
   "cell_type": "code",
   "execution_count": 39,
   "metadata": {},
   "outputs": [
    {
     "data": {
      "text/plain": [
       "0    329587\n",
       "Name: number_of_pictures, dtype: int64"
      ]
     },
     "execution_count": 39,
     "metadata": {},
     "output_type": "execute_result"
    }
   ],
   "source": [
    "df_autos['number_of_pictures'].value_counts()"
   ]
  },
  {
   "cell_type": "markdown",
   "metadata": {},
   "source": [
    "Похоже картинок нет ни у одного объявления, возможно какой то технический сбой."
   ]
  },
  {
   "cell_type": "code",
   "execution_count": 40,
   "metadata": {},
   "outputs": [
    {
     "data": {
      "text/plain": [
       "sedan          109278\n",
       "small           77982\n",
       "wagon           63653\n",
       "bus             28330\n",
       "convertible     19857\n",
       "coupe           15624\n",
       "suv             11785\n",
       "other            3078\n",
       "Name: vehicle_type, dtype: int64"
      ]
     },
     "execution_count": 40,
     "metadata": {},
     "output_type": "execute_result"
    }
   ],
   "source": [
    "df_autos['vehicle_type'].value_counts()"
   ]
  },
  {
   "cell_type": "code",
   "execution_count": 41,
   "metadata": {},
   "outputs": [
    {
     "data": {
      "image/png": "[encoded data removed]",
      "text/plain": [
       "<Figure size 576x432 with 1 Axes>"
      ]
     },
     "metadata": {},
     "output_type": "display_data"
    },
    {
     "data": {
      "text/plain": [
       "sedan          109278\n",
       "small           77982\n",
       "wagon           63653\n",
       "bus             28330\n",
       "convertible     19857\n",
       "coupe           15624\n",
       "suv             11785\n",
       "other            3078\n",
       "Name: vehicle_type, dtype: int64"
      ]
     },
     "execution_count": 41,
     "metadata": {},
     "output_type": "execute_result"
    }
   ],
   "source": [
    "category_stat (df_autos['vehicle_type'], 'Распределение по типу авто в объявлениях')"
   ]
  },
  {
   "cell_type": "markdown",
   "metadata": {},
   "source": [
    "Самый популярный тип продаваемого автомобиля - седан."
   ]
  },
  {
   "cell_type": "code",
   "execution_count": 42,
   "metadata": {},
   "outputs": [
    {
     "data": {
      "image/png": "[encoded data removed]",
      "text/plain": [
       "<Figure size 576x432 with 1 Axes>"
      ]
     },
     "metadata": {},
     "output_type": "display_data"
    },
    {
     "data": {
      "text/plain": [
       "golf                  42345\n",
       "other                 23173\n",
       "3er                   18665\n",
       "polo                  12024\n",
       "corsa                 11587\n",
       "astra                 10019\n",
       "passat                 9557\n",
       "a4                     9439\n",
       "c_klasse               7978\n",
       "5er                    7525\n",
       "e_klasse               6483\n",
       "a3                     5679\n",
       "focus                  5517\n",
       "fiesta                 5437\n",
       "a6                     5258\n",
       "2_reihe                4646\n",
       "transporter            4534\n",
       "twingo                 4523\n",
       "fortwo                 4153\n",
       "vectra                 3936\n",
       "a_klasse               3860\n",
       "1er                    3400\n",
       "mondeo                 3393\n",
       "3_reihe                3305\n",
       "clio                   3275\n",
       "touran                 3228\n",
       "punto                  3042\n",
       "zafira                 2805\n",
       "megane                 2692\n",
       "ka                     2514\n",
       "ibiza                  2504\n",
       "lupo                   2410\n",
       "octavia                2049\n",
       "fabia                  2013\n",
       "cooper                 1884\n",
       "clk                    1732\n",
       "micra                  1634\n",
       "x_reihe                1540\n",
       "80                     1473\n",
       "caddy                  1462\n",
       "sharan                 1380\n",
       "scenic                 1319\n",
       "omega                  1295\n",
       "laguna                 1271\n",
       "6_reihe                1234\n",
       "civic                  1228\n",
       "leon                   1226\n",
       "1_reihe                1225\n",
       "i_reihe                1201\n",
       "slk                    1200\n",
       "galaxy                 1068\n",
       "tt                     1035\n",
       "mx_reihe                991\n",
       "yaris                   990\n",
       "meriva                  986\n",
       "7er                     954\n",
       "m_klasse                925\n",
       "500                     896\n",
       "one                     851\n",
       "kangoo                  844\n",
       "vito                    838\n",
       "s_klasse                833\n",
       "bora                    829\n",
       "b_klasse                825\n",
       "arosa                   820\n",
       "escort                  812\n",
       "colt                    809\n",
       "beetle                  772\n",
       "berlingo                758\n",
       "tigra                   723\n",
       "v40                     717\n",
       "fox                     709\n",
       "sprinter                704\n",
       "z_reihe                 702\n",
       "transit                 696\n",
       "swift                   664\n",
       "corolla                 650\n",
       "tiguan                  644\n",
       "c_max                   641\n",
       "panda                   630\n",
       "insignia                621\n",
       "4_reihe                 615\n",
       "v70                     612\n",
       "seicento                611\n",
       "156                     590\n",
       "a1                      582\n",
       "scirocco                578\n",
       "primera                 573\n",
       "touareg                 559\n",
       "avensis                 556\n",
       "grand                   547\n",
       "stilo                   547\n",
       "espace                  546\n",
       "almera                  537\n",
       "147                     531\n",
       "a5                      528\n",
       "qashqai                 519\n",
       "eos                     503\n",
       "a8                      499\n",
       "c3                      485\n",
       "c5                      469\n",
       "signum                  461\n",
       "c4                      429\n",
       "5_reihe                 428\n",
       "s_max                   421\n",
       "matiz                   419\n",
       "kaefer                  407\n",
       "aygo                    407\n",
       "ducato                  403\n",
       "agila                   401\n",
       "100                     392\n",
       "sl                      391\n",
       "getz                    390\n",
       "carisma                 386\n",
       "combo                   380\n",
       "c1                      378\n",
       "cordoba                 371\n",
       "c2                      369\n",
       "forfour                 361\n",
       "superb                  356\n",
       "a2                      354\n",
       "601                     354\n",
       "cuore                   353\n",
       "picanto                 346\n",
       "altea                   346\n",
       "alhambra                340\n",
       "rav                     339\n",
       "up                      339\n",
       "jetta                   336\n",
       "accord                  335\n",
       "rio                     327\n",
       "sorento                 327\n",
       "cr_reihe                320\n",
       "kuga                    314\n",
       "logan                   313\n",
       "kadett                  309\n",
       "voyager                 303\n",
       "modus                   301\n",
       "santa                   300\n",
       "doblo                   298\n",
       "verso                   296\n",
       "vivaro                  294\n",
       "jazz                    291\n",
       "toledo                  291\n",
       "bravo                   287\n",
       "fusion                  287\n",
       "ptcruiser               282\n",
       "sandero                 279\n",
       "xc_reihe                264\n",
       "carnival                261\n",
       "roomster                259\n",
       "viano                   250\n",
       "v50                     246\n",
       "ceed                    241\n",
       "sportage                241\n",
       "galant                  236\n",
       "tucson                  224\n",
       "auris                   224\n",
       "cayenne                 224\n",
       "boxster                 219\n",
       "cl                      216\n",
       "lancer                  211\n",
       "impreza                 209\n",
       "freelander              208\n",
       "jimny                   206\n",
       "phaeton                 204\n",
       "159                     204\n",
       "x_trail                 203\n",
       "850                     202\n",
       "q7                      200\n",
       "duster                  199\n",
       "pajero                  196\n",
       "clubman                 195\n",
       "ypsilon                 191\n",
       "c_reihe                 188\n",
       "spider                  186\n",
       "calibra                 182\n",
       "roadster                177\n",
       "yeti                    172\n",
       "mustang                 170\n",
       "x_type                  168\n",
       "captiva                 164\n",
       "legacy                  156\n",
       "cherokee                152\n",
       "6er                     143\n",
       "s60                     142\n",
       "v_klasse                141\n",
       "justy                   136\n",
       "sirion                  134\n",
       "300c                    134\n",
       "rx_reihe                133\n",
       "cc                      130\n",
       "niva                    124\n",
       "s_type                  122\n",
       "forester                122\n",
       "m_reihe                 120\n",
       "note                    120\n",
       "spark                   119\n",
       "outlander               115\n",
       "900                     114\n",
       "r19                     111\n",
       "aveo                    110\n",
       "antara                  104\n",
       "exeo                     98\n",
       "wrangler                 98\n",
       "juke                     98\n",
       "q5                       97\n",
       "kalos                    92\n",
       "citigo                   90\n",
       "g_klasse                 90\n",
       "navara                   90\n",
       "90                       89\n",
       "mii                      81\n",
       "discovery                78\n",
       "lanos                    77\n",
       "range_rover              75\n",
       "defender                 74\n",
       "911                      72\n",
       "glk                      63\n",
       "crossfire                63\n",
       "cx_reihe                 63\n",
       "nubira                   59\n",
       "range_rover_sport        54\n",
       "lybra                    50\n",
       "move                     48\n",
       "145                      42\n",
       "v60                      41\n",
       "croma                    40\n",
       "terios                   35\n",
       "lodgy                    35\n",
       "delta                    31\n",
       "charade                  26\n",
       "b_max                    26\n",
       "9000                     24\n",
       "musa                     22\n",
       "materia                  18\n",
       "200                      17\n",
       "kappa                    15\n",
       "q3                       13\n",
       "gl                       12\n",
       "amarok                   12\n",
       "samara                   12\n",
       "elefantino                8\n",
       "i3                        8\n",
       "serie_2                   7\n",
       "kalina                    6\n",
       "serie_3                   3\n",
       "rangerover                3\n",
       "range_rover_evoque        2\n",
       "serie_1                   1\n",
       "Name: model, dtype: int64"
      ]
     },
     "execution_count": 42,
     "metadata": {},
     "output_type": "execute_result"
    }
   ],
   "source": [
    "category_stat (df_autos['model'], 'Распределение по модели авто в объявлениях')"
   ]
  },
  {
   "cell_type": "markdown",
   "metadata": {},
   "source": [
    "самой популярной продаваемой моделью является VW Golf"
   ]
  },
  {
   "cell_type": "code",
   "execution_count": 43,
   "metadata": {
    "scrolled": true
   },
   "outputs": [
    {
     "data": {
      "image/png": "[encoded data removed]",
      "text/plain": [
       "<Figure size 576x432 with 1 Axes>"
      ]
     },
     "metadata": {},
     "output_type": "display_data"
    },
    {
     "data": {
      "text/plain": [
       "volkswagen        70783\n",
       "opel              36663\n",
       "bmw               34745\n",
       "mercedes_benz     30329\n",
       "audi              27630\n",
       "ford              23493\n",
       "renault           16421\n",
       "peugeot           10423\n",
       "fiat               8871\n",
       "seat               6355\n",
       "skoda              5298\n",
       "mazda              5255\n",
       "smart              4962\n",
       "citroen            4799\n",
       "nissan             4618\n",
       "toyota             4393\n",
       "hyundai            3398\n",
       "mini               3058\n",
       "volvo              3055\n",
       "mitsubishi         2815\n",
       "sonstige_autos     2712\n",
       "honda              2592\n",
       "kia                2306\n",
       "suzuki             2200\n",
       "alfa_romeo         2155\n",
       "chevrolet          1654\n",
       "chrysler           1325\n",
       "dacia               865\n",
       "daihatsu            749\n",
       "porsche             724\n",
       "subaru              717\n",
       "jeep                633\n",
       "land_rover          526\n",
       "daewoo              504\n",
       "saab                504\n",
       "jaguar              488\n",
       "trabant             487\n",
       "lancia              438\n",
       "rover               437\n",
       "lada                207\n",
       "Name: brand, dtype: int64"
      ]
     },
     "execution_count": 43,
     "metadata": {},
     "output_type": "execute_result"
    }
   ],
   "source": [
    "category_stat (df_autos['brand'], 'Распределение по бренду авто в объявлениях')"
   ]
  },
  {
   "cell_type": "markdown",
   "metadata": {},
   "source": [
    "Бренды возглавляет также  volkswagen"
   ]
  },
  {
   "cell_type": "code",
   "execution_count": 44,
   "metadata": {},
   "outputs": [
    {
     "data": {
      "image/png": "[encoded data removed]",
      "text/plain": [
       "<Figure size 576x432 with 1 Axes>"
      ]
     },
     "metadata": {},
     "output_type": "display_data"
    },
    {
     "data": {
      "text/plain": [
       "petrol      323565\n",
       "lpg           5021\n",
       "cng            531\n",
       "hybrid         220\n",
       "other          163\n",
       "electric        87\n",
       "Name: fuel_type, dtype: int64"
      ]
     },
     "execution_count": 44,
     "metadata": {},
     "output_type": "execute_result"
    }
   ],
   "source": [
    "category_stat (df_autos['fuel_type'], 'Распределение по типу топлива авто в объявлениях')"
   ]
  },
  {
   "cell_type": "markdown",
   "metadata": {},
   "source": [
    "Cильный перевес в сторону использования 'petrol' (бензина)"
   ]
  },
  {
   "cell_type": "code",
   "execution_count": 45,
   "metadata": {},
   "outputs": [
    {
     "data": {
      "image/png": "[encoded data removed]",
      "text/plain": [
       "<Figure size 576x432 with 1 Axes>"
      ]
     },
     "metadata": {},
     "output_type": "display_data"
    },
    {
     "data": {
      "text/plain": [
       "no     296647\n",
       "yes     32940\n",
       "Name: repaired, dtype: int64"
      ]
     },
     "execution_count": 45,
     "metadata": {},
     "output_type": "execute_result"
    }
   ],
   "source": [
    "category_stat (df_autos['repaired'], 'Распределение по ремонту авто в объявлениях')"
   ]
  },
  {
   "cell_type": "markdown",
   "metadata": {},
   "source": [
    "- большинство авто не было в ремонте "
   ]
  },
  {
   "cell_type": "markdown",
   "metadata": {},
   "source": [
    "### Корреляционный анализ"
   ]
  },
  {
   "cell_type": "code",
   "execution_count": 46,
   "metadata": {},
   "outputs": [],
   "source": [
    "# функция расчета корреляционной матрицы (коэффициент фи)\n",
    "def corr_matrix(df,title,interval_cols):\n",
    "    phik_matrix = df.phik_matrix(interval_cols=interval_cols)\n",
    "    plt.figure(figsize=(16, 12))\n",
    "    sns.heatmap(\n",
    "        phik_matrix,          \n",
    "        annot=True,          \n",
    "        fmt=\".2f\",          \n",
    "        cmap=\"Blues\",       \n",
    "        linewidths=0.5,        \n",
    "        cbar_kws={'label': 'Коэффициент корреляции'} \n",
    "    )\n",
    "    plt.title(title, fontsize=16)\n",
    "    plt.tight_layout()\n",
    "    plt.show()"
   ]
  },
  {
   "cell_type": "code",
   "execution_count": 47,
   "metadata": {},
   "outputs": [],
   "source": [
    "df_autos_corr = df_autos.drop(['date_crawled', 'date_created', 'last_seen', 'number_of_pictures'], axis=1)\n",
    "\n",
    "interval_cols = [\n",
    "    'price',\n",
    "    'power',\n",
    "    'kilometer'\n",
    "]"
   ]
  },
  {
   "cell_type": "code",
   "execution_count": 48,
   "metadata": {},
   "outputs": [
    {
     "data": {
      "image/png": "[encoded data removed]",
      "text/plain": [
       "<Figure size 1152x864 with 2 Axes>"
      ]
     },
     "metadata": {
      "needs_background": "light"
     },
     "output_type": "display_data"
    }
   ],
   "source": [
    "corr_matrix(df_autos_corr,\"Корреляционная матрица признаков df_autos_corr \",interval_cols)"
   ]
  },
  {
   "cell_type": "markdown",
   "metadata": {},
   "source": [
    "**Взаимосвязь целевого признака с факторами**\n",
    "\n",
    "- анализ выявил умеренно-сильную положительную корреляцию (0,5-0,8) между ценой автомобиля и рядом характеристик:\n",
    "  - модель автомобиля (коэффициент 0,58) – закономерная зависимость, поскольку различные модели позиционируются в разных ценовых сегментах\n",
    "  - год регистрации – более новые автомобили естественным образом имеют более высокую стоимость на рынке\n",
    "\n",
    "- обнаружена существенная взаимосвязь между:\n",
    "  - маркой автомобиля и такими параметрами как тип кузова, коробка передач и мощность двигателя\n",
    "  - особенно высокая корреляция (0,9) наблюдается между моделью и типом кузова – что логично, поскольку определенные модели выпускаются только в специфических типах кузова\n",
    "  - почтовый индекс демонстрирует минимальную корреляцию с остальными признаками и может быть исключен из анализа."
   ]
  },
  {
   "cell_type": "markdown",
   "metadata": {},
   "source": [
    "**результаты предварительной обработки:**\n",
    "\n",
    "- удалены 171 запись с нереалистичными годами регистрации (до 1886 и после 2016)\n",
    "- выявлен тренд указывать нулевую мощность для уклонения от налогов (11,32% записей)\n",
    "- нулевые значения мощности заменены на медианы для соответствующих марок и моделей\n",
    "- аналогично обработаны аномально высокие значения мощности (>1500 л.с.)\n",
    "- устранены оставшиеся пропуски в данных о мощности двигателя\n",
    "\n",
    "**распределение категориальных признаков:**\n",
    "\n",
    "- среди типов кузова преобладает седан (36,4%)\n",
    "- по моделям лидирует Volkswagen Golf\n",
    "- Volkswagen также занимает первое место среди брендов\n",
    "- большинство автомобилей (70,3%) работают на бензине (petrol)\n",
    "- доминирующая часть машин (89,8%) не проходила ремонт на момент продажи\n",
    "\n",
    "**Выводы для моделирования:**\n",
    "\n",
    "- сильная линейная зависимость между признаком model и другими переменными может снизить устойчивость коэффициентов в линейных моделях\n",
    "- такие модели, вероятно, покажут худшие результаты по сравнению с альтернативными алгоритмами\n",
    "Аналогичные проблемы могут возникнуть из-за других выявленных сильных линейных зависимостей между признаками"
   ]
  },
  {
   "cell_type": "markdown",
   "metadata": {},
   "source": [
    "## Обучение моделей"
   ]
  },
  {
   "cell_type": "markdown",
   "metadata": {},
   "source": [
    "### Подготовка датасета"
   ]
  },
  {
   "cell_type": "markdown",
   "metadata": {},
   "source": [
    "Необходимо избавиться от следующих признаков:\n",
    " - number_of_pictures - эта колонка по какой то причине не заполнена,она не повлияет на обучение моделей\n",
    " - date_crawled, date_created, last_seen - даты объявления, которые также окажут небольшое влияние\n",
    " - postal_code - низко влияющий признак на целевой\n",
    " - vehicle_type - один из признаков которые могут давать мультиколлинеарность, но меньше влияющий на целевой"
   ]
  },
  {
   "cell_type": "code",
   "execution_count": 49,
   "metadata": {},
   "outputs": [
    {
     "data": {
      "text/html": [
       "<div>\n",
       "<style scoped>\n",
       "    .dataframe tbody tr th:only-of-type {\n",
       "        vertical-align: middle;\n",
       "    }\n",
       "\n",
       "    .dataframe tbody tr th {\n",
       "        vertical-align: top;\n",
       "    }\n",
       "\n",
       "    .dataframe thead th {\n",
       "        text-align: right;\n",
       "    }\n",
       "</style>\n",
       "<table border=\"1\" class=\"dataframe\">\n",
       "  <thead>\n",
       "    <tr style=\"text-align: right;\">\n",
       "      <th></th>\n",
       "      <th>price</th>\n",
       "      <th>registration_year</th>\n",
       "      <th>gearbox</th>\n",
       "      <th>power</th>\n",
       "      <th>model</th>\n",
       "      <th>kilometer</th>\n",
       "      <th>registration_month</th>\n",
       "      <th>fuel_type</th>\n",
       "      <th>brand</th>\n",
       "      <th>repaired</th>\n",
       "    </tr>\n",
       "  </thead>\n",
       "  <tbody>\n",
       "    <tr>\n",
       "      <th>0</th>\n",
       "      <td>480</td>\n",
       "      <td>1993</td>\n",
       "      <td>manual</td>\n",
       "      <td>101.0</td>\n",
       "      <td>golf</td>\n",
       "      <td>150000</td>\n",
       "      <td>0</td>\n",
       "      <td>petrol</td>\n",
       "      <td>volkswagen</td>\n",
       "      <td>no</td>\n",
       "    </tr>\n",
       "    <tr>\n",
       "      <th>1</th>\n",
       "      <td>18300</td>\n",
       "      <td>2011</td>\n",
       "      <td>manual</td>\n",
       "      <td>190.0</td>\n",
       "      <td>golf</td>\n",
       "      <td>125000</td>\n",
       "      <td>5</td>\n",
       "      <td>petrol</td>\n",
       "      <td>audi</td>\n",
       "      <td>yes</td>\n",
       "    </tr>\n",
       "    <tr>\n",
       "      <th>2</th>\n",
       "      <td>9800</td>\n",
       "      <td>2004</td>\n",
       "      <td>auto</td>\n",
       "      <td>163.0</td>\n",
       "      <td>grand</td>\n",
       "      <td>125000</td>\n",
       "      <td>8</td>\n",
       "      <td>petrol</td>\n",
       "      <td>jeep</td>\n",
       "      <td>no</td>\n",
       "    </tr>\n",
       "    <tr>\n",
       "      <th>3</th>\n",
       "      <td>1500</td>\n",
       "      <td>2001</td>\n",
       "      <td>manual</td>\n",
       "      <td>75.0</td>\n",
       "      <td>golf</td>\n",
       "      <td>150000</td>\n",
       "      <td>6</td>\n",
       "      <td>petrol</td>\n",
       "      <td>volkswagen</td>\n",
       "      <td>no</td>\n",
       "    </tr>\n",
       "    <tr>\n",
       "      <th>4</th>\n",
       "      <td>3600</td>\n",
       "      <td>2008</td>\n",
       "      <td>manual</td>\n",
       "      <td>69.0</td>\n",
       "      <td>fabia</td>\n",
       "      <td>90000</td>\n",
       "      <td>7</td>\n",
       "      <td>petrol</td>\n",
       "      <td>skoda</td>\n",
       "      <td>no</td>\n",
       "    </tr>\n",
       "  </tbody>\n",
       "</table>\n",
       "</div>"
      ],
      "text/plain": [
       "   price  registration_year gearbox  power  model  kilometer  \\\n",
       "0    480               1993  manual  101.0   golf     150000   \n",
       "1  18300               2011  manual  190.0   golf     125000   \n",
       "2   9800               2004    auto  163.0  grand     125000   \n",
       "3   1500               2001  manual   75.0   golf     150000   \n",
       "4   3600               2008  manual   69.0  fabia      90000   \n",
       "\n",
       "   registration_month fuel_type       brand repaired  \n",
       "0                   0    petrol  volkswagen       no  \n",
       "1                   5    petrol        audi      yes  \n",
       "2                   8    petrol        jeep       no  \n",
       "3                   6    petrol  volkswagen       no  \n",
       "4                   7    petrol       skoda       no  "
      ]
     },
     "execution_count": 49,
     "metadata": {},
     "output_type": "execute_result"
    }
   ],
   "source": [
    "df_autos_ml = df_autos.drop(['number_of_pictures',\n",
    "                                 'date_crawled',\n",
    "                                 'date_created',\n",
    "                                 'last_seen',\n",
    "                                 'postal_code',\n",
    "                                 'vehicle_type'\n",
    "                                 ], axis=1)\n",
    "\n",
    "df_autos_ml.head()"
   ]
  },
  {
   "cell_type": "code",
   "execution_count": 50,
   "metadata": {},
   "outputs": [
    {
     "name": "stdout",
     "output_type": "stream",
     "text": [
      "X_train: (247190, 9)\n",
      "X_test: (82397, 9)\n",
      "y_train: (247190,)\n",
      "y_test: (82397,)\n"
     ]
    },
    {
     "data": {
      "text/html": [
       "<div>\n",
       "<style scoped>\n",
       "    .dataframe tbody tr th:only-of-type {\n",
       "        vertical-align: middle;\n",
       "    }\n",
       "\n",
       "    .dataframe tbody tr th {\n",
       "        vertical-align: top;\n",
       "    }\n",
       "\n",
       "    .dataframe thead th {\n",
       "        text-align: right;\n",
       "    }\n",
       "</style>\n",
       "<table border=\"1\" class=\"dataframe\">\n",
       "  <thead>\n",
       "    <tr style=\"text-align: right;\">\n",
       "      <th></th>\n",
       "      <th>registration_year</th>\n",
       "      <th>gearbox</th>\n",
       "      <th>power</th>\n",
       "      <th>model</th>\n",
       "      <th>kilometer</th>\n",
       "      <th>registration_month</th>\n",
       "      <th>fuel_type</th>\n",
       "      <th>brand</th>\n",
       "      <th>repaired</th>\n",
       "    </tr>\n",
       "  </thead>\n",
       "  <tbody>\n",
       "    <tr>\n",
       "      <th>170794</th>\n",
       "      <td>2004</td>\n",
       "      <td>manual</td>\n",
       "      <td>69.0</td>\n",
       "      <td>other</td>\n",
       "      <td>150000</td>\n",
       "      <td>9</td>\n",
       "      <td>petrol</td>\n",
       "      <td>suzuki</td>\n",
       "      <td>no</td>\n",
       "    </tr>\n",
       "  </tbody>\n",
       "</table>\n",
       "</div>"
      ],
      "text/plain": [
       "        registration_year gearbox  power  model  kilometer  \\\n",
       "170794               2004  manual   69.0  other     150000   \n",
       "\n",
       "        registration_month fuel_type   brand repaired  \n",
       "170794                   9    petrol  suzuki       no  "
      ]
     },
     "metadata": {},
     "output_type": "display_data"
    },
    {
     "data": {
      "text/html": [
       "<div>\n",
       "<style scoped>\n",
       "    .dataframe tbody tr th:only-of-type {\n",
       "        vertical-align: middle;\n",
       "    }\n",
       "\n",
       "    .dataframe tbody tr th {\n",
       "        vertical-align: top;\n",
       "    }\n",
       "\n",
       "    .dataframe thead th {\n",
       "        text-align: right;\n",
       "    }\n",
       "</style>\n",
       "<table border=\"1\" class=\"dataframe\">\n",
       "  <thead>\n",
       "    <tr style=\"text-align: right;\">\n",
       "      <th></th>\n",
       "      <th>registration_year</th>\n",
       "      <th>gearbox</th>\n",
       "      <th>power</th>\n",
       "      <th>model</th>\n",
       "      <th>kilometer</th>\n",
       "      <th>registration_month</th>\n",
       "      <th>fuel_type</th>\n",
       "      <th>brand</th>\n",
       "      <th>repaired</th>\n",
       "    </tr>\n",
       "  </thead>\n",
       "  <tbody>\n",
       "    <tr>\n",
       "      <th>195846</th>\n",
       "      <td>1997</td>\n",
       "      <td>manual</td>\n",
       "      <td>75.0</td>\n",
       "      <td>vectra</td>\n",
       "      <td>150000</td>\n",
       "      <td>0</td>\n",
       "      <td>petrol</td>\n",
       "      <td>opel</td>\n",
       "      <td>no</td>\n",
       "    </tr>\n",
       "  </tbody>\n",
       "</table>\n",
       "</div>"
      ],
      "text/plain": [
       "        registration_year gearbox  power   model  kilometer  \\\n",
       "195846               1997  manual   75.0  vectra     150000   \n",
       "\n",
       "        registration_month fuel_type brand repaired  \n",
       "195846                   0    petrol  opel       no  "
      ]
     },
     "metadata": {},
     "output_type": "display_data"
    },
    {
     "data": {
      "text/plain": [
       "170794    900\n",
       "Name: price, dtype: int64"
      ]
     },
     "metadata": {},
     "output_type": "display_data"
    },
    {
     "data": {
      "text/plain": [
       "195846    250\n",
       "Name: price, dtype: int64"
      ]
     },
     "metadata": {},
     "output_type": "display_data"
    }
   ],
   "source": [
    "X = df_autos_ml.drop('price', axis=1)\n",
    "y = df_autos_ml['price']\n",
    "X_train, X_test, y_train, y_test = train_test_split(\n",
    "    X, y, test_size=TEST_SIZE, random_state=RANDOM_STATE)\n",
    "\n",
    "print(f'X_train: {X_train.shape}')\n",
    "print(f'X_test: {X_test.shape}')\n",
    "print(f'y_train: {y_train.shape}')\n",
    "print(f'y_test: {y_test.shape}')\n",
    "display(X_train.head(1))\n",
    "display(X_test.head(1))\n",
    "display(y_train.head(1))\n",
    "display(y_test.head(1))"
   ]
  },
  {
   "cell_type": "markdown",
   "metadata": {},
   "source": [
    "###  Пайплайн предобрботки"
   ]
  },
  {
   "cell_type": "code",
   "execution_count": 51,
   "metadata": {},
   "outputs": [],
   "source": [
    "categorical_columns = ['gearbox', 'model', 'fuel_type', 'brand', 'repaired']\n",
    "numerical_columns = ['registration_year', 'power', 'kilometer', 'registration_month']"
   ]
  },
  {
   "cell_type": "code",
   "execution_count": 52,
   "metadata": {},
   "outputs": [],
   "source": [
    "# пайплайн для числовых признаков с обработкой пропущенных значений\n",
    "num_pipe = Pipeline([\n",
    "    ('imputer', SimpleImputer(strategy='median')),\n",
    "    ('scaler', StandardScaler())\n",
    "])\n",
    "\n",
    "# пайплайн для категориальных признаков (one-hot encoding) для линейных моделей\n",
    "ohe_pipe = Pipeline([\n",
    "    ('ohe', OneHotEncoder(drop='first', handle_unknown='ignore', sparse_output=False))\n",
    "])\n",
    "\n",
    "# пайплайн для категориальных признаков (ordinal encoding) для древовидных моделей\n",
    "ord_pipe = Pipeline([\n",
    "    ('ord', OrdinalEncoder(handle_unknown='use_encoded_value', unknown_value=np.nan)),\n",
    "    ('imputer', SimpleImputer(strategy='most_frequent'))\n",
    "])\n",
    "\n",
    "# Preprocessor для линейных моделей\n",
    "data_preprocessor_lin = ColumnTransformer(\n",
    "    [\n",
    "        ('categorical', ohe_pipe, categorical_columns),\n",
    "        ('numerical', num_pipe, numerical_columns)\n",
    "    ],\n",
    "    remainder='passthrough'\n",
    ")\n",
    "\n",
    "# Preprocessor для древовидных моделей\n",
    "data_preprocessor_tree = ColumnTransformer(\n",
    "    [\n",
    "        ('categorical', ord_pipe, categorical_columns),\n",
    "        ('numerical', num_pipe, numerical_columns)\n",
    "    ],\n",
    "    remainder='passthrough'\n",
    ")\n",
    "\n",
    "# итоговые пайплайны\n",
    "pipe_final_lin = Pipeline([\n",
    "    ('preprocessor', data_preprocessor_lin),\n",
    "    ('model', LinearRegression())\n",
    "])\n",
    "\n",
    "pipe_final_tree = Pipeline([\n",
    "    ('preprocessor', data_preprocessor_tree),\n",
    "    ('model', RandomForestRegressor(random_state=RANDOM_STATE))\n",
    "])\n",
    "\n",
    "\n",
    "X_train_processed_lin = data_preprocessor_lin.fit_transform(X_train)\n",
    "X_test_processed_lin = data_preprocessor_lin.transform(X_test)\n",
    "X_train_processed_tree = data_preprocessor_tree.fit_transform(X_train)\n",
    "X_test_processed_tree = data_preprocessor_tree.transform(X_test)\n",
    "\n",
    "ohe_columns = categorical_columns\n",
    "ord_columns = categorical_columns\n",
    "num_columns = numerical_columns"
   ]
  },
  {
   "cell_type": "markdown",
   "metadata": {},
   "source": [
    "#### LinearRegression"
   ]
  },
  {
   "cell_type": "code",
   "execution_count": 53,
   "metadata": {},
   "outputs": [],
   "source": [
    "lin_reg = pipe_final_lin"
   ]
  },
  {
   "cell_type": "code",
   "execution_count": 54,
   "metadata": {},
   "outputs": [
    {
     "name": "stdout",
     "output_type": "stream",
     "text": [
      "CPU times: user 17.4 s, sys: 3.86 s, total: 21.3 s\n",
      "Wall time: 21.4 s\n"
     ]
    },
    {
     "data": {
      "text/html": [
       "<style>#sk-container-id-1 {\n",
       "  /* Definition of color scheme common for light and dark mode */\n",
       "  --sklearn-color-text: #000;\n",
       "  --sklearn-color-text-muted: #666;\n",
       "  --sklearn-color-line: gray;\n",
       "  /* Definition of color scheme for unfitted estimators */\n",
       "  --sklearn-color-unfitted-level-0: #fff5e6;\n",
       "  --sklearn-color-unfitted-level-1: #f6e4d2;\n",
       "  --sklearn-color-unfitted-level-2: #ffe0b3;\n",
       "  --sklearn-color-unfitted-level-3: chocolate;\n",
       "  /* Definition of color scheme for fitted estimators */\n",
       "  --sklearn-color-fitted-level-0: #f0f8ff;\n",
       "  --sklearn-color-fitted-level-1: #d4ebff;\n",
       "  --sklearn-color-fitted-level-2: #b3dbfd;\n",
       "  --sklearn-color-fitted-level-3: cornflowerblue;\n",
       "\n",
       "  /* Specific color for light theme */\n",
       "  --sklearn-color-text-on-default-background: var(--sg-text-color, var(--theme-code-foreground, var(--jp-content-font-color1, black)));\n",
       "  --sklearn-color-background: var(--sg-background-color, var(--theme-background, var(--jp-layout-color0, white)));\n",
       "  --sklearn-color-border-box: var(--sg-text-color, var(--theme-code-foreground, var(--jp-content-font-color1, black)));\n",
       "  --sklearn-color-icon: #696969;\n",
       "\n",
       "  @media (prefers-color-scheme: dark) {\n",
       "    /* Redefinition of color scheme for dark theme */\n",
       "    --sklearn-color-text-on-default-background: var(--sg-text-color, var(--theme-code-foreground, var(--jp-content-font-color1, white)));\n",
       "    --sklearn-color-background: var(--sg-background-color, var(--theme-background, var(--jp-layout-color0, #111)));\n",
       "    --sklearn-color-border-box: var(--sg-text-color, var(--theme-code-foreground, var(--jp-content-font-color1, white)));\n",
       "    --sklearn-color-icon: #878787;\n",
       "  }\n",
       "}\n",
       "\n",
       "#sk-container-id-1 {\n",
       "  color: var(--sklearn-color-text);\n",
       "}\n",
       "\n",
       "#sk-container-id-1 pre {\n",
       "  padding: 0;\n",
       "}\n",
       "\n",
       "#sk-container-id-1 input.sk-hidden--visually {\n",
       "  border: 0;\n",
       "  clip: rect(1px 1px 1px 1px);\n",
       "  clip: rect(1px, 1px, 1px, 1px);\n",
       "  height: 1px;\n",
       "  margin: -1px;\n",
       "  overflow: hidden;\n",
       "  padding: 0;\n",
       "  position: absolute;\n",
       "  width: 1px;\n",
       "}\n",
       "\n",
       "#sk-container-id-1 div.sk-dashed-wrapped {\n",
       "  border: 1px dashed var(--sklearn-color-line);\n",
       "  margin: 0 0.4em 0.5em 0.4em;\n",
       "  box-sizing: border-box;\n",
       "  padding-bottom: 0.4em;\n",
       "  background-color: var(--sklearn-color-background);\n",
       "}\n",
       "\n",
       "#sk-container-id-1 div.sk-container {\n",
       "  /* jupyter's `normalize.less` sets `[hidden] { display: none; }`\n",
       "     but bootstrap.min.css set `[hidden] { display: none !important; }`\n",
       "     so we also need the `!important` here to be able to override the\n",
       "     default hidden behavior on the sphinx rendered scikit-learn.org.\n",
       "     See: https://github.com/scikit-learn/scikit-learn/issues/21755 */\n",
       "  display: inline-block !important;\n",
       "  position: relative;\n",
       "}\n",
       "\n",
       "#sk-container-id-1 div.sk-text-repr-fallback {\n",
       "  display: none;\n",
       "}\n",
       "\n",
       "div.sk-parallel-item,\n",
       "div.sk-serial,\n",
       "div.sk-item {\n",
       "  /* draw centered vertical line to link estimators */\n",
       "  background-image: linear-gradient(var(--sklearn-color-text-on-default-background), var(--sklearn-color-text-on-default-background));\n",
       "  background-size: 2px 100%;\n",
       "  background-repeat: no-repeat;\n",
       "  background-position: center center;\n",
       "}\n",
       "\n",
       "/* Parallel-specific style estimator block */\n",
       "\n",
       "#sk-container-id-1 div.sk-parallel-item::after {\n",
       "  content: \"\";\n",
       "  width: 100%;\n",
       "  border-bottom: 2px solid var(--sklearn-color-text-on-default-background);\n",
       "  flex-grow: 1;\n",
       "}\n",
       "\n",
       "#sk-container-id-1 div.sk-parallel {\n",
       "  display: flex;\n",
       "  align-items: stretch;\n",
       "  justify-content: center;\n",
       "  background-color: var(--sklearn-color-background);\n",
       "  position: relative;\n",
       "}\n",
       "\n",
       "#sk-container-id-1 div.sk-parallel-item {\n",
       "  display: flex;\n",
       "  flex-direction: column;\n",
       "}\n",
       "\n",
       "#sk-container-id-1 div.sk-parallel-item:first-child::after {\n",
       "  align-self: flex-end;\n",
       "  width: 50%;\n",
       "}\n",
       "\n",
       "#sk-container-id-1 div.sk-parallel-item:last-child::after {\n",
       "  align-self: flex-start;\n",
       "  width: 50%;\n",
       "}\n",
       "\n",
       "#sk-container-id-1 div.sk-parallel-item:only-child::after {\n",
       "  width: 0;\n",
       "}\n",
       "\n",
       "/* Serial-specific style estimator block */\n",
       "\n",
       "#sk-container-id-1 div.sk-serial {\n",
       "  display: flex;\n",
       "  flex-direction: column;\n",
       "  align-items: center;\n",
       "  background-color: var(--sklearn-color-background);\n",
       "  padding-right: 1em;\n",
       "  padding-left: 1em;\n",
       "}\n",
       "\n",
       "\n",
       "/* Toggleable style: style used for estimator/Pipeline/ColumnTransformer box that is\n",
       "clickable and can be expanded/collapsed.\n",
       "- Pipeline and ColumnTransformer use this feature and define the default style\n",
       "- Estimators will overwrite some part of the style using the `sk-estimator` class\n",
       "*/\n",
       "\n",
       "/* Pipeline and ColumnTransformer style (default) */\n",
       "\n",
       "#sk-container-id-1 div.sk-toggleable {\n",
       "  /* Default theme specific background. It is overwritten whether we have a\n",
       "  specific estimator or a Pipeline/ColumnTransformer */\n",
       "  background-color: var(--sklearn-color-background);\n",
       "}\n",
       "\n",
       "/* Toggleable label */\n",
       "#sk-container-id-1 label.sk-toggleable__label {\n",
       "  cursor: pointer;\n",
       "  display: flex;\n",
       "  width: 100%;\n",
       "  margin-bottom: 0;\n",
       "  padding: 0.5em;\n",
       "  box-sizing: border-box;\n",
       "  text-align: center;\n",
       "  align-items: start;\n",
       "  justify-content: space-between;\n",
       "  gap: 0.5em;\n",
       "}\n",
       "\n",
       "#sk-container-id-1 label.sk-toggleable__label .caption {\n",
       "  font-size: 0.6rem;\n",
       "  font-weight: lighter;\n",
       "  color: var(--sklearn-color-text-muted);\n",
       "}\n",
       "\n",
       "#sk-container-id-1 label.sk-toggleable__label-arrow:before {\n",
       "  /* Arrow on the left of the label */\n",
       "  content: \"▸\";\n",
       "  float: left;\n",
       "  margin-right: 0.25em;\n",
       "  color: var(--sklearn-color-icon);\n",
       "}\n",
       "\n",
       "#sk-container-id-1 label.sk-toggleable__label-arrow:hover:before {\n",
       "  color: var(--sklearn-color-text);\n",
       "}\n",
       "\n",
       "/* Toggleable content - dropdown */\n",
       "\n",
       "#sk-container-id-1 div.sk-toggleable__content {\n",
       "  max-height: 0;\n",
       "  max-width: 0;\n",
       "  overflow: hidden;\n",
       "  text-align: left;\n",
       "  /* unfitted */\n",
       "  background-color: var(--sklearn-color-unfitted-level-0);\n",
       "}\n",
       "\n",
       "#sk-container-id-1 div.sk-toggleable__content.fitted {\n",
       "  /* fitted */\n",
       "  background-color: var(--sklearn-color-fitted-level-0);\n",
       "}\n",
       "\n",
       "#sk-container-id-1 div.sk-toggleable__content pre {\n",
       "  margin: 0.2em;\n",
       "  border-radius: 0.25em;\n",
       "  color: var(--sklearn-color-text);\n",
       "  /* unfitted */\n",
       "  background-color: var(--sklearn-color-unfitted-level-0);\n",
       "}\n",
       "\n",
       "#sk-container-id-1 div.sk-toggleable__content.fitted pre {\n",
       "  /* unfitted */\n",
       "  background-color: var(--sklearn-color-fitted-level-0);\n",
       "}\n",
       "\n",
       "#sk-container-id-1 input.sk-toggleable__control:checked~div.sk-toggleable__content {\n",
       "  /* Expand drop-down */\n",
       "  max-height: 200px;\n",
       "  max-width: 100%;\n",
       "  overflow: auto;\n",
       "}\n",
       "\n",
       "#sk-container-id-1 input.sk-toggleable__control:checked~label.sk-toggleable__label-arrow:before {\n",
       "  content: \"▾\";\n",
       "}\n",
       "\n",
       "/* Pipeline/ColumnTransformer-specific style */\n",
       "\n",
       "#sk-container-id-1 div.sk-label input.sk-toggleable__control:checked~label.sk-toggleable__label {\n",
       "  color: var(--sklearn-color-text);\n",
       "  background-color: var(--sklearn-color-unfitted-level-2);\n",
       "}\n",
       "\n",
       "#sk-container-id-1 div.sk-label.fitted input.sk-toggleable__control:checked~label.sk-toggleable__label {\n",
       "  background-color: var(--sklearn-color-fitted-level-2);\n",
       "}\n",
       "\n",
       "/* Estimator-specific style */\n",
       "\n",
       "/* Colorize estimator box */\n",
       "#sk-container-id-1 div.sk-estimator input.sk-toggleable__control:checked~label.sk-toggleable__label {\n",
       "  /* unfitted */\n",
       "  background-color: var(--sklearn-color-unfitted-level-2);\n",
       "}\n",
       "\n",
       "#sk-container-id-1 div.sk-estimator.fitted input.sk-toggleable__control:checked~label.sk-toggleable__label {\n",
       "  /* fitted */\n",
       "  background-color: var(--sklearn-color-fitted-level-2);\n",
       "}\n",
       "\n",
       "#sk-container-id-1 div.sk-label label.sk-toggleable__label,\n",
       "#sk-container-id-1 div.sk-label label {\n",
       "  /* The background is the default theme color */\n",
       "  color: var(--sklearn-color-text-on-default-background);\n",
       "}\n",
       "\n",
       "/* On hover, darken the color of the background */\n",
       "#sk-container-id-1 div.sk-label:hover label.sk-toggleable__label {\n",
       "  color: var(--sklearn-color-text);\n",
       "  background-color: var(--sklearn-color-unfitted-level-2);\n",
       "}\n",
       "\n",
       "/* Label box, darken color on hover, fitted */\n",
       "#sk-container-id-1 div.sk-label.fitted:hover label.sk-toggleable__label.fitted {\n",
       "  color: var(--sklearn-color-text);\n",
       "  background-color: var(--sklearn-color-fitted-level-2);\n",
       "}\n",
       "\n",
       "/* Estimator label */\n",
       "\n",
       "#sk-container-id-1 div.sk-label label {\n",
       "  font-family: monospace;\n",
       "  font-weight: bold;\n",
       "  display: inline-block;\n",
       "  line-height: 1.2em;\n",
       "}\n",
       "\n",
       "#sk-container-id-1 div.sk-label-container {\n",
       "  text-align: center;\n",
       "}\n",
       "\n",
       "/* Estimator-specific */\n",
       "#sk-container-id-1 div.sk-estimator {\n",
       "  font-family: monospace;\n",
       "  border: 1px dotted var(--sklearn-color-border-box);\n",
       "  border-radius: 0.25em;\n",
       "  box-sizing: border-box;\n",
       "  margin-bottom: 0.5em;\n",
       "  /* unfitted */\n",
       "  background-color: var(--sklearn-color-unfitted-level-0);\n",
       "}\n",
       "\n",
       "#sk-container-id-1 div.sk-estimator.fitted {\n",
       "  /* fitted */\n",
       "  background-color: var(--sklearn-color-fitted-level-0);\n",
       "}\n",
       "\n",
       "/* on hover */\n",
       "#sk-container-id-1 div.sk-estimator:hover {\n",
       "  /* unfitted */\n",
       "  background-color: var(--sklearn-color-unfitted-level-2);\n",
       "}\n",
       "\n",
       "#sk-container-id-1 div.sk-estimator.fitted:hover {\n",
       "  /* fitted */\n",
       "  background-color: var(--sklearn-color-fitted-level-2);\n",
       "}\n",
       "\n",
       "/* Specification for estimator info (e.g. \"i\" and \"?\") */\n",
       "\n",
       "/* Common style for \"i\" and \"?\" */\n",
       "\n",
       ".sk-estimator-doc-link,\n",
       "a:link.sk-estimator-doc-link,\n",
       "a:visited.sk-estimator-doc-link {\n",
       "  float: right;\n",
       "  font-size: smaller;\n",
       "  line-height: 1em;\n",
       "  font-family: monospace;\n",
       "  background-color: var(--sklearn-color-background);\n",
       "  border-radius: 1em;\n",
       "  height: 1em;\n",
       "  width: 1em;\n",
       "  text-decoration: none !important;\n",
       "  margin-left: 0.5em;\n",
       "  text-align: center;\n",
       "  /* unfitted */\n",
       "  border: var(--sklearn-color-unfitted-level-1) 1pt solid;\n",
       "  color: var(--sklearn-color-unfitted-level-1);\n",
       "}\n",
       "\n",
       ".sk-estimator-doc-link.fitted,\n",
       "a:link.sk-estimator-doc-link.fitted,\n",
       "a:visited.sk-estimator-doc-link.fitted {\n",
       "  /* fitted */\n",
       "  border: var(--sklearn-color-fitted-level-1) 1pt solid;\n",
       "  color: var(--sklearn-color-fitted-level-1);\n",
       "}\n",
       "\n",
       "/* On hover */\n",
       "div.sk-estimator:hover .sk-estimator-doc-link:hover,\n",
       ".sk-estimator-doc-link:hover,\n",
       "div.sk-label-container:hover .sk-estimator-doc-link:hover,\n",
       ".sk-estimator-doc-link:hover {\n",
       "  /* unfitted */\n",
       "  background-color: var(--sklearn-color-unfitted-level-3);\n",
       "  color: var(--sklearn-color-background);\n",
       "  text-decoration: none;\n",
       "}\n",
       "\n",
       "div.sk-estimator.fitted:hover .sk-estimator-doc-link.fitted:hover,\n",
       ".sk-estimator-doc-link.fitted:hover,\n",
       "div.sk-label-container:hover .sk-estimator-doc-link.fitted:hover,\n",
       ".sk-estimator-doc-link.fitted:hover {\n",
       "  /* fitted */\n",
       "  background-color: var(--sklearn-color-fitted-level-3);\n",
       "  color: var(--sklearn-color-background);\n",
       "  text-decoration: none;\n",
       "}\n",
       "\n",
       "/* Span, style for the box shown on hovering the info icon */\n",
       ".sk-estimator-doc-link span {\n",
       "  display: none;\n",
       "  z-index: 9999;\n",
       "  position: relative;\n",
       "  font-weight: normal;\n",
       "  right: .2ex;\n",
       "  padding: .5ex;\n",
       "  margin: .5ex;\n",
       "  width: min-content;\n",
       "  min-width: 20ex;\n",
       "  max-width: 50ex;\n",
       "  color: var(--sklearn-color-text);\n",
       "  box-shadow: 2pt 2pt 4pt #999;\n",
       "  /* unfitted */\n",
       "  background: var(--sklearn-color-unfitted-level-0);\n",
       "  border: .5pt solid var(--sklearn-color-unfitted-level-3);\n",
       "}\n",
       "\n",
       ".sk-estimator-doc-link.fitted span {\n",
       "  /* fitted */\n",
       "  background: var(--sklearn-color-fitted-level-0);\n",
       "  border: var(--sklearn-color-fitted-level-3);\n",
       "}\n",
       "\n",
       ".sk-estimator-doc-link:hover span {\n",
       "  display: block;\n",
       "}\n",
       "\n",
       "/* \"?\"-specific style due to the `<a>` HTML tag */\n",
       "\n",
       "#sk-container-id-1 a.estimator_doc_link {\n",
       "  float: right;\n",
       "  font-size: 1rem;\n",
       "  line-height: 1em;\n",
       "  font-family: monospace;\n",
       "  background-color: var(--sklearn-color-background);\n",
       "  border-radius: 1rem;\n",
       "  height: 1rem;\n",
       "  width: 1rem;\n",
       "  text-decoration: none;\n",
       "  /* unfitted */\n",
       "  color: var(--sklearn-color-unfitted-level-1);\n",
       "  border: var(--sklearn-color-unfitted-level-1) 1pt solid;\n",
       "}\n",
       "\n",
       "#sk-container-id-1 a.estimator_doc_link.fitted {\n",
       "  /* fitted */\n",
       "  border: var(--sklearn-color-fitted-level-1) 1pt solid;\n",
       "  color: var(--sklearn-color-fitted-level-1);\n",
       "}\n",
       "\n",
       "/* On hover */\n",
       "#sk-container-id-1 a.estimator_doc_link:hover {\n",
       "  /* unfitted */\n",
       "  background-color: var(--sklearn-color-unfitted-level-3);\n",
       "  color: var(--sklearn-color-background);\n",
       "  text-decoration: none;\n",
       "}\n",
       "\n",
       "#sk-container-id-1 a.estimator_doc_link.fitted:hover {\n",
       "  /* fitted */\n",
       "  background-color: var(--sklearn-color-fitted-level-3);\n",
       "}\n",
       "</style><div id=\"sk-container-id-1\" class=\"sk-top-container\"><div class=\"sk-text-repr-fallback\"><pre>Pipeline(steps=[(&#x27;preprocessor&#x27;,\n",
       "                 ColumnTransformer(remainder=&#x27;passthrough&#x27;,\n",
       "                                   transformers=[(&#x27;categorical&#x27;,\n",
       "                                                  Pipeline(steps=[(&#x27;ohe&#x27;,\n",
       "                                                                   OneHotEncoder(drop=&#x27;first&#x27;,\n",
       "                                                                                 handle_unknown=&#x27;ignore&#x27;,\n",
       "                                                                                 sparse_output=False))]),\n",
       "                                                  [&#x27;gearbox&#x27;, &#x27;model&#x27;,\n",
       "                                                   &#x27;fuel_type&#x27;, &#x27;brand&#x27;,\n",
       "                                                   &#x27;repaired&#x27;]),\n",
       "                                                 (&#x27;numerical&#x27;,\n",
       "                                                  Pipeline(steps=[(&#x27;imputer&#x27;,\n",
       "                                                                   SimpleImputer(strategy=&#x27;median&#x27;)),\n",
       "                                                                  (&#x27;scaler&#x27;,\n",
       "                                                                   StandardScaler())]),\n",
       "                                                  [&#x27;registration_year&#x27;, &#x27;power&#x27;,\n",
       "                                                   &#x27;kilometer&#x27;,\n",
       "                                                   &#x27;registration_month&#x27;])])),\n",
       "                (&#x27;model&#x27;, LinearRegression())])</pre><b>In a Jupyter environment, please rerun this cell to show the HTML representation or trust the notebook. <br />On GitHub, the HTML representation is unable to render, please try loading this page with nbviewer.org.</b></div><div class=\"sk-container\" hidden><div class=\"sk-item sk-dashed-wrapped\"><div class=\"sk-label-container\"><div class=\"sk-label fitted sk-toggleable\"><input class=\"sk-toggleable__control sk-hidden--visually\" id=\"sk-estimator-id-1\" type=\"checkbox\" ><label for=\"sk-estimator-id-1\" class=\"sk-toggleable__label fitted sk-toggleable__label-arrow\"><div><div>Pipeline</div></div><div><a class=\"sk-estimator-doc-link fitted\" rel=\"noreferrer\" target=\"_blank\" href=\"https://scikit-learn.org/1.6/modules/generated/sklearn.pipeline.Pipeline.html\">?<span>Documentation for Pipeline</span></a><span class=\"sk-estimator-doc-link fitted\">i<span>Fitted</span></span></div></label><div class=\"sk-toggleable__content fitted\"><pre>Pipeline(steps=[(&#x27;preprocessor&#x27;,\n",
       "                 ColumnTransformer(remainder=&#x27;passthrough&#x27;,\n",
       "                                   transformers=[(&#x27;categorical&#x27;,\n",
       "                                                  Pipeline(steps=[(&#x27;ohe&#x27;,\n",
       "                                                                   OneHotEncoder(drop=&#x27;first&#x27;,\n",
       "                                                                                 handle_unknown=&#x27;ignore&#x27;,\n",
       "                                                                                 sparse_output=False))]),\n",
       "                                                  [&#x27;gearbox&#x27;, &#x27;model&#x27;,\n",
       "                                                   &#x27;fuel_type&#x27;, &#x27;brand&#x27;,\n",
       "                                                   &#x27;repaired&#x27;]),\n",
       "                                                 (&#x27;numerical&#x27;,\n",
       "                                                  Pipeline(steps=[(&#x27;imputer&#x27;,\n",
       "                                                                   SimpleImputer(strategy=&#x27;median&#x27;)),\n",
       "                                                                  (&#x27;scaler&#x27;,\n",
       "                                                                   StandardScaler())]),\n",
       "                                                  [&#x27;registration_year&#x27;, &#x27;power&#x27;,\n",
       "                                                   &#x27;kilometer&#x27;,\n",
       "                                                   &#x27;registration_month&#x27;])])),\n",
       "                (&#x27;model&#x27;, LinearRegression())])</pre></div> </div></div><div class=\"sk-serial\"><div class=\"sk-item sk-dashed-wrapped\"><div class=\"sk-label-container\"><div class=\"sk-label fitted sk-toggleable\"><input class=\"sk-toggleable__control sk-hidden--visually\" id=\"sk-estimator-id-2\" type=\"checkbox\" ><label for=\"sk-estimator-id-2\" class=\"sk-toggleable__label fitted sk-toggleable__label-arrow\"><div><div>preprocessor: ColumnTransformer</div></div><div><a class=\"sk-estimator-doc-link fitted\" rel=\"noreferrer\" target=\"_blank\" href=\"https://scikit-learn.org/1.6/modules/generated/sklearn.compose.ColumnTransformer.html\">?<span>Documentation for preprocessor: ColumnTransformer</span></a></div></label><div class=\"sk-toggleable__content fitted\"><pre>ColumnTransformer(remainder=&#x27;passthrough&#x27;,\n",
       "                  transformers=[(&#x27;categorical&#x27;,\n",
       "                                 Pipeline(steps=[(&#x27;ohe&#x27;,\n",
       "                                                  OneHotEncoder(drop=&#x27;first&#x27;,\n",
       "                                                                handle_unknown=&#x27;ignore&#x27;,\n",
       "                                                                sparse_output=False))]),\n",
       "                                 [&#x27;gearbox&#x27;, &#x27;model&#x27;, &#x27;fuel_type&#x27;, &#x27;brand&#x27;,\n",
       "                                  &#x27;repaired&#x27;]),\n",
       "                                (&#x27;numerical&#x27;,\n",
       "                                 Pipeline(steps=[(&#x27;imputer&#x27;,\n",
       "                                                  SimpleImputer(strategy=&#x27;median&#x27;)),\n",
       "                                                 (&#x27;scaler&#x27;, StandardScaler())]),\n",
       "                                 [&#x27;registration_year&#x27;, &#x27;power&#x27;, &#x27;kilometer&#x27;,\n",
       "                                  &#x27;registration_month&#x27;])])</pre></div> </div></div><div class=\"sk-parallel\"><div class=\"sk-parallel-item\"><div class=\"sk-item\"><div class=\"sk-label-container\"><div class=\"sk-label fitted sk-toggleable\"><input class=\"sk-toggleable__control sk-hidden--visually\" id=\"sk-estimator-id-3\" type=\"checkbox\" ><label for=\"sk-estimator-id-3\" class=\"sk-toggleable__label fitted sk-toggleable__label-arrow\"><div><div>categorical</div></div></label><div class=\"sk-toggleable__content fitted\"><pre>[&#x27;gearbox&#x27;, &#x27;model&#x27;, &#x27;fuel_type&#x27;, &#x27;brand&#x27;, &#x27;repaired&#x27;]</pre></div> </div></div><div class=\"sk-serial\"><div class=\"sk-item\"><div class=\"sk-serial\"><div class=\"sk-item\"><div class=\"sk-estimator fitted sk-toggleable\"><input class=\"sk-toggleable__control sk-hidden--visually\" id=\"sk-estimator-id-4\" type=\"checkbox\" ><label for=\"sk-estimator-id-4\" class=\"sk-toggleable__label fitted sk-toggleable__label-arrow\"><div><div>OneHotEncoder</div></div><div><a class=\"sk-estimator-doc-link fitted\" rel=\"noreferrer\" target=\"_blank\" href=\"https://scikit-learn.org/1.6/modules/generated/sklearn.preprocessing.OneHotEncoder.html\">?<span>Documentation for OneHotEncoder</span></a></div></label><div class=\"sk-toggleable__content fitted\"><pre>OneHotEncoder(drop=&#x27;first&#x27;, handle_unknown=&#x27;ignore&#x27;, sparse_output=False)</pre></div> </div></div></div></div></div></div></div><div class=\"sk-parallel-item\"><div class=\"sk-item\"><div class=\"sk-label-container\"><div class=\"sk-label fitted sk-toggleable\"><input class=\"sk-toggleable__control sk-hidden--visually\" id=\"sk-estimator-id-5\" type=\"checkbox\" ><label for=\"sk-estimator-id-5\" class=\"sk-toggleable__label fitted sk-toggleable__label-arrow\"><div><div>numerical</div></div></label><div class=\"sk-toggleable__content fitted\"><pre>[&#x27;registration_year&#x27;, &#x27;power&#x27;, &#x27;kilometer&#x27;, &#x27;registration_month&#x27;]</pre></div> </div></div><div class=\"sk-serial\"><div class=\"sk-item\"><div class=\"sk-serial\"><div class=\"sk-item\"><div class=\"sk-estimator fitted sk-toggleable\"><input class=\"sk-toggleable__control sk-hidden--visually\" id=\"sk-estimator-id-6\" type=\"checkbox\" ><label for=\"sk-estimator-id-6\" class=\"sk-toggleable__label fitted sk-toggleable__label-arrow\"><div><div>SimpleImputer</div></div><div><a class=\"sk-estimator-doc-link fitted\" rel=\"noreferrer\" target=\"_blank\" href=\"https://scikit-learn.org/1.6/modules/generated/sklearn.impute.SimpleImputer.html\">?<span>Documentation for SimpleImputer</span></a></div></label><div class=\"sk-toggleable__content fitted\"><pre>SimpleImputer(strategy=&#x27;median&#x27;)</pre></div> </div></div><div class=\"sk-item\"><div class=\"sk-estimator fitted sk-toggleable\"><input class=\"sk-toggleable__control sk-hidden--visually\" id=\"sk-estimator-id-7\" type=\"checkbox\" ><label for=\"sk-estimator-id-7\" class=\"sk-toggleable__label fitted sk-toggleable__label-arrow\"><div><div>StandardScaler</div></div><div><a class=\"sk-estimator-doc-link fitted\" rel=\"noreferrer\" target=\"_blank\" href=\"https://scikit-learn.org/1.6/modules/generated/sklearn.preprocessing.StandardScaler.html\">?<span>Documentation for StandardScaler</span></a></div></label><div class=\"sk-toggleable__content fitted\"><pre>StandardScaler()</pre></div> </div></div></div></div></div></div></div><div class=\"sk-parallel-item\"><div class=\"sk-item\"><div class=\"sk-label-container\"><div class=\"sk-label fitted sk-toggleable\"><input class=\"sk-toggleable__control sk-hidden--visually\" id=\"sk-estimator-id-8\" type=\"checkbox\" ><label for=\"sk-estimator-id-8\" class=\"sk-toggleable__label fitted sk-toggleable__label-arrow\"><div><div>remainder</div></div></label><div class=\"sk-toggleable__content fitted\"><pre>[]</pre></div> </div></div><div class=\"sk-serial\"><div class=\"sk-item\"><div class=\"sk-estimator fitted sk-toggleable\"><input class=\"sk-toggleable__control sk-hidden--visually\" id=\"sk-estimator-id-9\" type=\"checkbox\" ><label for=\"sk-estimator-id-9\" class=\"sk-toggleable__label fitted sk-toggleable__label-arrow\"><div><div>passthrough</div></div></label><div class=\"sk-toggleable__content fitted\"><pre>passthrough</pre></div> </div></div></div></div></div></div></div><div class=\"sk-item\"><div class=\"sk-estimator fitted sk-toggleable\"><input class=\"sk-toggleable__control sk-hidden--visually\" id=\"sk-estimator-id-10\" type=\"checkbox\" ><label for=\"sk-estimator-id-10\" class=\"sk-toggleable__label fitted sk-toggleable__label-arrow\"><div><div>LinearRegression</div></div><div><a class=\"sk-estimator-doc-link fitted\" rel=\"noreferrer\" target=\"_blank\" href=\"https://scikit-learn.org/1.6/modules/generated/sklearn.linear_model.LinearRegression.html\">?<span>Documentation for LinearRegression</span></a></div></label><div class=\"sk-toggleable__content fitted\"><pre>LinearRegression()</pre></div> </div></div></div></div></div></div>"
      ],
      "text/plain": [
       "Pipeline(steps=[('preprocessor',\n",
       "                 ColumnTransformer(remainder='passthrough',\n",
       "                                   transformers=[('categorical',\n",
       "                                                  Pipeline(steps=[('ohe',\n",
       "                                                                   OneHotEncoder(drop='first',\n",
       "                                                                                 handle_unknown='ignore',\n",
       "                                                                                 sparse_output=False))]),\n",
       "                                                  ['gearbox', 'model',\n",
       "                                                   'fuel_type', 'brand',\n",
       "                                                   'repaired']),\n",
       "                                                 ('numerical',\n",
       "                                                  Pipeline(steps=[('imputer',\n",
       "                                                                   SimpleImputer(strategy='median')),\n",
       "                                                                  ('scaler',\n",
       "                                                                   StandardScaler())]),\n",
       "                                                  ['registration_year', 'power',\n",
       "                                                   'kilometer',\n",
       "                                                   'registration_month'])])),\n",
       "                ('model', LinearRegression())])"
      ]
     },
     "execution_count": 54,
     "metadata": {},
     "output_type": "execute_result"
    }
   ],
   "source": [
    "%%time\n",
    "lin_reg.fit(X_train, y_train)"
   ]
  },
  {
   "cell_type": "code",
   "execution_count": 55,
   "metadata": {},
   "outputs": [
    {
     "name": "stdout",
     "output_type": "stream",
     "text": [
      "RMSE на кросс-валидации: 2879.56\n"
     ]
    }
   ],
   "source": [
    "scores = cross_val_score(\n",
    "    lin_reg,\n",
    "    X_train,\n",
    "    y_train,\n",
    "    cv=5,\n",
    "    n_jobs=-1,\n",
    "    scoring='neg_root_mean_squared_error'\n",
    ")\n",
    "\n",
    "# Вычисляем средний RMSE на кросс-валидации\n",
    "cv_score_lin_reg = np.mean(scores)\n",
    "print(f'RMSE на кросс-валидации: {-cv_score_lin_reg:.2f}')"
   ]
  },
  {
   "cell_type": "code",
   "execution_count": 56,
   "metadata": {},
   "outputs": [
    {
     "name": "stdout",
     "output_type": "stream",
     "text": [
      "CPU times: user 814 ms, sys: 752 ms, total: 1.57 s\n",
      "Wall time: 1.51 s\n"
     ]
    }
   ],
   "source": [
    "%%time\n",
    "y_pred_lin_reg = lin_reg.predict(X_train)"
   ]
  },
  {
   "cell_type": "code",
   "execution_count": 57,
   "metadata": {},
   "outputs": [
    {
     "name": "stdout",
     "output_type": "stream",
     "text": [
      "RMSE на тренировочной выборке: 2875.16\n"
     ]
    }
   ],
   "source": [
    "mse = mean_squared_error(y_train, y_pred_lin_reg)\n",
    "train_rmse = np.sqrt(mse)\n",
    "print(f'RMSE на тренировочной выборке: {train_rmse:.2f}')"
   ]
  },
  {
   "cell_type": "markdown",
   "metadata": {},
   "source": [
    "**Качество предсказания LinearRegression:  \n",
    "RMSE на кросс-валидации: 2879.56  \n",
    "RMSE на тренировочной выборке: 2875.16 \n",
    "Время обучения 38.3s  \n",
    "Время предсказания 1.5s**  "
   ]
  },
  {
   "cell_type": "markdown",
   "metadata": {},
   "source": [
    "#### RandomForestRegressor"
   ]
  },
  {
   "cell_type": "code",
   "execution_count": 58,
   "metadata": {},
   "outputs": [],
   "source": [
    "rf_params = {\n",
    "    'model': [RandomForestRegressor(random_state=RANDOM_STATE)],\n",
    "    'model__n_estimators': range(50, 100, 10),\n",
    "    'model__max_depth': range(3, 8),\n",
    "    'model__min_samples_leaf': range(5, 50, 5),\n",
    "}"
   ]
  },
  {
   "cell_type": "code",
   "execution_count": 59,
   "metadata": {},
   "outputs": [],
   "source": [
    "rf_search = RandomizedSearchCV(\n",
    "    pipe_final_tree,\n",
    "    rf_params,\n",
    "    scoring='neg_root_mean_squared_error',\n",
    "    n_jobs=-1,\n",
    "    n_iter=3,\n",
    "    cv=5,\n",
    "    verbose=1,\n",
    "    random_state=RANDOM_STATE\n",
    ")"
   ]
  },
  {
   "cell_type": "code",
   "execution_count": 60,
   "metadata": {},
   "outputs": [
    {
     "name": "stdout",
     "output_type": "stream",
     "text": [
      "Fitting 5 folds for each of 3 candidates, totalling 15 fits\n",
      "CPU times: user 3min 2s, sys: 0 ns, total: 3min 2s\n",
      "Wall time: 3min 3s\n"
     ]
    },
    {
     "data": {
      "text/html": [
       "<style>#sk-container-id-2 {\n",
       "  /* Definition of color scheme common for light and dark mode */\n",
       "  --sklearn-color-text: #000;\n",
       "  --sklearn-color-text-muted: #666;\n",
       "  --sklearn-color-line: gray;\n",
       "  /* Definition of color scheme for unfitted estimators */\n",
       "  --sklearn-color-unfitted-level-0: #fff5e6;\n",
       "  --sklearn-color-unfitted-level-1: #f6e4d2;\n",
       "  --sklearn-color-unfitted-level-2: #ffe0b3;\n",
       "  --sklearn-color-unfitted-level-3: chocolate;\n",
       "  /* Definition of color scheme for fitted estimators */\n",
       "  --sklearn-color-fitted-level-0: #f0f8ff;\n",
       "  --sklearn-color-fitted-level-1: #d4ebff;\n",
       "  --sklearn-color-fitted-level-2: #b3dbfd;\n",
       "  --sklearn-color-fitted-level-3: cornflowerblue;\n",
       "\n",
       "  /* Specific color for light theme */\n",
       "  --sklearn-color-text-on-default-background: var(--sg-text-color, var(--theme-code-foreground, var(--jp-content-font-color1, black)));\n",
       "  --sklearn-color-background: var(--sg-background-color, var(--theme-background, var(--jp-layout-color0, white)));\n",
       "  --sklearn-color-border-box: var(--sg-text-color, var(--theme-code-foreground, var(--jp-content-font-color1, black)));\n",
       "  --sklearn-color-icon: #696969;\n",
       "\n",
       "  @media (prefers-color-scheme: dark) {\n",
       "    /* Redefinition of color scheme for dark theme */\n",
       "    --sklearn-color-text-on-default-background: var(--sg-text-color, var(--theme-code-foreground, var(--jp-content-font-color1, white)));\n",
       "    --sklearn-color-background: var(--sg-background-color, var(--theme-background, var(--jp-layout-color0, #111)));\n",
       "    --sklearn-color-border-box: var(--sg-text-color, var(--theme-code-foreground, var(--jp-content-font-color1, white)));\n",
       "    --sklearn-color-icon: #878787;\n",
       "  }\n",
       "}\n",
       "\n",
       "#sk-container-id-2 {\n",
       "  color: var(--sklearn-color-text);\n",
       "}\n",
       "\n",
       "#sk-container-id-2 pre {\n",
       "  padding: 0;\n",
       "}\n",
       "\n",
       "#sk-container-id-2 input.sk-hidden--visually {\n",
       "  border: 0;\n",
       "  clip: rect(1px 1px 1px 1px);\n",
       "  clip: rect(1px, 1px, 1px, 1px);\n",
       "  height: 1px;\n",
       "  margin: -1px;\n",
       "  overflow: hidden;\n",
       "  padding: 0;\n",
       "  position: absolute;\n",
       "  width: 1px;\n",
       "}\n",
       "\n",
       "#sk-container-id-2 div.sk-dashed-wrapped {\n",
       "  border: 1px dashed var(--sklearn-color-line);\n",
       "  margin: 0 0.4em 0.5em 0.4em;\n",
       "  box-sizing: border-box;\n",
       "  padding-bottom: 0.4em;\n",
       "  background-color: var(--sklearn-color-background);\n",
       "}\n",
       "\n",
       "#sk-container-id-2 div.sk-container {\n",
       "  /* jupyter's `normalize.less` sets `[hidden] { display: none; }`\n",
       "     but bootstrap.min.css set `[hidden] { display: none !important; }`\n",
       "     so we also need the `!important` here to be able to override the\n",
       "     default hidden behavior on the sphinx rendered scikit-learn.org.\n",
       "     See: https://github.com/scikit-learn/scikit-learn/issues/21755 */\n",
       "  display: inline-block !important;\n",
       "  position: relative;\n",
       "}\n",
       "\n",
       "#sk-container-id-2 div.sk-text-repr-fallback {\n",
       "  display: none;\n",
       "}\n",
       "\n",
       "div.sk-parallel-item,\n",
       "div.sk-serial,\n",
       "div.sk-item {\n",
       "  /* draw centered vertical line to link estimators */\n",
       "  background-image: linear-gradient(var(--sklearn-color-text-on-default-background), var(--sklearn-color-text-on-default-background));\n",
       "  background-size: 2px 100%;\n",
       "  background-repeat: no-repeat;\n",
       "  background-position: center center;\n",
       "}\n",
       "\n",
       "/* Parallel-specific style estimator block */\n",
       "\n",
       "#sk-container-id-2 div.sk-parallel-item::after {\n",
       "  content: \"\";\n",
       "  width: 100%;\n",
       "  border-bottom: 2px solid var(--sklearn-color-text-on-default-background);\n",
       "  flex-grow: 1;\n",
       "}\n",
       "\n",
       "#sk-container-id-2 div.sk-parallel {\n",
       "  display: flex;\n",
       "  align-items: stretch;\n",
       "  justify-content: center;\n",
       "  background-color: var(--sklearn-color-background);\n",
       "  position: relative;\n",
       "}\n",
       "\n",
       "#sk-container-id-2 div.sk-parallel-item {\n",
       "  display: flex;\n",
       "  flex-direction: column;\n",
       "}\n",
       "\n",
       "#sk-container-id-2 div.sk-parallel-item:first-child::after {\n",
       "  align-self: flex-end;\n",
       "  width: 50%;\n",
       "}\n",
       "\n",
       "#sk-container-id-2 div.sk-parallel-item:last-child::after {\n",
       "  align-self: flex-start;\n",
       "  width: 50%;\n",
       "}\n",
       "\n",
       "#sk-container-id-2 div.sk-parallel-item:only-child::after {\n",
       "  width: 0;\n",
       "}\n",
       "\n",
       "/* Serial-specific style estimator block */\n",
       "\n",
       "#sk-container-id-2 div.sk-serial {\n",
       "  display: flex;\n",
       "  flex-direction: column;\n",
       "  align-items: center;\n",
       "  background-color: var(--sklearn-color-background);\n",
       "  padding-right: 1em;\n",
       "  padding-left: 1em;\n",
       "}\n",
       "\n",
       "\n",
       "/* Toggleable style: style used for estimator/Pipeline/ColumnTransformer box that is\n",
       "clickable and can be expanded/collapsed.\n",
       "- Pipeline and ColumnTransformer use this feature and define the default style\n",
       "- Estimators will overwrite some part of the style using the `sk-estimator` class\n",
       "*/\n",
       "\n",
       "/* Pipeline and ColumnTransformer style (default) */\n",
       "\n",
       "#sk-container-id-2 div.sk-toggleable {\n",
       "  /* Default theme specific background. It is overwritten whether we have a\n",
       "  specific estimator or a Pipeline/ColumnTransformer */\n",
       "  background-color: var(--sklearn-color-background);\n",
       "}\n",
       "\n",
       "/* Toggleable label */\n",
       "#sk-container-id-2 label.sk-toggleable__label {\n",
       "  cursor: pointer;\n",
       "  display: flex;\n",
       "  width: 100%;\n",
       "  margin-bottom: 0;\n",
       "  padding: 0.5em;\n",
       "  box-sizing: border-box;\n",
       "  text-align: center;\n",
       "  align-items: start;\n",
       "  justify-content: space-between;\n",
       "  gap: 0.5em;\n",
       "}\n",
       "\n",
       "#sk-container-id-2 label.sk-toggleable__label .caption {\n",
       "  font-size: 0.6rem;\n",
       "  font-weight: lighter;\n",
       "  color: var(--sklearn-color-text-muted);\n",
       "}\n",
       "\n",
       "#sk-container-id-2 label.sk-toggleable__label-arrow:before {\n",
       "  /* Arrow on the left of the label */\n",
       "  content: \"▸\";\n",
       "  float: left;\n",
       "  margin-right: 0.25em;\n",
       "  color: var(--sklearn-color-icon);\n",
       "}\n",
       "\n",
       "#sk-container-id-2 label.sk-toggleable__label-arrow:hover:before {\n",
       "  color: var(--sklearn-color-text);\n",
       "}\n",
       "\n",
       "/* Toggleable content - dropdown */\n",
       "\n",
       "#sk-container-id-2 div.sk-toggleable__content {\n",
       "  max-height: 0;\n",
       "  max-width: 0;\n",
       "  overflow: hidden;\n",
       "  text-align: left;\n",
       "  /* unfitted */\n",
       "  background-color: var(--sklearn-color-unfitted-level-0);\n",
       "}\n",
       "\n",
       "#sk-container-id-2 div.sk-toggleable__content.fitted {\n",
       "  /* fitted */\n",
       "  background-color: var(--sklearn-color-fitted-level-0);\n",
       "}\n",
       "\n",
       "#sk-container-id-2 div.sk-toggleable__content pre {\n",
       "  margin: 0.2em;\n",
       "  border-radius: 0.25em;\n",
       "  color: var(--sklearn-color-text);\n",
       "  /* unfitted */\n",
       "  background-color: var(--sklearn-color-unfitted-level-0);\n",
       "}\n",
       "\n",
       "#sk-container-id-2 div.sk-toggleable__content.fitted pre {\n",
       "  /* unfitted */\n",
       "  background-color: var(--sklearn-color-fitted-level-0);\n",
       "}\n",
       "\n",
       "#sk-container-id-2 input.sk-toggleable__control:checked~div.sk-toggleable__content {\n",
       "  /* Expand drop-down */\n",
       "  max-height: 200px;\n",
       "  max-width: 100%;\n",
       "  overflow: auto;\n",
       "}\n",
       "\n",
       "#sk-container-id-2 input.sk-toggleable__control:checked~label.sk-toggleable__label-arrow:before {\n",
       "  content: \"▾\";\n",
       "}\n",
       "\n",
       "/* Pipeline/ColumnTransformer-specific style */\n",
       "\n",
       "#sk-container-id-2 div.sk-label input.sk-toggleable__control:checked~label.sk-toggleable__label {\n",
       "  color: var(--sklearn-color-text);\n",
       "  background-color: var(--sklearn-color-unfitted-level-2);\n",
       "}\n",
       "\n",
       "#sk-container-id-2 div.sk-label.fitted input.sk-toggleable__control:checked~label.sk-toggleable__label {\n",
       "  background-color: var(--sklearn-color-fitted-level-2);\n",
       "}\n",
       "\n",
       "/* Estimator-specific style */\n",
       "\n",
       "/* Colorize estimator box */\n",
       "#sk-container-id-2 div.sk-estimator input.sk-toggleable__control:checked~label.sk-toggleable__label {\n",
       "  /* unfitted */\n",
       "  background-color: var(--sklearn-color-unfitted-level-2);\n",
       "}\n",
       "\n",
       "#sk-container-id-2 div.sk-estimator.fitted input.sk-toggleable__control:checked~label.sk-toggleable__label {\n",
       "  /* fitted */\n",
       "  background-color: var(--sklearn-color-fitted-level-2);\n",
       "}\n",
       "\n",
       "#sk-container-id-2 div.sk-label label.sk-toggleable__label,\n",
       "#sk-container-id-2 div.sk-label label {\n",
       "  /* The background is the default theme color */\n",
       "  color: var(--sklearn-color-text-on-default-background);\n",
       "}\n",
       "\n",
       "/* On hover, darken the color of the background */\n",
       "#sk-container-id-2 div.sk-label:hover label.sk-toggleable__label {\n",
       "  color: var(--sklearn-color-text);\n",
       "  background-color: var(--sklearn-color-unfitted-level-2);\n",
       "}\n",
       "\n",
       "/* Label box, darken color on hover, fitted */\n",
       "#sk-container-id-2 div.sk-label.fitted:hover label.sk-toggleable__label.fitted {\n",
       "  color: var(--sklearn-color-text);\n",
       "  background-color: var(--sklearn-color-fitted-level-2);\n",
       "}\n",
       "\n",
       "/* Estimator label */\n",
       "\n",
       "#sk-container-id-2 div.sk-label label {\n",
       "  font-family: monospace;\n",
       "  font-weight: bold;\n",
       "  display: inline-block;\n",
       "  line-height: 1.2em;\n",
       "}\n",
       "\n",
       "#sk-container-id-2 div.sk-label-container {\n",
       "  text-align: center;\n",
       "}\n",
       "\n",
       "/* Estimator-specific */\n",
       "#sk-container-id-2 div.sk-estimator {\n",
       "  font-family: monospace;\n",
       "  border: 1px dotted var(--sklearn-color-border-box);\n",
       "  border-radius: 0.25em;\n",
       "  box-sizing: border-box;\n",
       "  margin-bottom: 0.5em;\n",
       "  /* unfitted */\n",
       "  background-color: var(--sklearn-color-unfitted-level-0);\n",
       "}\n",
       "\n",
       "#sk-container-id-2 div.sk-estimator.fitted {\n",
       "  /* fitted */\n",
       "  background-color: var(--sklearn-color-fitted-level-0);\n",
       "}\n",
       "\n",
       "/* on hover */\n",
       "#sk-container-id-2 div.sk-estimator:hover {\n",
       "  /* unfitted */\n",
       "  background-color: var(--sklearn-color-unfitted-level-2);\n",
       "}\n",
       "\n",
       "#sk-container-id-2 div.sk-estimator.fitted:hover {\n",
       "  /* fitted */\n",
       "  background-color: var(--sklearn-color-fitted-level-2);\n",
       "}\n",
       "\n",
       "/* Specification for estimator info (e.g. \"i\" and \"?\") */\n",
       "\n",
       "/* Common style for \"i\" and \"?\" */\n",
       "\n",
       ".sk-estimator-doc-link,\n",
       "a:link.sk-estimator-doc-link,\n",
       "a:visited.sk-estimator-doc-link {\n",
       "  float: right;\n",
       "  font-size: smaller;\n",
       "  line-height: 1em;\n",
       "  font-family: monospace;\n",
       "  background-color: var(--sklearn-color-background);\n",
       "  border-radius: 1em;\n",
       "  height: 1em;\n",
       "  width: 1em;\n",
       "  text-decoration: none !important;\n",
       "  margin-left: 0.5em;\n",
       "  text-align: center;\n",
       "  /* unfitted */\n",
       "  border: var(--sklearn-color-unfitted-level-1) 1pt solid;\n",
       "  color: var(--sklearn-color-unfitted-level-1);\n",
       "}\n",
       "\n",
       ".sk-estimator-doc-link.fitted,\n",
       "a:link.sk-estimator-doc-link.fitted,\n",
       "a:visited.sk-estimator-doc-link.fitted {\n",
       "  /* fitted */\n",
       "  border: var(--sklearn-color-fitted-level-1) 1pt solid;\n",
       "  color: var(--sklearn-color-fitted-level-1);\n",
       "}\n",
       "\n",
       "/* On hover */\n",
       "div.sk-estimator:hover .sk-estimator-doc-link:hover,\n",
       ".sk-estimator-doc-link:hover,\n",
       "div.sk-label-container:hover .sk-estimator-doc-link:hover,\n",
       ".sk-estimator-doc-link:hover {\n",
       "  /* unfitted */\n",
       "  background-color: var(--sklearn-color-unfitted-level-3);\n",
       "  color: var(--sklearn-color-background);\n",
       "  text-decoration: none;\n",
       "}\n",
       "\n",
       "div.sk-estimator.fitted:hover .sk-estimator-doc-link.fitted:hover,\n",
       ".sk-estimator-doc-link.fitted:hover,\n",
       "div.sk-label-container:hover .sk-estimator-doc-link.fitted:hover,\n",
       ".sk-estimator-doc-link.fitted:hover {\n",
       "  /* fitted */\n",
       "  background-color: var(--sklearn-color-fitted-level-3);\n",
       "  color: var(--sklearn-color-background);\n",
       "  text-decoration: none;\n",
       "}\n",
       "\n",
       "/* Span, style for the box shown on hovering the info icon */\n",
       ".sk-estimator-doc-link span {\n",
       "  display: none;\n",
       "  z-index: 9999;\n",
       "  position: relative;\n",
       "  font-weight: normal;\n",
       "  right: .2ex;\n",
       "  padding: .5ex;\n",
       "  margin: .5ex;\n",
       "  width: min-content;\n",
       "  min-width: 20ex;\n",
       "  max-width: 50ex;\n",
       "  color: var(--sklearn-color-text);\n",
       "  box-shadow: 2pt 2pt 4pt #999;\n",
       "  /* unfitted */\n",
       "  background: var(--sklearn-color-unfitted-level-0);\n",
       "  border: .5pt solid var(--sklearn-color-unfitted-level-3);\n",
       "}\n",
       "\n",
       ".sk-estimator-doc-link.fitted span {\n",
       "  /* fitted */\n",
       "  background: var(--sklearn-color-fitted-level-0);\n",
       "  border: var(--sklearn-color-fitted-level-3);\n",
       "}\n",
       "\n",
       ".sk-estimator-doc-link:hover span {\n",
       "  display: block;\n",
       "}\n",
       "\n",
       "/* \"?\"-specific style due to the `<a>` HTML tag */\n",
       "\n",
       "#sk-container-id-2 a.estimator_doc_link {\n",
       "  float: right;\n",
       "  font-size: 1rem;\n",
       "  line-height: 1em;\n",
       "  font-family: monospace;\n",
       "  background-color: var(--sklearn-color-background);\n",
       "  border-radius: 1rem;\n",
       "  height: 1rem;\n",
       "  width: 1rem;\n",
       "  text-decoration: none;\n",
       "  /* unfitted */\n",
       "  color: var(--sklearn-color-unfitted-level-1);\n",
       "  border: var(--sklearn-color-unfitted-level-1) 1pt solid;\n",
       "}\n",
       "\n",
       "#sk-container-id-2 a.estimator_doc_link.fitted {\n",
       "  /* fitted */\n",
       "  border: var(--sklearn-color-fitted-level-1) 1pt solid;\n",
       "  color: var(--sklearn-color-fitted-level-1);\n",
       "}\n",
       "\n",
       "/* On hover */\n",
       "#sk-container-id-2 a.estimator_doc_link:hover {\n",
       "  /* unfitted */\n",
       "  background-color: var(--sklearn-color-unfitted-level-3);\n",
       "  color: var(--sklearn-color-background);\n",
       "  text-decoration: none;\n",
       "}\n",
       "\n",
       "#sk-container-id-2 a.estimator_doc_link.fitted:hover {\n",
       "  /* fitted */\n",
       "  background-color: var(--sklearn-color-fitted-level-3);\n",
       "}\n",
       "</style><div id=\"sk-container-id-2\" class=\"sk-top-container\"><div class=\"sk-text-repr-fallback\"><pre>RandomizedSearchCV(cv=5,\n",
       "                   estimator=Pipeline(steps=[(&#x27;preprocessor&#x27;,\n",
       "                                              ColumnTransformer(remainder=&#x27;passthrough&#x27;,\n",
       "                                                                transformers=[(&#x27;categorical&#x27;,\n",
       "                                                                               Pipeline(steps=[(&#x27;ord&#x27;,\n",
       "                                                                                                OrdinalEncoder(handle_unknown=&#x27;use_encoded_value&#x27;,\n",
       "                                                                                                               unknown_value=nan)),\n",
       "                                                                                               (&#x27;imputer&#x27;,\n",
       "                                                                                                SimpleImputer(strategy=&#x27;most_frequent&#x27;))]),\n",
       "                                                                               [&#x27;gearbox&#x27;,\n",
       "                                                                                &#x27;model&#x27;,\n",
       "                                                                                &#x27;fuel_type&#x27;,\n",
       "                                                                                &#x27;brand&#x27;,\n",
       "                                                                                &#x27;repaired&#x27;]),\n",
       "                                                                              (&#x27;numerical&#x27;,\n",
       "                                                                               P...\n",
       "                                                                                &#x27;kilometer&#x27;,\n",
       "                                                                                &#x27;registration_month&#x27;])])),\n",
       "                                             (&#x27;model&#x27;,\n",
       "                                              RandomForestRegressor(random_state=42))]),\n",
       "                   n_iter=3, n_jobs=-1,\n",
       "                   param_distributions={&#x27;model&#x27;: [RandomForestRegressor(random_state=42)],\n",
       "                                        &#x27;model__max_depth&#x27;: range(3, 8),\n",
       "                                        &#x27;model__min_samples_leaf&#x27;: range(5, 50, 5),\n",
       "                                        &#x27;model__n_estimators&#x27;: range(50, 100, 10)},\n",
       "                   random_state=42, scoring=&#x27;neg_root_mean_squared_error&#x27;,\n",
       "                   verbose=1)</pre><b>In a Jupyter environment, please rerun this cell to show the HTML representation or trust the notebook. <br />On GitHub, the HTML representation is unable to render, please try loading this page with nbviewer.org.</b></div><div class=\"sk-container\" hidden><div class=\"sk-item sk-dashed-wrapped\"><div class=\"sk-label-container\"><div class=\"sk-label fitted sk-toggleable\"><input class=\"sk-toggleable__control sk-hidden--visually\" id=\"sk-estimator-id-11\" type=\"checkbox\" ><label for=\"sk-estimator-id-11\" class=\"sk-toggleable__label fitted sk-toggleable__label-arrow\"><div><div>RandomizedSearchCV</div></div><div><a class=\"sk-estimator-doc-link fitted\" rel=\"noreferrer\" target=\"_blank\" href=\"https://scikit-learn.org/1.6/modules/generated/sklearn.model_selection.RandomizedSearchCV.html\">?<span>Documentation for RandomizedSearchCV</span></a><span class=\"sk-estimator-doc-link fitted\">i<span>Fitted</span></span></div></label><div class=\"sk-toggleable__content fitted\"><pre>RandomizedSearchCV(cv=5,\n",
       "                   estimator=Pipeline(steps=[(&#x27;preprocessor&#x27;,\n",
       "                                              ColumnTransformer(remainder=&#x27;passthrough&#x27;,\n",
       "                                                                transformers=[(&#x27;categorical&#x27;,\n",
       "                                                                               Pipeline(steps=[(&#x27;ord&#x27;,\n",
       "                                                                                                OrdinalEncoder(handle_unknown=&#x27;use_encoded_value&#x27;,\n",
       "                                                                                                               unknown_value=nan)),\n",
       "                                                                                               (&#x27;imputer&#x27;,\n",
       "                                                                                                SimpleImputer(strategy=&#x27;most_frequent&#x27;))]),\n",
       "                                                                               [&#x27;gearbox&#x27;,\n",
       "                                                                                &#x27;model&#x27;,\n",
       "                                                                                &#x27;fuel_type&#x27;,\n",
       "                                                                                &#x27;brand&#x27;,\n",
       "                                                                                &#x27;repaired&#x27;]),\n",
       "                                                                              (&#x27;numerical&#x27;,\n",
       "                                                                               P...\n",
       "                                                                                &#x27;kilometer&#x27;,\n",
       "                                                                                &#x27;registration_month&#x27;])])),\n",
       "                                             (&#x27;model&#x27;,\n",
       "                                              RandomForestRegressor(random_state=42))]),\n",
       "                   n_iter=3, n_jobs=-1,\n",
       "                   param_distributions={&#x27;model&#x27;: [RandomForestRegressor(random_state=42)],\n",
       "                                        &#x27;model__max_depth&#x27;: range(3, 8),\n",
       "                                        &#x27;model__min_samples_leaf&#x27;: range(5, 50, 5),\n",
       "                                        &#x27;model__n_estimators&#x27;: range(50, 100, 10)},\n",
       "                   random_state=42, scoring=&#x27;neg_root_mean_squared_error&#x27;,\n",
       "                   verbose=1)</pre></div> </div></div><div class=\"sk-parallel\"><div class=\"sk-parallel-item\"><div class=\"sk-item\"><div class=\"sk-label-container\"><div class=\"sk-label fitted sk-toggleable\"><input class=\"sk-toggleable__control sk-hidden--visually\" id=\"sk-estimator-id-12\" type=\"checkbox\" ><label for=\"sk-estimator-id-12\" class=\"sk-toggleable__label fitted sk-toggleable__label-arrow\"><div><div>best_estimator_: Pipeline</div></div></label><div class=\"sk-toggleable__content fitted\"><pre>Pipeline(steps=[(&#x27;preprocessor&#x27;,\n",
       "                 ColumnTransformer(remainder=&#x27;passthrough&#x27;,\n",
       "                                   transformers=[(&#x27;categorical&#x27;,\n",
       "                                                  Pipeline(steps=[(&#x27;ord&#x27;,\n",
       "                                                                   OrdinalEncoder(handle_unknown=&#x27;use_encoded_value&#x27;,\n",
       "                                                                                  unknown_value=nan)),\n",
       "                                                                  (&#x27;imputer&#x27;,\n",
       "                                                                   SimpleImputer(strategy=&#x27;most_frequent&#x27;))]),\n",
       "                                                  [&#x27;gearbox&#x27;, &#x27;model&#x27;,\n",
       "                                                   &#x27;fuel_type&#x27;, &#x27;brand&#x27;,\n",
       "                                                   &#x27;repaired&#x27;]),\n",
       "                                                 (&#x27;numerical&#x27;,\n",
       "                                                  Pipeline(steps=[(&#x27;imputer&#x27;,\n",
       "                                                                   SimpleImputer(strategy=&#x27;median&#x27;)),\n",
       "                                                                  (&#x27;scaler&#x27;,\n",
       "                                                                   StandardScaler())]),\n",
       "                                                  [&#x27;registration_year&#x27;, &#x27;power&#x27;,\n",
       "                                                   &#x27;kilometer&#x27;,\n",
       "                                                   &#x27;registration_month&#x27;])])),\n",
       "                (&#x27;model&#x27;,\n",
       "                 RandomForestRegressor(max_depth=7, min_samples_leaf=5,\n",
       "                                       n_estimators=90, random_state=42))])</pre></div> </div></div><div class=\"sk-serial\"><div class=\"sk-item\"><div class=\"sk-serial\"><div class=\"sk-item sk-dashed-wrapped\"><div class=\"sk-label-container\"><div class=\"sk-label fitted sk-toggleable\"><input class=\"sk-toggleable__control sk-hidden--visually\" id=\"sk-estimator-id-13\" type=\"checkbox\" ><label for=\"sk-estimator-id-13\" class=\"sk-toggleable__label fitted sk-toggleable__label-arrow\"><div><div>preprocessor: ColumnTransformer</div></div><div><a class=\"sk-estimator-doc-link fitted\" rel=\"noreferrer\" target=\"_blank\" href=\"https://scikit-learn.org/1.6/modules/generated/sklearn.compose.ColumnTransformer.html\">?<span>Documentation for preprocessor: ColumnTransformer</span></a></div></label><div class=\"sk-toggleable__content fitted\"><pre>ColumnTransformer(remainder=&#x27;passthrough&#x27;,\n",
       "                  transformers=[(&#x27;categorical&#x27;,\n",
       "                                 Pipeline(steps=[(&#x27;ord&#x27;,\n",
       "                                                  OrdinalEncoder(handle_unknown=&#x27;use_encoded_value&#x27;,\n",
       "                                                                 unknown_value=nan)),\n",
       "                                                 (&#x27;imputer&#x27;,\n",
       "                                                  SimpleImputer(strategy=&#x27;most_frequent&#x27;))]),\n",
       "                                 [&#x27;gearbox&#x27;, &#x27;model&#x27;, &#x27;fuel_type&#x27;, &#x27;brand&#x27;,\n",
       "                                  &#x27;repaired&#x27;]),\n",
       "                                (&#x27;numerical&#x27;,\n",
       "                                 Pipeline(steps=[(&#x27;imputer&#x27;,\n",
       "                                                  SimpleImputer(strategy=&#x27;median&#x27;)),\n",
       "                                                 (&#x27;scaler&#x27;, StandardScaler())]),\n",
       "                                 [&#x27;registration_year&#x27;, &#x27;power&#x27;, &#x27;kilometer&#x27;,\n",
       "                                  &#x27;registration_month&#x27;])])</pre></div> </div></div><div class=\"sk-parallel\"><div class=\"sk-parallel-item\"><div class=\"sk-item\"><div class=\"sk-label-container\"><div class=\"sk-label fitted sk-toggleable\"><input class=\"sk-toggleable__control sk-hidden--visually\" id=\"sk-estimator-id-14\" type=\"checkbox\" ><label for=\"sk-estimator-id-14\" class=\"sk-toggleable__label fitted sk-toggleable__label-arrow\"><div><div>categorical</div></div></label><div class=\"sk-toggleable__content fitted\"><pre>[&#x27;gearbox&#x27;, &#x27;model&#x27;, &#x27;fuel_type&#x27;, &#x27;brand&#x27;, &#x27;repaired&#x27;]</pre></div> </div></div><div class=\"sk-serial\"><div class=\"sk-item\"><div class=\"sk-serial\"><div class=\"sk-item\"><div class=\"sk-estimator fitted sk-toggleable\"><input class=\"sk-toggleable__control sk-hidden--visually\" id=\"sk-estimator-id-15\" type=\"checkbox\" ><label for=\"sk-estimator-id-15\" class=\"sk-toggleable__label fitted sk-toggleable__label-arrow\"><div><div>OrdinalEncoder</div></div><div><a class=\"sk-estimator-doc-link fitted\" rel=\"noreferrer\" target=\"_blank\" href=\"https://scikit-learn.org/1.6/modules/generated/sklearn.preprocessing.OrdinalEncoder.html\">?<span>Documentation for OrdinalEncoder</span></a></div></label><div class=\"sk-toggleable__content fitted\"><pre>OrdinalEncoder(handle_unknown=&#x27;use_encoded_value&#x27;, unknown_value=nan)</pre></div> </div></div><div class=\"sk-item\"><div class=\"sk-estimator fitted sk-toggleable\"><input class=\"sk-toggleable__control sk-hidden--visually\" id=\"sk-estimator-id-16\" type=\"checkbox\" ><label for=\"sk-estimator-id-16\" class=\"sk-toggleable__label fitted sk-toggleable__label-arrow\"><div><div>SimpleImputer</div></div><div><a class=\"sk-estimator-doc-link fitted\" rel=\"noreferrer\" target=\"_blank\" href=\"https://scikit-learn.org/1.6/modules/generated/sklearn.impute.SimpleImputer.html\">?<span>Documentation for SimpleImputer</span></a></div></label><div class=\"sk-toggleable__content fitted\"><pre>SimpleImputer(strategy=&#x27;most_frequent&#x27;)</pre></div> </div></div></div></div></div></div></div><div class=\"sk-parallel-item\"><div class=\"sk-item\"><div class=\"sk-label-container\"><div class=\"sk-label fitted sk-toggleable\"><input class=\"sk-toggleable__control sk-hidden--visually\" id=\"sk-estimator-id-17\" type=\"checkbox\" ><label for=\"sk-estimator-id-17\" class=\"sk-toggleable__label fitted sk-toggleable__label-arrow\"><div><div>numerical</div></div></label><div class=\"sk-toggleable__content fitted\"><pre>[&#x27;registration_year&#x27;, &#x27;power&#x27;, &#x27;kilometer&#x27;, &#x27;registration_month&#x27;]</pre></div> </div></div><div class=\"sk-serial\"><div class=\"sk-item\"><div class=\"sk-serial\"><div class=\"sk-item\"><div class=\"sk-estimator fitted sk-toggleable\"><input class=\"sk-toggleable__control sk-hidden--visually\" id=\"sk-estimator-id-18\" type=\"checkbox\" ><label for=\"sk-estimator-id-18\" class=\"sk-toggleable__label fitted sk-toggleable__label-arrow\"><div><div>SimpleImputer</div></div><div><a class=\"sk-estimator-doc-link fitted\" rel=\"noreferrer\" target=\"_blank\" href=\"https://scikit-learn.org/1.6/modules/generated/sklearn.impute.SimpleImputer.html\">?<span>Documentation for SimpleImputer</span></a></div></label><div class=\"sk-toggleable__content fitted\"><pre>SimpleImputer(strategy=&#x27;median&#x27;)</pre></div> </div></div><div class=\"sk-item\"><div class=\"sk-estimator fitted sk-toggleable\"><input class=\"sk-toggleable__control sk-hidden--visually\" id=\"sk-estimator-id-19\" type=\"checkbox\" ><label for=\"sk-estimator-id-19\" class=\"sk-toggleable__label fitted sk-toggleable__label-arrow\"><div><div>StandardScaler</div></div><div><a class=\"sk-estimator-doc-link fitted\" rel=\"noreferrer\" target=\"_blank\" href=\"https://scikit-learn.org/1.6/modules/generated/sklearn.preprocessing.StandardScaler.html\">?<span>Documentation for StandardScaler</span></a></div></label><div class=\"sk-toggleable__content fitted\"><pre>StandardScaler()</pre></div> </div></div></div></div></div></div></div><div class=\"sk-parallel-item\"><div class=\"sk-item\"><div class=\"sk-label-container\"><div class=\"sk-label fitted sk-toggleable\"><input class=\"sk-toggleable__control sk-hidden--visually\" id=\"sk-estimator-id-20\" type=\"checkbox\" ><label for=\"sk-estimator-id-20\" class=\"sk-toggleable__label fitted sk-toggleable__label-arrow\"><div><div>remainder</div></div></label><div class=\"sk-toggleable__content fitted\"><pre>[]</pre></div> </div></div><div class=\"sk-serial\"><div class=\"sk-item\"><div class=\"sk-estimator fitted sk-toggleable\"><input class=\"sk-toggleable__control sk-hidden--visually\" id=\"sk-estimator-id-21\" type=\"checkbox\" ><label for=\"sk-estimator-id-21\" class=\"sk-toggleable__label fitted sk-toggleable__label-arrow\"><div><div>passthrough</div></div></label><div class=\"sk-toggleable__content fitted\"><pre>passthrough</pre></div> </div></div></div></div></div></div></div><div class=\"sk-item\"><div class=\"sk-estimator fitted sk-toggleable\"><input class=\"sk-toggleable__control sk-hidden--visually\" id=\"sk-estimator-id-22\" type=\"checkbox\" ><label for=\"sk-estimator-id-22\" class=\"sk-toggleable__label fitted sk-toggleable__label-arrow\"><div><div>RandomForestRegressor</div></div><div><a class=\"sk-estimator-doc-link fitted\" rel=\"noreferrer\" target=\"_blank\" href=\"https://scikit-learn.org/1.6/modules/generated/sklearn.ensemble.RandomForestRegressor.html\">?<span>Documentation for RandomForestRegressor</span></a></div></label><div class=\"sk-toggleable__content fitted\"><pre>RandomForestRegressor(max_depth=7, min_samples_leaf=5, n_estimators=90,\n",
       "                      random_state=42)</pre></div> </div></div></div></div></div></div></div></div></div></div></div>"
      ],
      "text/plain": [
       "RandomizedSearchCV(cv=5,\n",
       "                   estimator=Pipeline(steps=[('preprocessor',\n",
       "                                              ColumnTransformer(remainder='passthrough',\n",
       "                                                                transformers=[('categorical',\n",
       "                                                                               Pipeline(steps=[('ord',\n",
       "                                                                                                OrdinalEncoder(handle_unknown='use_encoded_value',\n",
       "                                                                                                               unknown_value=nan)),\n",
       "                                                                                               ('imputer',\n",
       "                                                                                                SimpleImputer(strategy='most_frequent'))]),\n",
       "                                                                               ['gearbox',\n",
       "                                                                                'model',\n",
       "                                                                                'fuel_type',\n",
       "                                                                                'brand',\n",
       "                                                                                'repaired']),\n",
       "                                                                              ('numerical',\n",
       "                                                                               P...\n",
       "                                                                                'kilometer',\n",
       "                                                                                'registration_month'])])),\n",
       "                                             ('model',\n",
       "                                              RandomForestRegressor(random_state=42))]),\n",
       "                   n_iter=3, n_jobs=-1,\n",
       "                   param_distributions={'model': [RandomForestRegressor(random_state=42)],\n",
       "                                        'model__max_depth': range(3, 8),\n",
       "                                        'model__min_samples_leaf': range(5, 50, 5),\n",
       "                                        'model__n_estimators': range(50, 100, 10)},\n",
       "                   random_state=42, scoring='neg_root_mean_squared_error',\n",
       "                   verbose=1)"
      ]
     },
     "execution_count": 60,
     "metadata": {},
     "output_type": "execute_result"
    }
   ],
   "source": [
    "%%time\n",
    "rf_search.fit(X_train, y_train)"
   ]
  },
  {
   "cell_type": "code",
   "execution_count": 61,
   "metadata": {},
   "outputs": [
    {
     "name": "stdout",
     "output_type": "stream",
     "text": [
      "Лучшая модель:\n",
      "Pipeline(steps=[('preprocessor',\n",
      "                 ColumnTransformer(remainder='passthrough',\n",
      "                                   transformers=[('categorical',\n",
      "                                                  Pipeline(steps=[('ord',\n",
      "                                                                   OrdinalEncoder(handle_unknown='use_encoded_value',\n",
      "                                                                                  unknown_value=nan)),\n",
      "                                                                  ('imputer',\n",
      "                                                                   SimpleImputer(strategy='most_frequent'))]),\n",
      "                                                  ['gearbox', 'model',\n",
      "                                                   'fuel_type', 'brand',\n",
      "                                                   'repaired']),\n",
      "                                                 ('numerical',\n",
      "                                                  Pipeline(steps=[('imputer',\n",
      "                                                                   SimpleImputer(strategy='median')),\n",
      "                                                                  ('scaler',\n",
      "                                                                   StandardScaler())]),\n",
      "                                                  ['registration_year', 'power',\n",
      "                                                   'kilometer',\n",
      "                                                   'registration_month'])])),\n",
      "                ('model',\n",
      "                 RandomForestRegressor(max_depth=7, min_samples_leaf=5,\n",
      "                                       n_estimators=90, random_state=42))])\n",
      "RMSE на кросс-валидации: 2199.93\n"
     ]
    }
   ],
   "source": [
    "print('Лучшая модель:')\n",
    "print(rf_search.best_estimator_)\n",
    "\n",
    "# выводим метрику качества модели\n",
    "best_rmse = -rf_search.best_score_\n",
    "print(f'RMSE на кросс-валидации: {best_rmse:.2f}')"
   ]
  },
  {
   "cell_type": "code",
   "execution_count": 62,
   "metadata": {},
   "outputs": [
    {
     "name": "stdout",
     "output_type": "stream",
     "text": [
      "Среднее время обучения: 16.19 секунд\n",
      "Среднее время предсказания: 0.29 секунд\n"
     ]
    }
   ],
   "source": [
    "best_idx = rf_search.best_index_\n",
    "mean_fit_time = rf_search.cv_results_['mean_fit_time'][best_idx]\n",
    "mean_score_time = rf_search.cv_results_['mean_score_time'][best_idx]\n",
    "\n",
    "print(f'Среднее время обучения: {mean_fit_time:.2f} секунд')\n",
    "print(f'Среднее время предсказания: {mean_score_time:.2f} секунд')"
   ]
  },
  {
   "cell_type": "code",
   "execution_count": 63,
   "metadata": {},
   "outputs": [
    {
     "name": "stdout",
     "output_type": "stream",
     "text": [
      "CPU times: user 1.36 s, sys: 0 ns, total: 1.36 s\n",
      "Wall time: 1.37 s\n"
     ]
    }
   ],
   "source": [
    "%%time\n",
    "y_pred_rf = rf_search.best_estimator_.predict(X_train)"
   ]
  },
  {
   "cell_type": "code",
   "execution_count": 64,
   "metadata": {},
   "outputs": [
    {
     "name": "stdout",
     "output_type": "stream",
     "text": [
      "RMSE на тренировочной выборке: 2194.08\n"
     ]
    }
   ],
   "source": [
    "mse = mean_squared_error(y_train, y_pred_rf)\n",
    "rmse = np.sqrt(mse)\n",
    "print(f'RMSE на тренировочной выборке: {rmse:.2f}')"
   ]
  },
  {
   "cell_type": "markdown",
   "metadata": {},
   "source": [
    "**Качество предсказания RandomForestRegressor:  \n",
    "RMSE на кросс-валидации: 2199.93   \n",
    "RMSE на тренировочной выборке: 2194.08   \n",
    "Время обучения 3мин 11s  \n",
    "Время предсказания 1.43s**  \n"
   ]
  },
  {
   "cell_type": "markdown",
   "metadata": {},
   "source": [
    "#### LGBMRegressor"
   ]
  },
  {
   "cell_type": "code",
   "execution_count": 65,
   "metadata": {},
   "outputs": [],
   "source": [
    "lgbm_pipe = Pipeline([\n",
    "    ('preprocessor', data_preprocessor_tree),\n",
    "    ('model', LGBMRegressor(random_state=RANDOM_STATE, verbose=-1))\n",
    "])\n",
    "\n",
    "# параметры\n",
    "lgbm_params = {\n",
    "    'model': [LGBMRegressor(random_state=RANDOM_STATE, verbose=-1)],\n",
    "    'model__n_estimators': range(50, 100, 10),\n",
    "    'model__max_depth': range(3, 8),\n",
    "    'model__num_leaves': range(5, 50, 5)\n",
    "}"
   ]
  },
  {
   "cell_type": "code",
   "execution_count": 66,
   "metadata": {},
   "outputs": [],
   "source": [
    "lgbm_search = RandomizedSearchCV(\n",
    "    lgbm_pipe,\n",
    "    lgbm_params,\n",
    "    scoring='neg_root_mean_squared_error',\n",
    "    n_jobs=-1,\n",
    "    n_iter=3,\n",
    "    cv=5,\n",
    "    verbose=1,\n",
    "    random_state=RANDOM_STATE\n",
    ")"
   ]
  },
  {
   "cell_type": "code",
   "execution_count": 67,
   "metadata": {},
   "outputs": [
    {
     "name": "stdout",
     "output_type": "stream",
     "text": [
      "Fitting 5 folds for each of 3 candidates, totalling 15 fits\n",
      "CPU times: user 44.4 s, sys: 0 ns, total: 44.4 s\n",
      "Wall time: 45 s\n"
     ]
    },
    {
     "data": {
      "text/html": [
       "<style>#sk-container-id-3 {\n",
       "  /* Definition of color scheme common for light and dark mode */\n",
       "  --sklearn-color-text: #000;\n",
       "  --sklearn-color-text-muted: #666;\n",
       "  --sklearn-color-line: gray;\n",
       "  /* Definition of color scheme for unfitted estimators */\n",
       "  --sklearn-color-unfitted-level-0: #fff5e6;\n",
       "  --sklearn-color-unfitted-level-1: #f6e4d2;\n",
       "  --sklearn-color-unfitted-level-2: #ffe0b3;\n",
       "  --sklearn-color-unfitted-level-3: chocolate;\n",
       "  /* Definition of color scheme for fitted estimators */\n",
       "  --sklearn-color-fitted-level-0: #f0f8ff;\n",
       "  --sklearn-color-fitted-level-1: #d4ebff;\n",
       "  --sklearn-color-fitted-level-2: #b3dbfd;\n",
       "  --sklearn-color-fitted-level-3: cornflowerblue;\n",
       "\n",
       "  /* Specific color for light theme */\n",
       "  --sklearn-color-text-on-default-background: var(--sg-text-color, var(--theme-code-foreground, var(--jp-content-font-color1, black)));\n",
       "  --sklearn-color-background: var(--sg-background-color, var(--theme-background, var(--jp-layout-color0, white)));\n",
       "  --sklearn-color-border-box: var(--sg-text-color, var(--theme-code-foreground, var(--jp-content-font-color1, black)));\n",
       "  --sklearn-color-icon: #696969;\n",
       "\n",
       "  @media (prefers-color-scheme: dark) {\n",
       "    /* Redefinition of color scheme for dark theme */\n",
       "    --sklearn-color-text-on-default-background: var(--sg-text-color, var(--theme-code-foreground, var(--jp-content-font-color1, white)));\n",
       "    --sklearn-color-background: var(--sg-background-color, var(--theme-background, var(--jp-layout-color0, #111)));\n",
       "    --sklearn-color-border-box: var(--sg-text-color, var(--theme-code-foreground, var(--jp-content-font-color1, white)));\n",
       "    --sklearn-color-icon: #878787;\n",
       "  }\n",
       "}\n",
       "\n",
       "#sk-container-id-3 {\n",
       "  color: var(--sklearn-color-text);\n",
       "}\n",
       "\n",
       "#sk-container-id-3 pre {\n",
       "  padding: 0;\n",
       "}\n",
       "\n",
       "#sk-container-id-3 input.sk-hidden--visually {\n",
       "  border: 0;\n",
       "  clip: rect(1px 1px 1px 1px);\n",
       "  clip: rect(1px, 1px, 1px, 1px);\n",
       "  height: 1px;\n",
       "  margin: -1px;\n",
       "  overflow: hidden;\n",
       "  padding: 0;\n",
       "  position: absolute;\n",
       "  width: 1px;\n",
       "}\n",
       "\n",
       "#sk-container-id-3 div.sk-dashed-wrapped {\n",
       "  border: 1px dashed var(--sklearn-color-line);\n",
       "  margin: 0 0.4em 0.5em 0.4em;\n",
       "  box-sizing: border-box;\n",
       "  padding-bottom: 0.4em;\n",
       "  background-color: var(--sklearn-color-background);\n",
       "}\n",
       "\n",
       "#sk-container-id-3 div.sk-container {\n",
       "  /* jupyter's `normalize.less` sets `[hidden] { display: none; }`\n",
       "     but bootstrap.min.css set `[hidden] { display: none !important; }`\n",
       "     so we also need the `!important` here to be able to override the\n",
       "     default hidden behavior on the sphinx rendered scikit-learn.org.\n",
       "     See: https://github.com/scikit-learn/scikit-learn/issues/21755 */\n",
       "  display: inline-block !important;\n",
       "  position: relative;\n",
       "}\n",
       "\n",
       "#sk-container-id-3 div.sk-text-repr-fallback {\n",
       "  display: none;\n",
       "}\n",
       "\n",
       "div.sk-parallel-item,\n",
       "div.sk-serial,\n",
       "div.sk-item {\n",
       "  /* draw centered vertical line to link estimators */\n",
       "  background-image: linear-gradient(var(--sklearn-color-text-on-default-background), var(--sklearn-color-text-on-default-background));\n",
       "  background-size: 2px 100%;\n",
       "  background-repeat: no-repeat;\n",
       "  background-position: center center;\n",
       "}\n",
       "\n",
       "/* Parallel-specific style estimator block */\n",
       "\n",
       "#sk-container-id-3 div.sk-parallel-item::after {\n",
       "  content: \"\";\n",
       "  width: 100%;\n",
       "  border-bottom: 2px solid var(--sklearn-color-text-on-default-background);\n",
       "  flex-grow: 1;\n",
       "}\n",
       "\n",
       "#sk-container-id-3 div.sk-parallel {\n",
       "  display: flex;\n",
       "  align-items: stretch;\n",
       "  justify-content: center;\n",
       "  background-color: var(--sklearn-color-background);\n",
       "  position: relative;\n",
       "}\n",
       "\n",
       "#sk-container-id-3 div.sk-parallel-item {\n",
       "  display: flex;\n",
       "  flex-direction: column;\n",
       "}\n",
       "\n",
       "#sk-container-id-3 div.sk-parallel-item:first-child::after {\n",
       "  align-self: flex-end;\n",
       "  width: 50%;\n",
       "}\n",
       "\n",
       "#sk-container-id-3 div.sk-parallel-item:last-child::after {\n",
       "  align-self: flex-start;\n",
       "  width: 50%;\n",
       "}\n",
       "\n",
       "#sk-container-id-3 div.sk-parallel-item:only-child::after {\n",
       "  width: 0;\n",
       "}\n",
       "\n",
       "/* Serial-specific style estimator block */\n",
       "\n",
       "#sk-container-id-3 div.sk-serial {\n",
       "  display: flex;\n",
       "  flex-direction: column;\n",
       "  align-items: center;\n",
       "  background-color: var(--sklearn-color-background);\n",
       "  padding-right: 1em;\n",
       "  padding-left: 1em;\n",
       "}\n",
       "\n",
       "\n",
       "/* Toggleable style: style used for estimator/Pipeline/ColumnTransformer box that is\n",
       "clickable and can be expanded/collapsed.\n",
       "- Pipeline and ColumnTransformer use this feature and define the default style\n",
       "- Estimators will overwrite some part of the style using the `sk-estimator` class\n",
       "*/\n",
       "\n",
       "/* Pipeline and ColumnTransformer style (default) */\n",
       "\n",
       "#sk-container-id-3 div.sk-toggleable {\n",
       "  /* Default theme specific background. It is overwritten whether we have a\n",
       "  specific estimator or a Pipeline/ColumnTransformer */\n",
       "  background-color: var(--sklearn-color-background);\n",
       "}\n",
       "\n",
       "/* Toggleable label */\n",
       "#sk-container-id-3 label.sk-toggleable__label {\n",
       "  cursor: pointer;\n",
       "  display: flex;\n",
       "  width: 100%;\n",
       "  margin-bottom: 0;\n",
       "  padding: 0.5em;\n",
       "  box-sizing: border-box;\n",
       "  text-align: center;\n",
       "  align-items: start;\n",
       "  justify-content: space-between;\n",
       "  gap: 0.5em;\n",
       "}\n",
       "\n",
       "#sk-container-id-3 label.sk-toggleable__label .caption {\n",
       "  font-size: 0.6rem;\n",
       "  font-weight: lighter;\n",
       "  color: var(--sklearn-color-text-muted);\n",
       "}\n",
       "\n",
       "#sk-container-id-3 label.sk-toggleable__label-arrow:before {\n",
       "  /* Arrow on the left of the label */\n",
       "  content: \"▸\";\n",
       "  float: left;\n",
       "  margin-right: 0.25em;\n",
       "  color: var(--sklearn-color-icon);\n",
       "}\n",
       "\n",
       "#sk-container-id-3 label.sk-toggleable__label-arrow:hover:before {\n",
       "  color: var(--sklearn-color-text);\n",
       "}\n",
       "\n",
       "/* Toggleable content - dropdown */\n",
       "\n",
       "#sk-container-id-3 div.sk-toggleable__content {\n",
       "  max-height: 0;\n",
       "  max-width: 0;\n",
       "  overflow: hidden;\n",
       "  text-align: left;\n",
       "  /* unfitted */\n",
       "  background-color: var(--sklearn-color-unfitted-level-0);\n",
       "}\n",
       "\n",
       "#sk-container-id-3 div.sk-toggleable__content.fitted {\n",
       "  /* fitted */\n",
       "  background-color: var(--sklearn-color-fitted-level-0);\n",
       "}\n",
       "\n",
       "#sk-container-id-3 div.sk-toggleable__content pre {\n",
       "  margin: 0.2em;\n",
       "  border-radius: 0.25em;\n",
       "  color: var(--sklearn-color-text);\n",
       "  /* unfitted */\n",
       "  background-color: var(--sklearn-color-unfitted-level-0);\n",
       "}\n",
       "\n",
       "#sk-container-id-3 div.sk-toggleable__content.fitted pre {\n",
       "  /* unfitted */\n",
       "  background-color: var(--sklearn-color-fitted-level-0);\n",
       "}\n",
       "\n",
       "#sk-container-id-3 input.sk-toggleable__control:checked~div.sk-toggleable__content {\n",
       "  /* Expand drop-down */\n",
       "  max-height: 200px;\n",
       "  max-width: 100%;\n",
       "  overflow: auto;\n",
       "}\n",
       "\n",
       "#sk-container-id-3 input.sk-toggleable__control:checked~label.sk-toggleable__label-arrow:before {\n",
       "  content: \"▾\";\n",
       "}\n",
       "\n",
       "/* Pipeline/ColumnTransformer-specific style */\n",
       "\n",
       "#sk-container-id-3 div.sk-label input.sk-toggleable__control:checked~label.sk-toggleable__label {\n",
       "  color: var(--sklearn-color-text);\n",
       "  background-color: var(--sklearn-color-unfitted-level-2);\n",
       "}\n",
       "\n",
       "#sk-container-id-3 div.sk-label.fitted input.sk-toggleable__control:checked~label.sk-toggleable__label {\n",
       "  background-color: var(--sklearn-color-fitted-level-2);\n",
       "}\n",
       "\n",
       "/* Estimator-specific style */\n",
       "\n",
       "/* Colorize estimator box */\n",
       "#sk-container-id-3 div.sk-estimator input.sk-toggleable__control:checked~label.sk-toggleable__label {\n",
       "  /* unfitted */\n",
       "  background-color: var(--sklearn-color-unfitted-level-2);\n",
       "}\n",
       "\n",
       "#sk-container-id-3 div.sk-estimator.fitted input.sk-toggleable__control:checked~label.sk-toggleable__label {\n",
       "  /* fitted */\n",
       "  background-color: var(--sklearn-color-fitted-level-2);\n",
       "}\n",
       "\n",
       "#sk-container-id-3 div.sk-label label.sk-toggleable__label,\n",
       "#sk-container-id-3 div.sk-label label {\n",
       "  /* The background is the default theme color */\n",
       "  color: var(--sklearn-color-text-on-default-background);\n",
       "}\n",
       "\n",
       "/* On hover, darken the color of the background */\n",
       "#sk-container-id-3 div.sk-label:hover label.sk-toggleable__label {\n",
       "  color: var(--sklearn-color-text);\n",
       "  background-color: var(--sklearn-color-unfitted-level-2);\n",
       "}\n",
       "\n",
       "/* Label box, darken color on hover, fitted */\n",
       "#sk-container-id-3 div.sk-label.fitted:hover label.sk-toggleable__label.fitted {\n",
       "  color: var(--sklearn-color-text);\n",
       "  background-color: var(--sklearn-color-fitted-level-2);\n",
       "}\n",
       "\n",
       "/* Estimator label */\n",
       "\n",
       "#sk-container-id-3 div.sk-label label {\n",
       "  font-family: monospace;\n",
       "  font-weight: bold;\n",
       "  display: inline-block;\n",
       "  line-height: 1.2em;\n",
       "}\n",
       "\n",
       "#sk-container-id-3 div.sk-label-container {\n",
       "  text-align: center;\n",
       "}\n",
       "\n",
       "/* Estimator-specific */\n",
       "#sk-container-id-3 div.sk-estimator {\n",
       "  font-family: monospace;\n",
       "  border: 1px dotted var(--sklearn-color-border-box);\n",
       "  border-radius: 0.25em;\n",
       "  box-sizing: border-box;\n",
       "  margin-bottom: 0.5em;\n",
       "  /* unfitted */\n",
       "  background-color: var(--sklearn-color-unfitted-level-0);\n",
       "}\n",
       "\n",
       "#sk-container-id-3 div.sk-estimator.fitted {\n",
       "  /* fitted */\n",
       "  background-color: var(--sklearn-color-fitted-level-0);\n",
       "}\n",
       "\n",
       "/* on hover */\n",
       "#sk-container-id-3 div.sk-estimator:hover {\n",
       "  /* unfitted */\n",
       "  background-color: var(--sklearn-color-unfitted-level-2);\n",
       "}\n",
       "\n",
       "#sk-container-id-3 div.sk-estimator.fitted:hover {\n",
       "  /* fitted */\n",
       "  background-color: var(--sklearn-color-fitted-level-2);\n",
       "}\n",
       "\n",
       "/* Specification for estimator info (e.g. \"i\" and \"?\") */\n",
       "\n",
       "/* Common style for \"i\" and \"?\" */\n",
       "\n",
       ".sk-estimator-doc-link,\n",
       "a:link.sk-estimator-doc-link,\n",
       "a:visited.sk-estimator-doc-link {\n",
       "  float: right;\n",
       "  font-size: smaller;\n",
       "  line-height: 1em;\n",
       "  font-family: monospace;\n",
       "  background-color: var(--sklearn-color-background);\n",
       "  border-radius: 1em;\n",
       "  height: 1em;\n",
       "  width: 1em;\n",
       "  text-decoration: none !important;\n",
       "  margin-left: 0.5em;\n",
       "  text-align: center;\n",
       "  /* unfitted */\n",
       "  border: var(--sklearn-color-unfitted-level-1) 1pt solid;\n",
       "  color: var(--sklearn-color-unfitted-level-1);\n",
       "}\n",
       "\n",
       ".sk-estimator-doc-link.fitted,\n",
       "a:link.sk-estimator-doc-link.fitted,\n",
       "a:visited.sk-estimator-doc-link.fitted {\n",
       "  /* fitted */\n",
       "  border: var(--sklearn-color-fitted-level-1) 1pt solid;\n",
       "  color: var(--sklearn-color-fitted-level-1);\n",
       "}\n",
       "\n",
       "/* On hover */\n",
       "div.sk-estimator:hover .sk-estimator-doc-link:hover,\n",
       ".sk-estimator-doc-link:hover,\n",
       "div.sk-label-container:hover .sk-estimator-doc-link:hover,\n",
       ".sk-estimator-doc-link:hover {\n",
       "  /* unfitted */\n",
       "  background-color: var(--sklearn-color-unfitted-level-3);\n",
       "  color: var(--sklearn-color-background);\n",
       "  text-decoration: none;\n",
       "}\n",
       "\n",
       "div.sk-estimator.fitted:hover .sk-estimator-doc-link.fitted:hover,\n",
       ".sk-estimator-doc-link.fitted:hover,\n",
       "div.sk-label-container:hover .sk-estimator-doc-link.fitted:hover,\n",
       ".sk-estimator-doc-link.fitted:hover {\n",
       "  /* fitted */\n",
       "  background-color: var(--sklearn-color-fitted-level-3);\n",
       "  color: var(--sklearn-color-background);\n",
       "  text-decoration: none;\n",
       "}\n",
       "\n",
       "/* Span, style for the box shown on hovering the info icon */\n",
       ".sk-estimator-doc-link span {\n",
       "  display: none;\n",
       "  z-index: 9999;\n",
       "  position: relative;\n",
       "  font-weight: normal;\n",
       "  right: .2ex;\n",
       "  padding: .5ex;\n",
       "  margin: .5ex;\n",
       "  width: min-content;\n",
       "  min-width: 20ex;\n",
       "  max-width: 50ex;\n",
       "  color: var(--sklearn-color-text);\n",
       "  box-shadow: 2pt 2pt 4pt #999;\n",
       "  /* unfitted */\n",
       "  background: var(--sklearn-color-unfitted-level-0);\n",
       "  border: .5pt solid var(--sklearn-color-unfitted-level-3);\n",
       "}\n",
       "\n",
       ".sk-estimator-doc-link.fitted span {\n",
       "  /* fitted */\n",
       "  background: var(--sklearn-color-fitted-level-0);\n",
       "  border: var(--sklearn-color-fitted-level-3);\n",
       "}\n",
       "\n",
       ".sk-estimator-doc-link:hover span {\n",
       "  display: block;\n",
       "}\n",
       "\n",
       "/* \"?\"-specific style due to the `<a>` HTML tag */\n",
       "\n",
       "#sk-container-id-3 a.estimator_doc_link {\n",
       "  float: right;\n",
       "  font-size: 1rem;\n",
       "  line-height: 1em;\n",
       "  font-family: monospace;\n",
       "  background-color: var(--sklearn-color-background);\n",
       "  border-radius: 1rem;\n",
       "  height: 1rem;\n",
       "  width: 1rem;\n",
       "  text-decoration: none;\n",
       "  /* unfitted */\n",
       "  color: var(--sklearn-color-unfitted-level-1);\n",
       "  border: var(--sklearn-color-unfitted-level-1) 1pt solid;\n",
       "}\n",
       "\n",
       "#sk-container-id-3 a.estimator_doc_link.fitted {\n",
       "  /* fitted */\n",
       "  border: var(--sklearn-color-fitted-level-1) 1pt solid;\n",
       "  color: var(--sklearn-color-fitted-level-1);\n",
       "}\n",
       "\n",
       "/* On hover */\n",
       "#sk-container-id-3 a.estimator_doc_link:hover {\n",
       "  /* unfitted */\n",
       "  background-color: var(--sklearn-color-unfitted-level-3);\n",
       "  color: var(--sklearn-color-background);\n",
       "  text-decoration: none;\n",
       "}\n",
       "\n",
       "#sk-container-id-3 a.estimator_doc_link.fitted:hover {\n",
       "  /* fitted */\n",
       "  background-color: var(--sklearn-color-fitted-level-3);\n",
       "}\n",
       "</style><div id=\"sk-container-id-3\" class=\"sk-top-container\"><div class=\"sk-text-repr-fallback\"><pre>RandomizedSearchCV(cv=5,\n",
       "                   estimator=Pipeline(steps=[(&#x27;preprocessor&#x27;,\n",
       "                                              ColumnTransformer(remainder=&#x27;passthrough&#x27;,\n",
       "                                                                transformers=[(&#x27;categorical&#x27;,\n",
       "                                                                               Pipeline(steps=[(&#x27;ord&#x27;,\n",
       "                                                                                                OrdinalEncoder(handle_unknown=&#x27;use_encoded_value&#x27;,\n",
       "                                                                                                               unknown_value=nan)),\n",
       "                                                                                               (&#x27;imputer&#x27;,\n",
       "                                                                                                SimpleImputer(strategy=&#x27;most_frequent&#x27;))]),\n",
       "                                                                               [&#x27;gearbox&#x27;,\n",
       "                                                                                &#x27;model&#x27;,\n",
       "                                                                                &#x27;fuel_type&#x27;,\n",
       "                                                                                &#x27;brand&#x27;,\n",
       "                                                                                &#x27;repaired&#x27;]),\n",
       "                                                                              (&#x27;numerical&#x27;,\n",
       "                                                                               P...\n",
       "                                                                                &#x27;kilometer&#x27;,\n",
       "                                                                                &#x27;registration_month&#x27;])])),\n",
       "                                             (&#x27;model&#x27;,\n",
       "                                              LGBMRegressor(random_state=42,\n",
       "                                                            verbose=-1))]),\n",
       "                   n_iter=3, n_jobs=-1,\n",
       "                   param_distributions={&#x27;model&#x27;: [LGBMRegressor(random_state=42,\n",
       "                                                                verbose=-1)],\n",
       "                                        &#x27;model__max_depth&#x27;: range(3, 8),\n",
       "                                        &#x27;model__n_estimators&#x27;: range(50, 100, 10),\n",
       "                                        &#x27;model__num_leaves&#x27;: range(5, 50, 5)},\n",
       "                   random_state=42, scoring=&#x27;neg_root_mean_squared_error&#x27;,\n",
       "                   verbose=1)</pre><b>In a Jupyter environment, please rerun this cell to show the HTML representation or trust the notebook. <br />On GitHub, the HTML representation is unable to render, please try loading this page with nbviewer.org.</b></div><div class=\"sk-container\" hidden><div class=\"sk-item sk-dashed-wrapped\"><div class=\"sk-label-container\"><div class=\"sk-label fitted sk-toggleable\"><input class=\"sk-toggleable__control sk-hidden--visually\" id=\"sk-estimator-id-23\" type=\"checkbox\" ><label for=\"sk-estimator-id-23\" class=\"sk-toggleable__label fitted sk-toggleable__label-arrow\"><div><div>RandomizedSearchCV</div></div><div><a class=\"sk-estimator-doc-link fitted\" rel=\"noreferrer\" target=\"_blank\" href=\"https://scikit-learn.org/1.6/modules/generated/sklearn.model_selection.RandomizedSearchCV.html\">?<span>Documentation for RandomizedSearchCV</span></a><span class=\"sk-estimator-doc-link fitted\">i<span>Fitted</span></span></div></label><div class=\"sk-toggleable__content fitted\"><pre>RandomizedSearchCV(cv=5,\n",
       "                   estimator=Pipeline(steps=[(&#x27;preprocessor&#x27;,\n",
       "                                              ColumnTransformer(remainder=&#x27;passthrough&#x27;,\n",
       "                                                                transformers=[(&#x27;categorical&#x27;,\n",
       "                                                                               Pipeline(steps=[(&#x27;ord&#x27;,\n",
       "                                                                                                OrdinalEncoder(handle_unknown=&#x27;use_encoded_value&#x27;,\n",
       "                                                                                                               unknown_value=nan)),\n",
       "                                                                                               (&#x27;imputer&#x27;,\n",
       "                                                                                                SimpleImputer(strategy=&#x27;most_frequent&#x27;))]),\n",
       "                                                                               [&#x27;gearbox&#x27;,\n",
       "                                                                                &#x27;model&#x27;,\n",
       "                                                                                &#x27;fuel_type&#x27;,\n",
       "                                                                                &#x27;brand&#x27;,\n",
       "                                                                                &#x27;repaired&#x27;]),\n",
       "                                                                              (&#x27;numerical&#x27;,\n",
       "                                                                               P...\n",
       "                                                                                &#x27;kilometer&#x27;,\n",
       "                                                                                &#x27;registration_month&#x27;])])),\n",
       "                                             (&#x27;model&#x27;,\n",
       "                                              LGBMRegressor(random_state=42,\n",
       "                                                            verbose=-1))]),\n",
       "                   n_iter=3, n_jobs=-1,\n",
       "                   param_distributions={&#x27;model&#x27;: [LGBMRegressor(random_state=42,\n",
       "                                                                verbose=-1)],\n",
       "                                        &#x27;model__max_depth&#x27;: range(3, 8),\n",
       "                                        &#x27;model__n_estimators&#x27;: range(50, 100, 10),\n",
       "                                        &#x27;model__num_leaves&#x27;: range(5, 50, 5)},\n",
       "                   random_state=42, scoring=&#x27;neg_root_mean_squared_error&#x27;,\n",
       "                   verbose=1)</pre></div> </div></div><div class=\"sk-parallel\"><div class=\"sk-parallel-item\"><div class=\"sk-item\"><div class=\"sk-label-container\"><div class=\"sk-label fitted sk-toggleable\"><input class=\"sk-toggleable__control sk-hidden--visually\" id=\"sk-estimator-id-24\" type=\"checkbox\" ><label for=\"sk-estimator-id-24\" class=\"sk-toggleable__label fitted sk-toggleable__label-arrow\"><div><div>best_estimator_: Pipeline</div></div></label><div class=\"sk-toggleable__content fitted\"><pre>Pipeline(steps=[(&#x27;preprocessor&#x27;,\n",
       "                 ColumnTransformer(remainder=&#x27;passthrough&#x27;,\n",
       "                                   transformers=[(&#x27;categorical&#x27;,\n",
       "                                                  Pipeline(steps=[(&#x27;ord&#x27;,\n",
       "                                                                   OrdinalEncoder(handle_unknown=&#x27;use_encoded_value&#x27;,\n",
       "                                                                                  unknown_value=nan)),\n",
       "                                                                  (&#x27;imputer&#x27;,\n",
       "                                                                   SimpleImputer(strategy=&#x27;most_frequent&#x27;))]),\n",
       "                                                  [&#x27;gearbox&#x27;, &#x27;model&#x27;,\n",
       "                                                   &#x27;fuel_type&#x27;, &#x27;brand&#x27;,\n",
       "                                                   &#x27;repaired&#x27;]),\n",
       "                                                 (&#x27;numerical&#x27;,\n",
       "                                                  Pipeline(steps=[(&#x27;imputer&#x27;,\n",
       "                                                                   SimpleImputer(strategy=&#x27;median&#x27;)),\n",
       "                                                                  (&#x27;scaler&#x27;,\n",
       "                                                                   StandardScaler())]),\n",
       "                                                  [&#x27;registration_year&#x27;, &#x27;power&#x27;,\n",
       "                                                   &#x27;kilometer&#x27;,\n",
       "                                                   &#x27;registration_month&#x27;])])),\n",
       "                (&#x27;model&#x27;,\n",
       "                 LGBMRegressor(max_depth=5, n_estimators=80, num_leaves=20,\n",
       "                               random_state=42, verbose=-1))])</pre></div> </div></div><div class=\"sk-serial\"><div class=\"sk-item\"><div class=\"sk-serial\"><div class=\"sk-item sk-dashed-wrapped\"><div class=\"sk-label-container\"><div class=\"sk-label fitted sk-toggleable\"><input class=\"sk-toggleable__control sk-hidden--visually\" id=\"sk-estimator-id-25\" type=\"checkbox\" ><label for=\"sk-estimator-id-25\" class=\"sk-toggleable__label fitted sk-toggleable__label-arrow\"><div><div>preprocessor: ColumnTransformer</div></div><div><a class=\"sk-estimator-doc-link fitted\" rel=\"noreferrer\" target=\"_blank\" href=\"https://scikit-learn.org/1.6/modules/generated/sklearn.compose.ColumnTransformer.html\">?<span>Documentation for preprocessor: ColumnTransformer</span></a></div></label><div class=\"sk-toggleable__content fitted\"><pre>ColumnTransformer(remainder=&#x27;passthrough&#x27;,\n",
       "                  transformers=[(&#x27;categorical&#x27;,\n",
       "                                 Pipeline(steps=[(&#x27;ord&#x27;,\n",
       "                                                  OrdinalEncoder(handle_unknown=&#x27;use_encoded_value&#x27;,\n",
       "                                                                 unknown_value=nan)),\n",
       "                                                 (&#x27;imputer&#x27;,\n",
       "                                                  SimpleImputer(strategy=&#x27;most_frequent&#x27;))]),\n",
       "                                 [&#x27;gearbox&#x27;, &#x27;model&#x27;, &#x27;fuel_type&#x27;, &#x27;brand&#x27;,\n",
       "                                  &#x27;repaired&#x27;]),\n",
       "                                (&#x27;numerical&#x27;,\n",
       "                                 Pipeline(steps=[(&#x27;imputer&#x27;,\n",
       "                                                  SimpleImputer(strategy=&#x27;median&#x27;)),\n",
       "                                                 (&#x27;scaler&#x27;, StandardScaler())]),\n",
       "                                 [&#x27;registration_year&#x27;, &#x27;power&#x27;, &#x27;kilometer&#x27;,\n",
       "                                  &#x27;registration_month&#x27;])])</pre></div> </div></div><div class=\"sk-parallel\"><div class=\"sk-parallel-item\"><div class=\"sk-item\"><div class=\"sk-label-container\"><div class=\"sk-label fitted sk-toggleable\"><input class=\"sk-toggleable__control sk-hidden--visually\" id=\"sk-estimator-id-26\" type=\"checkbox\" ><label for=\"sk-estimator-id-26\" class=\"sk-toggleable__label fitted sk-toggleable__label-arrow\"><div><div>categorical</div></div></label><div class=\"sk-toggleable__content fitted\"><pre>[&#x27;gearbox&#x27;, &#x27;model&#x27;, &#x27;fuel_type&#x27;, &#x27;brand&#x27;, &#x27;repaired&#x27;]</pre></div> </div></div><div class=\"sk-serial\"><div class=\"sk-item\"><div class=\"sk-serial\"><div class=\"sk-item\"><div class=\"sk-estimator fitted sk-toggleable\"><input class=\"sk-toggleable__control sk-hidden--visually\" id=\"sk-estimator-id-27\" type=\"checkbox\" ><label for=\"sk-estimator-id-27\" class=\"sk-toggleable__label fitted sk-toggleable__label-arrow\"><div><div>OrdinalEncoder</div></div><div><a class=\"sk-estimator-doc-link fitted\" rel=\"noreferrer\" target=\"_blank\" href=\"https://scikit-learn.org/1.6/modules/generated/sklearn.preprocessing.OrdinalEncoder.html\">?<span>Documentation for OrdinalEncoder</span></a></div></label><div class=\"sk-toggleable__content fitted\"><pre>OrdinalEncoder(handle_unknown=&#x27;use_encoded_value&#x27;, unknown_value=nan)</pre></div> </div></div><div class=\"sk-item\"><div class=\"sk-estimator fitted sk-toggleable\"><input class=\"sk-toggleable__control sk-hidden--visually\" id=\"sk-estimator-id-28\" type=\"checkbox\" ><label for=\"sk-estimator-id-28\" class=\"sk-toggleable__label fitted sk-toggleable__label-arrow\"><div><div>SimpleImputer</div></div><div><a class=\"sk-estimator-doc-link fitted\" rel=\"noreferrer\" target=\"_blank\" href=\"https://scikit-learn.org/1.6/modules/generated/sklearn.impute.SimpleImputer.html\">?<span>Documentation for SimpleImputer</span></a></div></label><div class=\"sk-toggleable__content fitted\"><pre>SimpleImputer(strategy=&#x27;most_frequent&#x27;)</pre></div> </div></div></div></div></div></div></div><div class=\"sk-parallel-item\"><div class=\"sk-item\"><div class=\"sk-label-container\"><div class=\"sk-label fitted sk-toggleable\"><input class=\"sk-toggleable__control sk-hidden--visually\" id=\"sk-estimator-id-29\" type=\"checkbox\" ><label for=\"sk-estimator-id-29\" class=\"sk-toggleable__label fitted sk-toggleable__label-arrow\"><div><div>numerical</div></div></label><div class=\"sk-toggleable__content fitted\"><pre>[&#x27;registration_year&#x27;, &#x27;power&#x27;, &#x27;kilometer&#x27;, &#x27;registration_month&#x27;]</pre></div> </div></div><div class=\"sk-serial\"><div class=\"sk-item\"><div class=\"sk-serial\"><div class=\"sk-item\"><div class=\"sk-estimator fitted sk-toggleable\"><input class=\"sk-toggleable__control sk-hidden--visually\" id=\"sk-estimator-id-30\" type=\"checkbox\" ><label for=\"sk-estimator-id-30\" class=\"sk-toggleable__label fitted sk-toggleable__label-arrow\"><div><div>SimpleImputer</div></div><div><a class=\"sk-estimator-doc-link fitted\" rel=\"noreferrer\" target=\"_blank\" href=\"https://scikit-learn.org/1.6/modules/generated/sklearn.impute.SimpleImputer.html\">?<span>Documentation for SimpleImputer</span></a></div></label><div class=\"sk-toggleable__content fitted\"><pre>SimpleImputer(strategy=&#x27;median&#x27;)</pre></div> </div></div><div class=\"sk-item\"><div class=\"sk-estimator fitted sk-toggleable\"><input class=\"sk-toggleable__control sk-hidden--visually\" id=\"sk-estimator-id-31\" type=\"checkbox\" ><label for=\"sk-estimator-id-31\" class=\"sk-toggleable__label fitted sk-toggleable__label-arrow\"><div><div>StandardScaler</div></div><div><a class=\"sk-estimator-doc-link fitted\" rel=\"noreferrer\" target=\"_blank\" href=\"https://scikit-learn.org/1.6/modules/generated/sklearn.preprocessing.StandardScaler.html\">?<span>Documentation for StandardScaler</span></a></div></label><div class=\"sk-toggleable__content fitted\"><pre>StandardScaler()</pre></div> </div></div></div></div></div></div></div><div class=\"sk-parallel-item\"><div class=\"sk-item\"><div class=\"sk-label-container\"><div class=\"sk-label fitted sk-toggleable\"><input class=\"sk-toggleable__control sk-hidden--visually\" id=\"sk-estimator-id-32\" type=\"checkbox\" ><label for=\"sk-estimator-id-32\" class=\"sk-toggleable__label fitted sk-toggleable__label-arrow\"><div><div>remainder</div></div></label><div class=\"sk-toggleable__content fitted\"><pre>[]</pre></div> </div></div><div class=\"sk-serial\"><div class=\"sk-item\"><div class=\"sk-estimator fitted sk-toggleable\"><input class=\"sk-toggleable__control sk-hidden--visually\" id=\"sk-estimator-id-33\" type=\"checkbox\" ><label for=\"sk-estimator-id-33\" class=\"sk-toggleable__label fitted sk-toggleable__label-arrow\"><div><div>passthrough</div></div></label><div class=\"sk-toggleable__content fitted\"><pre>passthrough</pre></div> </div></div></div></div></div></div></div><div class=\"sk-item\"><div class=\"sk-estimator fitted sk-toggleable\"><input class=\"sk-toggleable__control sk-hidden--visually\" id=\"sk-estimator-id-34\" type=\"checkbox\" ><label for=\"sk-estimator-id-34\" class=\"sk-toggleable__label fitted sk-toggleable__label-arrow\"><div><div>LGBMRegressor</div></div></label><div class=\"sk-toggleable__content fitted\"><pre>LGBMRegressor(max_depth=5, n_estimators=80, num_leaves=20, random_state=42,\n",
       "              verbose=-1)</pre></div> </div></div></div></div></div></div></div></div></div></div></div>"
      ],
      "text/plain": [
       "RandomizedSearchCV(cv=5,\n",
       "                   estimator=Pipeline(steps=[('preprocessor',\n",
       "                                              ColumnTransformer(remainder='passthrough',\n",
       "                                                                transformers=[('categorical',\n",
       "                                                                               Pipeline(steps=[('ord',\n",
       "                                                                                                OrdinalEncoder(handle_unknown='use_encoded_value',\n",
       "                                                                                                               unknown_value=nan)),\n",
       "                                                                                               ('imputer',\n",
       "                                                                                                SimpleImputer(strategy='most_frequent'))]),\n",
       "                                                                               ['gearbox',\n",
       "                                                                                'model',\n",
       "                                                                                'fuel_type',\n",
       "                                                                                'brand',\n",
       "                                                                                'repaired']),\n",
       "                                                                              ('numerical',\n",
       "                                                                               P...\n",
       "                                                                                'kilometer',\n",
       "                                                                                'registration_month'])])),\n",
       "                                             ('model',\n",
       "                                              LGBMRegressor(random_state=42,\n",
       "                                                            verbose=-1))]),\n",
       "                   n_iter=3, n_jobs=-1,\n",
       "                   param_distributions={'model': [LGBMRegressor(random_state=42,\n",
       "                                                                verbose=-1)],\n",
       "                                        'model__max_depth': range(3, 8),\n",
       "                                        'model__n_estimators': range(50, 100, 10),\n",
       "                                        'model__num_leaves': range(5, 50, 5)},\n",
       "                   random_state=42, scoring='neg_root_mean_squared_error',\n",
       "                   verbose=1)"
      ]
     },
     "execution_count": 67,
     "metadata": {},
     "output_type": "execute_result"
    }
   ],
   "source": [
    "%%time\n",
    "lgbm_search.fit(X_train, y_train)"
   ]
  },
  {
   "cell_type": "code",
   "execution_count": 68,
   "metadata": {},
   "outputs": [
    {
     "name": "stdout",
     "output_type": "stream",
     "text": [
      "Лучшая модель:\n",
      "Pipeline(steps=[('preprocessor',\n",
      "                 ColumnTransformer(remainder='passthrough',\n",
      "                                   transformers=[('categorical',\n",
      "                                                  Pipeline(steps=[('ord',\n",
      "                                                                   OrdinalEncoder(handle_unknown='use_encoded_value',\n",
      "                                                                                  unknown_value=nan)),\n",
      "                                                                  ('imputer',\n",
      "                                                                   SimpleImputer(strategy='most_frequent'))]),\n",
      "                                                  ['gearbox', 'model',\n",
      "                                                   'fuel_type', 'brand',\n",
      "                                                   'repaired']),\n",
      "                                                 ('numerical',\n",
      "                                                  Pipeline(steps=[('imputer',\n",
      "                                                                   SimpleImputer(strategy='median')),\n",
      "                                                                  ('scaler',\n",
      "                                                                   StandardScaler())]),\n",
      "                                                  ['registration_year', 'power',\n",
      "                                                   'kilometer',\n",
      "                                                   'registration_month'])])),\n",
      "                ('model',\n",
      "                 LGBMRegressor(max_depth=5, n_estimators=80, num_leaves=20,\n",
      "                               random_state=42, verbose=-1))])\n",
      "RMSE на кросс-валидации: 1905.94\n"
     ]
    }
   ],
   "source": [
    "print('Лучшая модель:')\n",
    "print(lgbm_search.best_estimator_)\n",
    "\n",
    "best_rmse = -lgbm_search.best_score_\n",
    "print(f'RMSE на кросс-валидации: {best_rmse:.2f}')"
   ]
  },
  {
   "cell_type": "code",
   "execution_count": 69,
   "metadata": {},
   "outputs": [
    {
     "name": "stdout",
     "output_type": "stream",
     "text": [
      "CPU times: user 1.48 s, sys: 0 ns, total: 1.48 s\n",
      "Wall time: 1.42 s\n"
     ]
    }
   ],
   "source": [
    "%%time\n",
    "y_pred_lgbm = lgbm_search.best_estimator_.predict(X_train)\n"
   ]
  },
  {
   "cell_type": "code",
   "execution_count": 70,
   "metadata": {},
   "outputs": [
    {
     "name": "stdout",
     "output_type": "stream",
     "text": [
      "RMSE на тренировочной выборке: 1893.35\n"
     ]
    }
   ],
   "source": [
    "mse = mean_squared_error(y_train, y_pred_lgbm)\n",
    "rmse = np.sqrt(mse)\n",
    "\n",
    "print(f'RMSE на тренировочной выборке: {rmse:.2f}')"
   ]
  },
  {
   "cell_type": "markdown",
   "metadata": {},
   "source": [
    "**Качество предсказания LGBMRegressor:  \n",
    "RMSE на кросс-валидации: 1905.94  \n",
    "RMSE на тренировочной выборке: 1893.35 \n",
    "Время обучения 7мин 41s  \n",
    "Время предсказания 1.69s**"
   ]
  },
  {
   "cell_type": "code",
   "execution_count": 71,
   "metadata": {},
   "outputs": [],
   "source": [
    "catboost_model = CatBoostRegressor(\n",
    "    iterations=200,\n",
    "    learning_rate=0.1,\n",
    "    depth=4,\n",
    "    random_state=RANDOM_STATE,\n",
    "    cat_features=categorical_columns,\n",
    "    verbose=False\n",
    ")"
   ]
  },
  {
   "cell_type": "code",
   "execution_count": 72,
   "metadata": {},
   "outputs": [
    {
     "name": "stdout",
     "output_type": "stream",
     "text": [
      "CPU times: user 18.4 s, sys: 115 ms, total: 18.5 s\n",
      "Wall time: 19.4 s\n"
     ]
    },
    {
     "data": {
      "text/plain": [
       "<catboost.core.CatBoostRegressor at 0x7f48664ab610>"
      ]
     },
     "execution_count": 72,
     "metadata": {},
     "output_type": "execute_result"
    }
   ],
   "source": [
    "%%time\n",
    "catboost_model.fit(X_train, y_train)"
   ]
  },
  {
   "cell_type": "code",
   "execution_count": 73,
   "metadata": {},
   "outputs": [
    {
     "name": "stdout",
     "output_type": "stream",
     "text": [
      "RMSE на кросс-валидации: 1894.56\n"
     ]
    }
   ],
   "source": [
    "catboost_scores = cross_val_score(\n",
    "    catboost_model,\n",
    "    X_train,\n",
    "    y_train,\n",
    "    cv=3,\n",
    "    n_jobs=-1,\n",
    "    scoring='neg_root_mean_squared_error'\n",
    ")\n",
    "\n",
    "cv_score_catboost = np.mean(catboost_scores)\n",
    "print(f'RMSE на кросс-валидации: {-cv_score_catboost:.2f}')"
   ]
  },
  {
   "cell_type": "code",
   "execution_count": 74,
   "metadata": {},
   "outputs": [
    {
     "name": "stdout",
     "output_type": "stream",
     "text": [
      "CPU times: user 312 ms, sys: 4.07 ms, total: 316 ms\n",
      "Wall time: 324 ms\n"
     ]
    }
   ],
   "source": [
    "%%time\n",
    "y_pred_catboost = catboost_model.predict(X_train)"
   ]
  },
  {
   "cell_type": "code",
   "execution_count": 75,
   "metadata": {},
   "outputs": [
    {
     "name": "stdout",
     "output_type": "stream",
     "text": [
      "RMSE на тренировочной выборке: 1877.72\n"
     ]
    }
   ],
   "source": [
    "mse = mean_squared_error(y_train, y_pred_catboost)\n",
    "rmse = np.sqrt(mse)\n",
    "print(f'RMSE на тренировочной выборке: {rmse:.2f}')"
   ]
  },
  {
   "cell_type": "markdown",
   "metadata": {},
   "source": [
    "**Качество предсказания CatBoostRegressor:  \n",
    "RMSE на кросс-валидации: 1894.56  \n",
    "RMSE на тренировочной выборке: 1877.72 \n",
    "Время обучения 20.6s  \n",
    "Время предсказания 346ms** "
   ]
  },
  {
   "cell_type": "markdown",
   "metadata": {},
   "source": [
    "## Анализ моделей"
   ]
  },
  {
   "cell_type": "code",
   "execution_count": 76,
   "metadata": {},
   "outputs": [
    {
     "name": "stdout",
     "output_type": "stream",
     "text": [
      "Сравнение моделей машинного обучения для предсказания цен на авто:\n"
     ]
    },
    {
     "data": {
      "text/html": [
       "<div>\n",
       "<style scoped>\n",
       "    .dataframe tbody tr th:only-of-type {\n",
       "        vertical-align: middle;\n",
       "    }\n",
       "\n",
       "    .dataframe tbody tr th {\n",
       "        vertical-align: top;\n",
       "    }\n",
       "\n",
       "    .dataframe thead th {\n",
       "        text-align: right;\n",
       "    }\n",
       "</style>\n",
       "<table border=\"1\" class=\"dataframe\">\n",
       "  <thead>\n",
       "    <tr style=\"text-align: right;\">\n",
       "      <th></th>\n",
       "      <th>Модель</th>\n",
       "      <th>RMSE (кросс-валидация)</th>\n",
       "      <th>RMSE (обучающая выборка)</th>\n",
       "      <th>Время обучения</th>\n",
       "      <th>Время предсказания</th>\n",
       "    </tr>\n",
       "  </thead>\n",
       "  <tbody>\n",
       "    <tr>\n",
       "      <th>0</th>\n",
       "      <td>CatBoostRegressor</td>\n",
       "      <td>1894.56</td>\n",
       "      <td>1877.72</td>\n",
       "      <td>20.6s</td>\n",
       "      <td>346ms</td>\n",
       "    </tr>\n",
       "    <tr>\n",
       "      <th>1</th>\n",
       "      <td>LGBMRegressor</td>\n",
       "      <td>1905.94</td>\n",
       "      <td>1893.35</td>\n",
       "      <td>7мин 41s</td>\n",
       "      <td>1.69s</td>\n",
       "    </tr>\n",
       "    <tr>\n",
       "      <th>2</th>\n",
       "      <td>RandomForestRegressor</td>\n",
       "      <td>2199.93</td>\n",
       "      <td>2194.08</td>\n",
       "      <td>3мин 11s</td>\n",
       "      <td>1.43s</td>\n",
       "    </tr>\n",
       "    <tr>\n",
       "      <th>3</th>\n",
       "      <td>LinearRegression</td>\n",
       "      <td>2879.56</td>\n",
       "      <td>2875.16</td>\n",
       "      <td>38.3s</td>\n",
       "      <td>1.5s</td>\n",
       "    </tr>\n",
       "  </tbody>\n",
       "</table>\n",
       "</div>"
      ],
      "text/plain": [
       "                  Модель  RMSE (кросс-валидация)  RMSE (обучающая выборка)  \\\n",
       "0      CatBoostRegressor                 1894.56                   1877.72   \n",
       "1          LGBMRegressor                 1905.94                   1893.35   \n",
       "2  RandomForestRegressor                 2199.93                   2194.08   \n",
       "3       LinearRegression                 2879.56                   2875.16   \n",
       "\n",
       "  Время обучения Время предсказания  \n",
       "0          20.6s              346ms  \n",
       "1       7мин 41s              1.69s  \n",
       "2       3мин 11s              1.43s  \n",
       "3          38.3s               1.5s  "
      ]
     },
     "metadata": {},
     "output_type": "display_data"
    }
   ],
   "source": [
    "results = {\n",
    "    'Модель': ['CatBoostRegressor', 'LGBMRegressor', 'RandomForestRegressor', 'LinearRegression'],\n",
    "    'RMSE (кросс-валидация)': [1894.56, 1905.94, 2199.93, 2879.56],\n",
    "    'RMSE (обучающая выборка)': [1877.72, 1893.35, 2194.08, 2875.16],\n",
    "    'Время обучения': ['20.6s', '7мин 41s', '3мин 11s', '38.3s'],\n",
    "    'Время предсказания': ['346ms', '1.69s', '1.43s', '1.5s']\n",
    "}\n",
    "\n",
    "# Создаем DataFrame и сортируем по RMSE на обучающей выборке\n",
    "all_models = pd.DataFrame(results)\n",
    "all_models_sorted = all_models.sort_values(by='RMSE (обучающая выборка)')\n",
    "\n",
    "\n",
    "print(\"Сравнение моделей машинного обучения для предсказания цен на авто:\")\n",
    "display(all_models_sorted)"
   ]
  },
  {
   "cell_type": "markdown",
   "metadata": {},
   "source": [
    "**Анализ эффективности моделей для предсказания цен**\n",
    "CatBoostRegressor демонстрирует наилучшие результаты среди всех протестированных моделей с RMSE 1869.92 на обучающей выборке и 1882.95 на кросс-валидации. Модель также превосходит по скорости: время обучения составляет всего 19.4 секунды, а время предсказания — 314 миллисекунд, что быстрее остальных алгоритмов.\n",
    "\n",
    "LGBMRegressor показывает близкие по точности результаты — 1883.37 на обучающей выборке и 1897.35 на кросс-валидации (на 0.8% хуже CatBoost), но проигрывает по скоростным характеристикам: время обучения 43.1 секунды (в 2.2 раза дольше) и время предсказания 1.48 секунды (в 4.7 раза медленнее).\n",
    "\n",
    "RandomForestRegressor существенно отстает как по точности (RMSE 2191.21, что на 17% хуже лидера), так и по производительности — обучение занимает 3 минуты 1 секунду, что в 9.3 раза дольше CatBoost, а предсказание выполняется за 1.31 секунды.\n",
    "\n",
    "LinearRegression, несмотря на приемлемое время обучения (21.7 секунд), показывает самые низкие результаты по точности (RMSE 2824.39, что на 51% хуже лидера) и самое медленное время предсказания — 1.69 секунд."
   ]
  },
  {
   "cell_type": "markdown",
   "metadata": {},
   "source": [
    "**Тестовые данные на лучшей модели**"
   ]
  },
  {
   "cell_type": "code",
   "execution_count": 77,
   "metadata": {},
   "outputs": [
    {
     "name": "stdout",
     "output_type": "stream",
     "text": [
      "CPU times: user 126 ms, sys: 3.76 ms, total: 130 ms\n",
      "Wall time: 145 ms\n"
     ]
    }
   ],
   "source": [
    "%%time\n",
    "\n",
    "y_pred = catboost_model.predict(X_test)"
   ]
  },
  {
   "cell_type": "code",
   "execution_count": 78,
   "metadata": {},
   "outputs": [
    {
     "name": "stdout",
     "output_type": "stream",
     "text": [
      "RMSE лучшей модели на тестовой выборке: 1899.74\n"
     ]
    }
   ],
   "source": [
    "mse = mean_squared_error(y_test, y_pred)\n",
    "rmse = np.sqrt(mse)\n",
    "\n",
    "print(f'RMSE лучшей модели на тестовой выборке: {rmse:.2f}')"
   ]
  },
  {
   "cell_type": "markdown",
   "metadata": {},
   "source": [
    "**Общий вывод по исследованию**\n",
    "\n",
    "1. Анализ и подготовка данных\n",
    " - изучены 354 369 записей с 16 характеристиками автомобилей\n",
    " - выявлены и обработаны пропущенные значения в 5 ключевых категориях, включая тип автомобиля (37 490 пропусков) и данные о   ремонте (71 154 пропусков)\n",
    " - Удалены 4 явных дубликата записей\n",
    "2. Предобработка данных\n",
    " - стандартизованы названия столбцов для удобства работы\n",
    " - реализован пайплайн с использованием SimpleImputer для автоматического заполнения пропусков\n",
    " - окончательно устранены 5 дубликатов после дополнительной проверки\n",
    "3. Исследовательский анализ\n",
    " - удалены 171 запись с нереалистичными датами регистрации (до 1886 и после 2016 годов)\n",
    " - исключены 10 772 записи о \"бесплатных\" автомобилях\n",
    " - скорректированы аномальные значения мощности (0 л.с. у 11.32% автомобилей и более 1500 л.с.)\n",
    " - выявлена популярность кузова \"седан\" (36.4% данных) и бренда Volkswagen\n",
    " - обнаружено, что 70.3% автомобилей используют бензин\n",
    " - 89.8% машин не проходили ремонт на момент продажи\n",
    "4. Обучение и сравнение моделей\n",
    " - подготовлены тренировочная и тестовая выборки с оптимальным набором признаков\n",
    " - создан эффективный пайплайн предобработки\n",
    " - протестированы 4 алгоритма машинного обучения с различными гиперпараметрами\n",
    "5. Результаты лучшей модели (CatBoostRegressor)\n",
    " - RMSE на кросс-валидации: 1882.95\n",
    " - RMSE на тренировочной выборке: 1869.92\n",
    " - RMSE на тестовой выборке: 1899.29\n",
    " - Время обучения: 20.6 секунд\n",
    " - Время предсказания: 111 миллисекунда"
   ]
  },
  {
   "cell_type": "markdown",
   "metadata": {},
   "source": [
    "**Заключение**\n",
    "Итоговая модель на основе CatBoostRegressor полностью соответствует всем требованиям заказчика:\n",
    "\n",
    "- высокое качество предсказаний с RMSE значительно ниже 2500\n",
    "- быстрое время отклика при предсказаниях\n",
    "- имеет приемлемое время обучения\n",
    "- данная модель готова к внедрению в систему автоматической оценки стоимости автомобилей."
   ]
  }
 ],
 "metadata": {
  "ExecuteTimeLog": [
   {
    "duration": 20289,
    "start_time": "2025-03-19T05:37:46.472Z"
   },
   {
    "duration": 2021,
    "start_time": "2025-03-19T05:46:03.814Z"
   },
   {
    "duration": 3,
    "start_time": "2025-03-19T05:46:17.398Z"
   },
   {
    "duration": 5,
    "start_time": "2025-03-19T05:50:22.964Z"
   },
   {
    "duration": 3,
    "start_time": "2025-03-19T05:50:23.676Z"
   },
   {
    "duration": 2,
    "start_time": "2025-03-19T05:50:24.702Z"
   },
   {
    "duration": 157,
    "start_time": "2025-03-19T06:00:12.725Z"
   },
   {
    "duration": 1136,
    "start_time": "2025-03-19T06:00:18.785Z"
   },
   {
    "duration": 5,
    "start_time": "2025-03-19T06:06:39.273Z"
   },
   {
    "duration": 6,
    "start_time": "2025-03-19T06:06:39.703Z"
   },
   {
    "duration": 4,
    "start_time": "2025-03-19T06:06:40.000Z"
   },
   {
    "duration": 12,
    "start_time": "2025-03-19T06:07:20.967Z"
   },
   {
    "duration": 10,
    "start_time": "2025-03-19T06:07:42.615Z"
   },
   {
    "duration": 12980,
    "start_time": "2025-03-19T06:07:49.314Z"
   },
   {
    "duration": 1899,
    "start_time": "2025-03-19T06:08:02.297Z"
   },
   {
    "duration": 4,
    "start_time": "2025-03-19T06:08:04.197Z"
   },
   {
    "duration": 10,
    "start_time": "2025-03-19T06:08:04.202Z"
   },
   {
    "duration": 1090,
    "start_time": "2025-03-19T06:08:04.214Z"
   },
   {
    "duration": 4,
    "start_time": "2025-03-19T06:08:05.305Z"
   },
   {
    "duration": 14,
    "start_time": "2025-03-19T06:08:05.311Z"
   },
   {
    "duration": 12,
    "start_time": "2025-03-19T06:08:05.326Z"
   },
   {
    "duration": 17,
    "start_time": "2025-03-19T06:08:05.340Z"
   },
   {
    "duration": 852,
    "start_time": "2025-03-19T06:08:05.358Z"
   },
   {
    "duration": 3,
    "start_time": "2025-03-19T06:10:21.844Z"
   },
   {
    "duration": 762,
    "start_time": "2025-03-19T06:10:27.557Z"
   },
   {
    "duration": 5,
    "start_time": "2025-03-19T06:13:15.486Z"
   },
   {
    "duration": 825,
    "start_time": "2025-03-19T06:13:18.258Z"
   },
   {
    "duration": 2,
    "start_time": "2025-03-19T06:44:17.134Z"
   },
   {
    "duration": 4,
    "start_time": "2025-03-19T06:45:45.558Z"
   },
   {
    "duration": 140,
    "start_time": "2025-03-19T06:47:29.615Z"
   },
   {
    "duration": 14,
    "start_time": "2025-03-19T06:47:51.658Z"
   },
   {
    "duration": 12,
    "start_time": "2025-03-19T06:57:17.970Z"
   },
   {
    "duration": 4,
    "start_time": "2025-03-19T06:58:11.087Z"
   },
   {
    "duration": 514,
    "start_time": "2025-03-19T06:58:17.379Z"
   },
   {
    "duration": 112,
    "start_time": "2025-03-19T07:05:55.717Z"
   },
   {
    "duration": 913,
    "start_time": "2025-03-19T07:11:57.683Z"
   },
   {
    "duration": 4,
    "start_time": "2025-03-19T07:23:35.940Z"
   },
   {
    "duration": 799,
    "start_time": "2025-03-19T07:23:45.470Z"
   },
   {
    "duration": 49,
    "start_time": "2025-03-19T07:33:46.064Z"
   },
   {
    "duration": 32,
    "start_time": "2025-03-19T07:34:36.279Z"
   },
   {
    "duration": 759,
    "start_time": "2025-03-19T07:38:26.171Z"
   },
   {
    "duration": 4848,
    "start_time": "2025-03-19T07:39:17.582Z"
   },
   {
    "duration": 6,
    "start_time": "2025-03-19T07:40:29.358Z"
   },
   {
    "duration": 5035,
    "start_time": "2025-03-19T07:40:34.232Z"
   },
   {
    "duration": 6,
    "start_time": "2025-03-19T07:41:57.666Z"
   },
   {
    "duration": 4801,
    "start_time": "2025-03-19T07:42:04.939Z"
   },
   {
    "duration": 6,
    "start_time": "2025-03-19T07:43:01.622Z"
   },
   {
    "duration": 4703,
    "start_time": "2025-03-19T07:43:07.140Z"
   },
   {
    "duration": 5,
    "start_time": "2025-03-19T07:44:27.276Z"
   },
   {
    "duration": 4551,
    "start_time": "2025-03-19T07:44:31.968Z"
   },
   {
    "duration": 6,
    "start_time": "2025-03-19T07:45:33.810Z"
   },
   {
    "duration": 4604,
    "start_time": "2025-03-19T07:45:39.820Z"
   },
   {
    "duration": 5,
    "start_time": "2025-03-19T07:46:56.606Z"
   },
   {
    "duration": 4650,
    "start_time": "2025-03-19T07:47:01.988Z"
   },
   {
    "duration": 6,
    "start_time": "2025-03-19T07:48:41.009Z"
   },
   {
    "duration": 4503,
    "start_time": "2025-03-19T07:48:45.438Z"
   },
   {
    "duration": 8,
    "start_time": "2025-03-19T07:50:24.861Z"
   },
   {
    "duration": 8,
    "start_time": "2025-03-19T07:52:29.119Z"
   },
   {
    "duration": 37,
    "start_time": "2025-03-19T07:59:19.754Z"
   },
   {
    "duration": 14402,
    "start_time": "2025-03-19T08:04:58.412Z"
   },
   {
    "duration": 740,
    "start_time": "2025-03-19T08:05:45.028Z"
   },
   {
    "duration": 13,
    "start_time": "2025-03-19T08:15:43.681Z"
   },
   {
    "duration": 15,
    "start_time": "2025-03-19T08:15:59.959Z"
   },
   {
    "duration": 12,
    "start_time": "2025-03-19T08:20:15.333Z"
   },
   {
    "duration": 33,
    "start_time": "2025-03-19T08:20:15.745Z"
   },
   {
    "duration": 2,
    "start_time": "2025-03-19T08:20:21.053Z"
   },
   {
    "duration": 4,
    "start_time": "2025-03-19T08:20:32.591Z"
   },
   {
    "duration": 26,
    "start_time": "2025-03-19T08:20:39.159Z"
   },
   {
    "duration": 33,
    "start_time": "2025-03-19T08:22:45.520Z"
   },
   {
    "duration": 13273,
    "start_time": "2025-03-19T08:27:57.713Z"
   },
   {
    "duration": 1870,
    "start_time": "2025-03-19T08:28:10.989Z"
   },
   {
    "duration": 2,
    "start_time": "2025-03-19T08:28:12.861Z"
   },
   {
    "duration": 37,
    "start_time": "2025-03-19T08:28:12.868Z"
   },
   {
    "duration": 4,
    "start_time": "2025-03-19T08:28:12.907Z"
   },
   {
    "duration": 4,
    "start_time": "2025-03-19T08:28:12.913Z"
   },
   {
    "duration": 1077,
    "start_time": "2025-03-19T08:28:12.919Z"
   },
   {
    "duration": 5,
    "start_time": "2025-03-19T08:28:13.998Z"
   },
   {
    "duration": 7,
    "start_time": "2025-03-19T08:28:14.005Z"
   },
   {
    "duration": 8,
    "start_time": "2025-03-19T08:28:14.014Z"
   },
   {
    "duration": 34,
    "start_time": "2025-03-19T08:28:14.024Z"
   },
   {
    "duration": 832,
    "start_time": "2025-03-19T08:28:14.060Z"
   },
   {
    "duration": 3,
    "start_time": "2025-03-19T08:28:14.894Z"
   },
   {
    "duration": 15,
    "start_time": "2025-03-19T08:28:14.899Z"
   },
   {
    "duration": 578,
    "start_time": "2025-03-19T08:28:14.915Z"
   },
   {
    "duration": 143,
    "start_time": "2025-03-19T08:28:15.495Z"
   },
   {
    "duration": 932,
    "start_time": "2025-03-19T08:28:15.639Z"
   },
   {
    "duration": 801,
    "start_time": "2025-03-19T08:28:16.573Z"
   },
   {
    "duration": 41,
    "start_time": "2025-03-19T08:28:17.375Z"
   },
   {
    "duration": 4508,
    "start_time": "2025-03-19T08:28:17.418Z"
   },
   {
    "duration": 8,
    "start_time": "2025-03-19T08:28:21.927Z"
   },
   {
    "duration": 12,
    "start_time": "2025-03-19T08:28:21.936Z"
   },
   {
    "duration": 46,
    "start_time": "2025-03-19T08:28:21.950Z"
   },
   {
    "duration": 14033,
    "start_time": "2025-03-19T08:28:21.998Z"
   },
   {
    "duration": 13,
    "start_time": "2025-03-19T08:28:36.033Z"
   },
   {
    "duration": 23,
    "start_time": "2025-03-19T08:28:36.047Z"
   },
   {
    "duration": 58,
    "start_time": "2025-03-19T08:28:36.071Z"
   },
   {
    "duration": 4,
    "start_time": "2025-03-19T08:28:36.133Z"
   },
   {
    "duration": 219,
    "start_time": "2025-03-19T08:31:17.162Z"
   },
   {
    "duration": 6356,
    "start_time": "2025-03-19T08:31:18.111Z"
   },
   {
    "duration": 12,
    "start_time": "2025-03-19T08:31:25.374Z"
   },
   {
    "duration": 26,
    "start_time": "2025-03-19T08:31:26.189Z"
   },
   {
    "duration": 17743,
    "start_time": "2025-03-19T08:35:13.016Z"
   },
   {
    "duration": 757,
    "start_time": "2025-03-19T08:35:38.638Z"
   },
   {
    "duration": 724,
    "start_time": "2025-03-19T08:35:48.555Z"
   },
   {
    "duration": 811,
    "start_time": "2025-03-19T08:38:25.387Z"
   },
   {
    "duration": 35,
    "start_time": "2025-03-19T08:43:52.580Z"
   },
   {
    "duration": 959,
    "start_time": "2025-03-19T08:46:06.512Z"
   },
   {
    "duration": 729,
    "start_time": "2025-03-19T08:48:54.377Z"
   },
   {
    "duration": 12,
    "start_time": "2025-03-19T08:50:35.459Z"
   },
   {
    "duration": 38,
    "start_time": "2025-03-19T08:51:09.518Z"
   },
   {
    "duration": 298,
    "start_time": "2025-03-19T08:53:06.127Z"
   },
   {
    "duration": 6,
    "start_time": "2025-03-19T08:56:45.520Z"
   },
   {
    "duration": 288,
    "start_time": "2025-03-19T08:56:50.136Z"
   },
   {
    "duration": 260,
    "start_time": "2025-03-19T10:24:56.260Z"
   },
   {
    "duration": 147,
    "start_time": "2025-03-19T10:25:47.698Z"
   },
   {
    "duration": 40,
    "start_time": "2025-03-19T10:25:53.250Z"
   },
   {
    "duration": 321,
    "start_time": "2025-03-19T10:27:05.281Z"
   },
   {
    "duration": 270,
    "start_time": "2025-03-19T10:27:32.346Z"
   },
   {
    "duration": 272,
    "start_time": "2025-03-19T10:33:23.427Z"
   },
   {
    "duration": 249,
    "start_time": "2025-03-19T10:35:11.541Z"
   },
   {
    "duration": 2,
    "start_time": "2025-03-19T10:39:08.342Z"
   },
   {
    "duration": 4,
    "start_time": "2025-03-19T10:48:15.434Z"
   },
   {
    "duration": 13,
    "start_time": "2025-03-19T10:50:01.881Z"
   },
   {
    "duration": 16,
    "start_time": "2025-03-19T10:50:11.385Z"
   },
   {
    "duration": 8272,
    "start_time": "2025-03-19T10:51:08.753Z"
   },
   {
    "duration": 31,
    "start_time": "2025-03-19T11:35:08.645Z"
   },
   {
    "duration": 37,
    "start_time": "2025-03-19T11:35:20.509Z"
   },
   {
    "duration": 3,
    "start_time": "2025-03-19T11:47:22.857Z"
   },
   {
    "duration": 95,
    "start_time": "2025-03-19T11:54:57.821Z"
   },
   {
    "duration": 114,
    "start_time": "2025-03-19T11:55:15.676Z"
   },
   {
    "duration": 12808,
    "start_time": "2025-03-19T11:55:51.599Z"
   },
   {
    "duration": 1816,
    "start_time": "2025-03-19T11:56:04.410Z"
   },
   {
    "duration": 2,
    "start_time": "2025-03-19T11:56:06.228Z"
   },
   {
    "duration": 33,
    "start_time": "2025-03-19T11:56:06.232Z"
   },
   {
    "duration": 44,
    "start_time": "2025-03-19T11:56:06.267Z"
   },
   {
    "duration": 28,
    "start_time": "2025-03-19T11:56:06.312Z"
   },
   {
    "duration": 1082,
    "start_time": "2025-03-19T11:56:06.341Z"
   },
   {
    "duration": 4,
    "start_time": "2025-03-19T11:56:07.425Z"
   },
   {
    "duration": 45,
    "start_time": "2025-03-19T11:56:07.430Z"
   },
   {
    "duration": 32,
    "start_time": "2025-03-19T11:56:07.478Z"
   },
   {
    "duration": 12,
    "start_time": "2025-03-19T11:56:07.512Z"
   },
   {
    "duration": 827,
    "start_time": "2025-03-19T11:56:07.526Z"
   },
   {
    "duration": 3,
    "start_time": "2025-03-19T11:56:08.354Z"
   },
   {
    "duration": 24,
    "start_time": "2025-03-19T11:56:08.367Z"
   },
   {
    "duration": 542,
    "start_time": "2025-03-19T11:56:08.393Z"
   },
   {
    "duration": 159,
    "start_time": "2025-03-19T11:56:08.936Z"
   },
   {
    "duration": 912,
    "start_time": "2025-03-19T11:56:09.097Z"
   },
   {
    "duration": 769,
    "start_time": "2025-03-19T11:56:10.011Z"
   },
   {
    "duration": 41,
    "start_time": "2025-03-19T11:56:10.782Z"
   },
   {
    "duration": 4427,
    "start_time": "2025-03-19T11:56:10.825Z"
   },
   {
    "duration": 17,
    "start_time": "2025-03-19T11:56:15.253Z"
   },
   {
    "duration": 8,
    "start_time": "2025-03-19T11:56:15.271Z"
   },
   {
    "duration": 39,
    "start_time": "2025-03-19T11:56:15.280Z"
   },
   {
    "duration": 728,
    "start_time": "2025-03-19T11:56:15.320Z"
   },
   {
    "duration": 26,
    "start_time": "2025-03-19T11:56:16.049Z"
   },
   {
    "duration": 4,
    "start_time": "2025-03-19T11:56:16.077Z"
   },
   {
    "duration": 32,
    "start_time": "2025-03-19T11:56:16.083Z"
   },
   {
    "duration": 4,
    "start_time": "2025-03-19T11:56:16.120Z"
   },
   {
    "duration": 258,
    "start_time": "2025-03-19T11:56:16.126Z"
   },
   {
    "duration": 6374,
    "start_time": "2025-03-19T11:56:16.386Z"
   },
   {
    "duration": 16,
    "start_time": "2025-03-19T11:56:22.761Z"
   },
   {
    "duration": 32,
    "start_time": "2025-03-19T11:56:22.779Z"
   },
   {
    "duration": 763,
    "start_time": "2025-03-19T11:56:22.813Z"
   },
   {
    "duration": 821,
    "start_time": "2025-03-19T11:56:23.577Z"
   },
   {
    "duration": 37,
    "start_time": "2025-03-19T11:56:24.400Z"
   },
   {
    "duration": 687,
    "start_time": "2025-03-19T11:56:24.439Z"
   },
   {
    "duration": 687,
    "start_time": "2025-03-19T11:56:25.127Z"
   },
   {
    "duration": 7,
    "start_time": "2025-03-19T11:56:25.815Z"
   },
   {
    "duration": 54,
    "start_time": "2025-03-19T11:56:25.823Z"
   },
   {
    "duration": 293,
    "start_time": "2025-03-19T11:56:25.879Z"
   },
   {
    "duration": 252,
    "start_time": "2025-03-19T11:56:26.173Z"
   },
   {
    "duration": 255,
    "start_time": "2025-03-19T11:56:26.467Z"
   },
   {
    "duration": 293,
    "start_time": "2025-03-19T11:56:26.723Z"
   },
   {
    "duration": 305,
    "start_time": "2025-03-19T11:56:27.017Z"
   },
   {
    "duration": 272,
    "start_time": "2025-03-19T11:56:27.323Z"
   },
   {
    "duration": 5,
    "start_time": "2025-03-19T11:56:27.596Z"
   },
   {
    "duration": 16,
    "start_time": "2025-03-19T11:56:27.603Z"
   },
   {
    "duration": 7879,
    "start_time": "2025-03-19T11:56:27.620Z"
   },
   {
    "duration": 30,
    "start_time": "2025-03-19T11:56:35.501Z"
   },
   {
    "duration": 136,
    "start_time": "2025-03-19T11:56:35.532Z"
   },
   {
    "duration": 3,
    "start_time": "2025-03-19T12:11:12.037Z"
   },
   {
    "duration": 2514,
    "start_time": "2025-03-19T12:11:13.407Z"
   },
   {
    "duration": 26086,
    "start_time": "2025-03-19T12:11:48.341Z"
   },
   {
    "duration": 42922,
    "start_time": "2025-03-19T12:13:16.989Z"
   },
   {
    "duration": 161674,
    "start_time": "2025-03-19T12:15:37.995Z"
   },
   {
    "duration": 173040,
    "start_time": "2025-03-19T12:19:17.141Z"
   },
   {
    "duration": 1994,
    "start_time": "2025-03-19T12:22:10.268Z"
   },
   {
    "duration": 1753,
    "start_time": "2025-03-19T12:32:16.720Z"
   },
   {
    "duration": 75,
    "start_time": "2025-03-19T12:33:14.259Z"
   },
   {
    "duration": 3,
    "start_time": "2025-03-19T12:37:25.290Z"
   },
   {
    "duration": 432597,
    "start_time": "2025-03-19T12:39:53.678Z"
   },
   {
    "duration": 218775,
    "start_time": "2025-03-19T12:47:30.387Z"
   },
   {
    "duration": 11,
    "start_time": "2025-03-19T12:53:14.007Z"
   },
   {
    "duration": 1468,
    "start_time": "2025-03-19T12:54:49.783Z"
   },
   {
    "duration": 1314,
    "start_time": "2025-03-19T12:56:04.579Z"
   },
   {
    "duration": 3,
    "start_time": "2025-03-19T13:01:04.438Z"
   },
   {
    "duration": 3,
    "start_time": "2025-03-19T13:01:45.039Z"
   },
   {
    "duration": 47526,
    "start_time": "2025-03-19T13:02:43.370Z"
   },
   {
    "duration": 1576,
    "start_time": "2025-03-19T13:04:47.797Z"
   },
   {
    "duration": 145458,
    "start_time": "2025-03-19T13:09:00.199Z"
   },
   {
    "duration": 482183,
    "start_time": "2025-03-19T13:11:25.659Z"
   },
   {
    "duration": 0,
    "start_time": "2025-03-19T13:19:27.844Z"
   },
   {
    "duration": 105974,
    "start_time": "2025-03-19T13:24:05.269Z"
   },
   {
    "duration": 0,
    "start_time": "2025-03-19T13:25:51.245Z"
   },
   {
    "duration": 0,
    "start_time": "2025-03-19T13:25:51.247Z"
   },
   {
    "duration": 5682,
    "start_time": "2025-03-19T13:25:54.495Z"
   },
   {
    "duration": 12672,
    "start_time": "2025-03-19T13:26:00.179Z"
   },
   {
    "duration": 260,
    "start_time": "2025-03-19T13:26:12.852Z"
   },
   {
    "duration": 18954,
    "start_time": "2025-03-19T13:26:31.703Z"
   },
   {
    "duration": 39073,
    "start_time": "2025-03-19T13:26:50.659Z"
   },
   {
    "duration": 333,
    "start_time": "2025-03-19T13:27:29.734Z"
   },
   {
    "duration": 11,
    "start_time": "2025-03-19T13:37:26.733Z"
   },
   {
    "duration": 109,
    "start_time": "2025-03-19T13:54:49.897Z"
   },
   {
    "duration": 11966,
    "start_time": "2025-03-19T14:04:45.851Z"
   },
   {
    "duration": 1655,
    "start_time": "2025-03-19T14:04:57.819Z"
   },
   {
    "duration": 2,
    "start_time": "2025-03-19T14:04:59.475Z"
   },
   {
    "duration": 4,
    "start_time": "2025-03-19T14:04:59.479Z"
   },
   {
    "duration": 3,
    "start_time": "2025-03-19T14:04:59.484Z"
   },
   {
    "duration": 8,
    "start_time": "2025-03-19T14:04:59.488Z"
   },
   {
    "duration": 1054,
    "start_time": "2025-03-19T14:04:59.497Z"
   },
   {
    "duration": 3,
    "start_time": "2025-03-19T14:05:00.553Z"
   },
   {
    "duration": 30,
    "start_time": "2025-03-19T14:05:00.558Z"
   },
   {
    "duration": 5,
    "start_time": "2025-03-19T14:05:00.592Z"
   },
   {
    "duration": 6,
    "start_time": "2025-03-19T14:05:00.598Z"
   },
   {
    "duration": 762,
    "start_time": "2025-03-19T14:05:00.606Z"
   },
   {
    "duration": 3,
    "start_time": "2025-03-19T14:05:01.369Z"
   },
   {
    "duration": 51,
    "start_time": "2025-03-19T14:05:01.374Z"
   },
   {
    "duration": 519,
    "start_time": "2025-03-19T14:05:01.427Z"
   },
   {
    "duration": 110,
    "start_time": "2025-03-19T14:05:01.948Z"
   },
   {
    "duration": 889,
    "start_time": "2025-03-19T14:05:02.068Z"
   },
   {
    "duration": 699,
    "start_time": "2025-03-19T14:05:02.959Z"
   },
   {
    "duration": 38,
    "start_time": "2025-03-19T14:05:03.667Z"
   },
   {
    "duration": 4021,
    "start_time": "2025-03-19T14:05:03.707Z"
   },
   {
    "duration": 8,
    "start_time": "2025-03-19T14:05:07.729Z"
   },
   {
    "duration": 7,
    "start_time": "2025-03-19T14:05:07.738Z"
   },
   {
    "duration": 50,
    "start_time": "2025-03-19T14:05:07.747Z"
   },
   {
    "duration": 697,
    "start_time": "2025-03-19T14:05:07.798Z"
   },
   {
    "duration": 13,
    "start_time": "2025-03-19T14:05:08.496Z"
   },
   {
    "duration": 3,
    "start_time": "2025-03-19T14:05:08.510Z"
   },
   {
    "duration": 50,
    "start_time": "2025-03-19T14:05:08.515Z"
   },
   {
    "duration": 4,
    "start_time": "2025-03-19T14:05:08.569Z"
   },
   {
    "duration": 216,
    "start_time": "2025-03-19T14:05:08.574Z"
   },
   {
    "duration": 5907,
    "start_time": "2025-03-19T14:05:08.792Z"
   },
   {
    "duration": 10,
    "start_time": "2025-03-19T14:05:14.701Z"
   },
   {
    "duration": 29,
    "start_time": "2025-03-19T14:05:14.712Z"
   },
   {
    "duration": 705,
    "start_time": "2025-03-19T14:05:14.742Z"
   },
   {
    "duration": 738,
    "start_time": "2025-03-19T14:05:15.448Z"
   },
   {
    "duration": 39,
    "start_time": "2025-03-19T14:05:16.187Z"
   },
   {
    "duration": 674,
    "start_time": "2025-03-19T14:05:16.228Z"
   },
   {
    "duration": 689,
    "start_time": "2025-03-19T14:05:16.904Z"
   },
   {
    "duration": 7,
    "start_time": "2025-03-19T14:05:17.595Z"
   },
   {
    "duration": 33,
    "start_time": "2025-03-19T14:05:17.604Z"
   },
   {
    "duration": 259,
    "start_time": "2025-03-19T14:05:17.638Z"
   },
   {
    "duration": 290,
    "start_time": "2025-03-19T14:05:17.898Z"
   },
   {
    "duration": 295,
    "start_time": "2025-03-19T14:05:18.190Z"
   },
   {
    "duration": 295,
    "start_time": "2025-03-19T14:05:18.487Z"
   },
   {
    "duration": 305,
    "start_time": "2025-03-19T14:05:18.784Z"
   },
   {
    "duration": 211,
    "start_time": "2025-03-19T14:05:19.091Z"
   },
   {
    "duration": 4,
    "start_time": "2025-03-19T14:05:19.368Z"
   },
   {
    "duration": 30,
    "start_time": "2025-03-19T14:05:19.374Z"
   },
   {
    "duration": 7276,
    "start_time": "2025-03-19T14:05:19.406Z"
   },
   {
    "duration": 33,
    "start_time": "2025-03-19T14:05:26.684Z"
   },
   {
    "duration": 116,
    "start_time": "2025-03-19T14:05:26.718Z"
   },
   {
    "duration": 2,
    "start_time": "2025-03-19T14:05:26.836Z"
   },
   {
    "duration": 2564,
    "start_time": "2025-03-19T14:05:26.840Z"
   },
   {
    "duration": 21762,
    "start_time": "2025-03-19T14:05:29.405Z"
   },
   {
    "duration": 90800,
    "start_time": "2025-03-19T14:05:51.169Z"
   },
   {
    "duration": 1698,
    "start_time": "2025-03-19T14:07:21.971Z"
   },
   {
    "duration": 4,
    "start_time": "2025-03-19T14:07:23.671Z"
   },
   {
    "duration": 181720,
    "start_time": "2025-03-19T14:07:23.676Z"
   },
   {
    "duration": 1310,
    "start_time": "2025-03-19T14:10:25.398Z"
   },
   {
    "duration": 3,
    "start_time": "2025-03-19T14:10:26.710Z"
   },
   {
    "duration": 43067,
    "start_time": "2025-03-19T14:10:26.715Z"
   },
   {
    "duration": 1485,
    "start_time": "2025-03-19T14:11:09.784Z"
   },
   {
    "duration": 19440,
    "start_time": "2025-03-19T14:11:11.270Z"
   },
   {
    "duration": 37674,
    "start_time": "2025-03-19T14:11:30.712Z"
   },
   {
    "duration": 317,
    "start_time": "2025-03-19T14:12:08.387Z"
   },
   {
    "duration": 10,
    "start_time": "2025-03-19T14:12:08.706Z"
   },
   {
    "duration": 130,
    "start_time": "2025-03-19T14:12:08.718Z"
   },
   {
    "duration": 13,
    "start_time": "2025-03-20T06:07:09.218Z"
   },
   {
    "duration": 12719,
    "start_time": "2025-03-20T06:11:17.975Z"
   },
   {
    "duration": 1864,
    "start_time": "2025-03-20T06:11:30.696Z"
   },
   {
    "duration": 5,
    "start_time": "2025-03-20T06:11:32.562Z"
   },
   {
    "duration": 37,
    "start_time": "2025-03-20T06:11:32.569Z"
   },
   {
    "duration": 61,
    "start_time": "2025-03-20T06:11:32.608Z"
   },
   {
    "duration": 11,
    "start_time": "2025-03-20T06:11:32.671Z"
   },
   {
    "duration": 1075,
    "start_time": "2025-03-20T06:11:32.683Z"
   },
   {
    "duration": 8,
    "start_time": "2025-03-20T06:11:33.760Z"
   },
   {
    "duration": 6,
    "start_time": "2025-03-20T06:11:33.770Z"
   },
   {
    "duration": 14,
    "start_time": "2025-03-20T06:11:33.778Z"
   },
   {
    "duration": 12,
    "start_time": "2025-03-20T06:11:33.794Z"
   },
   {
    "duration": 820,
    "start_time": "2025-03-20T06:11:33.808Z"
   },
   {
    "duration": 4,
    "start_time": "2025-03-20T06:11:34.629Z"
   },
   {
    "duration": 32,
    "start_time": "2025-03-20T06:11:34.634Z"
   },
   {
    "duration": 515,
    "start_time": "2025-03-20T06:11:34.668Z"
   },
   {
    "duration": 119,
    "start_time": "2025-03-20T06:11:35.185Z"
   },
   {
    "duration": 938,
    "start_time": "2025-03-20T06:11:35.306Z"
   },
   {
    "duration": 832,
    "start_time": "2025-03-20T06:11:36.246Z"
   },
   {
    "duration": 40,
    "start_time": "2025-03-20T06:11:37.080Z"
   },
   {
    "duration": 4318,
    "start_time": "2025-03-20T06:11:37.121Z"
   },
   {
    "duration": 9,
    "start_time": "2025-03-20T06:11:41.441Z"
   },
   {
    "duration": 5,
    "start_time": "2025-03-20T06:11:41.467Z"
   },
   {
    "duration": 36,
    "start_time": "2025-03-20T06:11:41.474Z"
   },
   {
    "duration": 769,
    "start_time": "2025-03-20T06:11:41.511Z"
   },
   {
    "duration": 13,
    "start_time": "2025-03-20T06:11:42.282Z"
   },
   {
    "duration": 4,
    "start_time": "2025-03-20T06:11:42.296Z"
   },
   {
    "duration": 34,
    "start_time": "2025-03-20T06:11:42.301Z"
   },
   {
    "duration": 4,
    "start_time": "2025-03-20T06:11:42.339Z"
   },
   {
    "duration": 234,
    "start_time": "2025-03-20T06:11:42.367Z"
   },
   {
    "duration": 6065,
    "start_time": "2025-03-20T06:11:42.602Z"
   },
   {
    "duration": 12,
    "start_time": "2025-03-20T06:11:48.669Z"
   },
   {
    "duration": 29,
    "start_time": "2025-03-20T06:11:48.682Z"
   },
   {
    "duration": 756,
    "start_time": "2025-03-20T06:11:48.712Z"
   },
   {
    "duration": 747,
    "start_time": "2025-03-20T06:11:49.470Z"
   },
   {
    "duration": 48,
    "start_time": "2025-03-20T06:11:50.219Z"
   },
   {
    "duration": 650,
    "start_time": "2025-03-20T06:11:50.269Z"
   },
   {
    "duration": 689,
    "start_time": "2025-03-20T06:11:50.921Z"
   },
   {
    "duration": 7,
    "start_time": "2025-03-20T06:11:51.611Z"
   },
   {
    "duration": 52,
    "start_time": "2025-03-20T06:11:51.620Z"
   },
   {
    "duration": 295,
    "start_time": "2025-03-20T06:11:51.673Z"
   },
   {
    "duration": 322,
    "start_time": "2025-03-20T06:11:51.970Z"
   },
   {
    "duration": 300,
    "start_time": "2025-03-20T06:11:52.293Z"
   },
   {
    "duration": 305,
    "start_time": "2025-03-20T06:11:52.595Z"
   },
   {
    "duration": 307,
    "start_time": "2025-03-20T06:11:52.902Z"
   },
   {
    "duration": 273,
    "start_time": "2025-03-20T06:11:53.210Z"
   },
   {
    "duration": 4,
    "start_time": "2025-03-20T06:11:53.485Z"
   },
   {
    "duration": 18,
    "start_time": "2025-03-20T06:11:53.490Z"
   },
   {
    "duration": 7737,
    "start_time": "2025-03-20T06:11:53.510Z"
   },
   {
    "duration": 38,
    "start_time": "2025-03-20T06:12:01.248Z"
   },
   {
    "duration": 123,
    "start_time": "2025-03-20T06:12:01.287Z"
   },
   {
    "duration": 2,
    "start_time": "2025-03-20T06:12:01.412Z"
   },
   {
    "duration": 2594,
    "start_time": "2025-03-20T06:12:01.416Z"
   },
   {
    "duration": 29155,
    "start_time": "2025-03-20T06:12:04.012Z"
   },
   {
    "duration": 113698,
    "start_time": "2025-03-20T06:12:33.169Z"
   },
   {
    "duration": 1600,
    "start_time": "2025-03-20T06:14:26.869Z"
   },
   {
    "duration": 5,
    "start_time": "2025-03-20T06:14:28.472Z"
   },
   {
    "duration": 90,
    "start_time": "2025-03-20T06:14:28.479Z"
   },
   {
    "duration": 199182,
    "start_time": "2025-03-20T06:14:28.570Z"
   },
   {
    "duration": 1410,
    "start_time": "2025-03-20T06:17:47.753Z"
   },
   {
    "duration": 4,
    "start_time": "2025-03-20T06:17:49.168Z"
   },
   {
    "duration": 9,
    "start_time": "2025-03-20T06:17:49.174Z"
   },
   {
    "duration": 436511,
    "start_time": "2025-03-20T06:17:49.184Z"
   },
   {
    "duration": 1573,
    "start_time": "2025-03-20T06:25:05.698Z"
   },
   {
    "duration": 3,
    "start_time": "2025-03-20T06:25:07.272Z"
   },
   {
    "duration": 19917,
    "start_time": "2025-03-20T06:25:07.277Z"
   },
   {
    "duration": 38920,
    "start_time": "2025-03-20T06:25:27.196Z"
   },
   {
    "duration": 334,
    "start_time": "2025-03-20T06:26:06.118Z"
   },
   {
    "duration": 17,
    "start_time": "2025-03-20T06:26:06.454Z"
   },
   {
    "duration": 130,
    "start_time": "2025-03-20T06:26:06.472Z"
   },
   {
    "duration": 19440,
    "start_time": "2025-03-21T05:29:24.981Z"
   },
   {
    "duration": 1878,
    "start_time": "2025-03-21T05:29:44.423Z"
   },
   {
    "duration": 3,
    "start_time": "2025-03-21T05:29:46.303Z"
   },
   {
    "duration": 4,
    "start_time": "2025-03-21T05:29:46.308Z"
   },
   {
    "duration": 4,
    "start_time": "2025-03-21T05:29:46.313Z"
   },
   {
    "duration": 3,
    "start_time": "2025-03-21T05:29:46.318Z"
   },
   {
    "duration": 881,
    "start_time": "2025-03-21T05:29:46.322Z"
   },
   {
    "duration": 4,
    "start_time": "2025-03-21T05:29:47.204Z"
   },
   {
    "duration": 48,
    "start_time": "2025-03-21T05:29:47.209Z"
   },
   {
    "duration": 20,
    "start_time": "2025-03-21T05:29:47.259Z"
   },
   {
    "duration": 11,
    "start_time": "2025-03-21T05:29:47.281Z"
   },
   {
    "duration": 636,
    "start_time": "2025-03-21T05:29:47.293Z"
   },
   {
    "duration": 3,
    "start_time": "2025-03-21T05:29:47.930Z"
   },
   {
    "duration": 25,
    "start_time": "2025-03-21T05:29:47.935Z"
   },
   {
    "duration": 461,
    "start_time": "2025-03-21T05:29:47.961Z"
   },
   {
    "duration": 118,
    "start_time": "2025-03-21T05:29:48.423Z"
   },
   {
    "duration": 792,
    "start_time": "2025-03-21T05:29:48.542Z"
   },
   {
    "duration": 721,
    "start_time": "2025-03-21T05:29:49.336Z"
   },
   {
    "duration": 38,
    "start_time": "2025-03-21T05:29:50.058Z"
   },
   {
    "duration": 3820,
    "start_time": "2025-03-21T05:29:50.097Z"
   },
   {
    "duration": 7,
    "start_time": "2025-03-21T05:29:53.918Z"
   },
   {
    "duration": 23,
    "start_time": "2025-03-21T05:29:53.927Z"
   },
   {
    "duration": 53,
    "start_time": "2025-03-21T05:29:53.951Z"
   },
   {
    "duration": 674,
    "start_time": "2025-03-21T05:29:54.005Z"
   },
   {
    "duration": 11,
    "start_time": "2025-03-21T05:29:54.680Z"
   },
   {
    "duration": 3,
    "start_time": "2025-03-21T05:29:54.692Z"
   },
   {
    "duration": 37,
    "start_time": "2025-03-21T05:29:54.696Z"
   },
   {
    "duration": 19,
    "start_time": "2025-03-21T05:29:54.737Z"
   },
   {
    "duration": 205,
    "start_time": "2025-03-21T05:29:54.758Z"
   },
   {
    "duration": 5662,
    "start_time": "2025-03-21T05:29:54.964Z"
   },
   {
    "duration": 10,
    "start_time": "2025-03-21T05:30:00.627Z"
   },
   {
    "duration": 36,
    "start_time": "2025-03-21T05:30:00.639Z"
   },
   {
    "duration": 694,
    "start_time": "2025-03-21T05:30:00.677Z"
   },
   {
    "duration": 706,
    "start_time": "2025-03-21T05:30:01.372Z"
   },
   {
    "duration": 36,
    "start_time": "2025-03-21T05:30:02.079Z"
   },
   {
    "duration": 695,
    "start_time": "2025-03-21T05:30:02.117Z"
   },
   {
    "duration": 675,
    "start_time": "2025-03-21T05:30:02.813Z"
   },
   {
    "duration": 7,
    "start_time": "2025-03-21T05:30:03.489Z"
   },
   {
    "duration": 29,
    "start_time": "2025-03-21T05:30:03.497Z"
   },
   {
    "duration": 272,
    "start_time": "2025-03-21T05:30:03.528Z"
   },
   {
    "duration": 292,
    "start_time": "2025-03-21T05:30:03.801Z"
   },
   {
    "duration": 286,
    "start_time": "2025-03-21T05:30:04.095Z"
   },
   {
    "duration": 290,
    "start_time": "2025-03-21T05:30:04.382Z"
   },
   {
    "duration": 225,
    "start_time": "2025-03-21T05:30:04.674Z"
   },
   {
    "duration": 282,
    "start_time": "2025-03-21T05:30:04.901Z"
   },
   {
    "duration": 3,
    "start_time": "2025-03-21T05:30:05.185Z"
   },
   {
    "duration": 147,
    "start_time": "2025-03-21T05:30:05.190Z"
   },
   {
    "duration": 6656,
    "start_time": "2025-03-21T05:30:05.338Z"
   },
   {
    "duration": 30,
    "start_time": "2025-03-21T05:30:11.996Z"
   },
   {
    "duration": 106,
    "start_time": "2025-03-21T05:30:12.028Z"
   },
   {
    "duration": 3,
    "start_time": "2025-03-21T05:30:12.135Z"
   },
   {
    "duration": 2317,
    "start_time": "2025-03-21T05:30:12.156Z"
   },
   {
    "duration": 17214,
    "start_time": "2025-03-21T05:30:14.475Z"
   },
   {
    "duration": 72771,
    "start_time": "2025-03-21T05:30:31.691Z"
   },
   {
    "duration": 1593,
    "start_time": "2025-03-21T05:31:44.464Z"
   },
   {
    "duration": 5,
    "start_time": "2025-03-21T05:31:46.059Z"
   },
   {
    "duration": 91,
    "start_time": "2025-03-21T05:31:46.066Z"
   },
   {
    "duration": 187205,
    "start_time": "2025-03-21T05:31:46.158Z"
   },
   {
    "duration": 1343,
    "start_time": "2025-03-21T05:34:53.364Z"
   },
   {
    "duration": 3,
    "start_time": "2025-03-21T05:34:54.709Z"
   },
   {
    "duration": 10,
    "start_time": "2025-03-21T05:34:54.713Z"
   },
   {
    "duration": 45346,
    "start_time": "2025-03-21T05:34:54.724Z"
   },
   {
    "duration": 1592,
    "start_time": "2025-03-21T05:35:40.071Z"
   },
   {
    "duration": 3,
    "start_time": "2025-03-21T05:35:41.665Z"
   },
   {
    "duration": 19875,
    "start_time": "2025-03-21T05:35:41.669Z"
   },
   {
    "duration": 40506,
    "start_time": "2025-03-21T05:36:01.546Z"
   },
   {
    "duration": 335,
    "start_time": "2025-03-21T05:36:42.054Z"
   },
   {
    "duration": 11,
    "start_time": "2025-03-21T05:36:42.390Z"
   },
   {
    "duration": 125,
    "start_time": "2025-03-21T05:36:42.402Z"
   },
   {
    "duration": 13766,
    "start_time": "2025-03-21T06:09:05.809Z"
   },
   {
    "duration": 1604,
    "start_time": "2025-03-21T06:09:19.578Z"
   },
   {
    "duration": 2,
    "start_time": "2025-03-21T06:09:21.184Z"
   },
   {
    "duration": 7,
    "start_time": "2025-03-21T06:09:21.188Z"
   },
   {
    "duration": 21,
    "start_time": "2025-03-21T06:09:21.196Z"
   },
   {
    "duration": 9,
    "start_time": "2025-03-21T06:09:21.218Z"
   },
   {
    "duration": 907,
    "start_time": "2025-03-21T06:09:21.228Z"
   },
   {
    "duration": 4,
    "start_time": "2025-03-21T06:09:22.136Z"
   },
   {
    "duration": 6,
    "start_time": "2025-03-21T06:09:22.141Z"
   },
   {
    "duration": 7,
    "start_time": "2025-03-21T06:09:22.155Z"
   },
   {
    "duration": 4,
    "start_time": "2025-03-21T06:09:22.163Z"
   },
   {
    "duration": 730,
    "start_time": "2025-03-21T06:09:22.169Z"
   },
   {
    "duration": 3,
    "start_time": "2025-03-21T06:09:22.901Z"
   },
   {
    "duration": 22,
    "start_time": "2025-03-21T06:09:22.905Z"
   },
   {
    "duration": 430,
    "start_time": "2025-03-21T06:09:22.928Z"
   },
   {
    "duration": 131,
    "start_time": "2025-03-21T06:09:23.360Z"
   },
   {
    "duration": 22,
    "start_time": "2025-03-21T06:09:23.492Z"
   },
   {
    "duration": 850,
    "start_time": "2025-03-21T06:09:23.516Z"
   },
   {
    "duration": 777,
    "start_time": "2025-03-21T06:09:24.368Z"
   },
   {
    "duration": 47,
    "start_time": "2025-03-21T06:09:25.147Z"
   },
   {
    "duration": 3818,
    "start_time": "2025-03-21T06:09:25.196Z"
   },
   {
    "duration": 7,
    "start_time": "2025-03-21T06:09:29.016Z"
   },
   {
    "duration": 4,
    "start_time": "2025-03-21T06:09:29.024Z"
   },
   {
    "duration": 57,
    "start_time": "2025-03-21T06:09:29.029Z"
   },
   {
    "duration": 716,
    "start_time": "2025-03-21T06:09:29.088Z"
   },
   {
    "duration": 14,
    "start_time": "2025-03-21T06:09:29.805Z"
   },
   {
    "duration": 62,
    "start_time": "2025-03-21T06:09:29.820Z"
   },
   {
    "duration": 30,
    "start_time": "2025-03-21T06:09:29.886Z"
   },
   {
    "duration": 4,
    "start_time": "2025-03-21T06:09:29.917Z"
   },
   {
    "duration": 315,
    "start_time": "2025-03-21T06:09:29.922Z"
   },
   {
    "duration": 6075,
    "start_time": "2025-03-21T06:09:30.238Z"
   },
   {
    "duration": 10,
    "start_time": "2025-03-21T06:09:36.314Z"
   },
   {
    "duration": 159,
    "start_time": "2025-03-21T06:09:36.325Z"
   },
   {
    "duration": 753,
    "start_time": "2025-03-21T06:09:36.486Z"
   },
   {
    "duration": 757,
    "start_time": "2025-03-21T06:09:37.240Z"
   },
   {
    "duration": 32,
    "start_time": "2025-03-21T06:09:37.998Z"
   },
   {
    "duration": 676,
    "start_time": "2025-03-21T06:09:38.031Z"
   },
   {
    "duration": 690,
    "start_time": "2025-03-21T06:09:38.709Z"
   },
   {
    "duration": 6,
    "start_time": "2025-03-21T06:09:39.401Z"
   },
   {
    "duration": 86,
    "start_time": "2025-03-21T06:09:39.408Z"
   },
   {
    "duration": 277,
    "start_time": "2025-03-21T06:09:39.495Z"
   },
   {
    "duration": 238,
    "start_time": "2025-03-21T06:09:39.774Z"
   },
   {
    "duration": 287,
    "start_time": "2025-03-21T06:09:40.014Z"
   },
   {
    "duration": 285,
    "start_time": "2025-03-21T06:09:40.303Z"
   },
   {
    "duration": 285,
    "start_time": "2025-03-21T06:09:40.590Z"
   },
   {
    "duration": 219,
    "start_time": "2025-03-21T06:09:40.877Z"
   },
   {
    "duration": 4,
    "start_time": "2025-03-21T06:09:41.097Z"
   },
   {
    "duration": 32,
    "start_time": "2025-03-21T06:09:41.102Z"
   },
   {
    "duration": 139877,
    "start_time": "2025-03-21T06:09:41.136Z"
   },
   {
    "duration": 29,
    "start_time": "2025-03-21T06:12:01.014Z"
   },
   {
    "duration": 100,
    "start_time": "2025-03-21T06:12:01.056Z"
   },
   {
    "duration": 4,
    "start_time": "2025-03-21T06:12:01.157Z"
   },
   {
    "duration": 2358,
    "start_time": "2025-03-21T06:12:01.163Z"
   },
   {
    "duration": 2,
    "start_time": "2025-03-21T06:12:03.523Z"
   },
   {
    "duration": 38463,
    "start_time": "2025-03-21T06:12:03.527Z"
   },
   {
    "duration": 179,
    "start_time": "2025-03-21T06:12:41.992Z"
   },
   {
    "duration": 0,
    "start_time": "2025-03-21T06:12:42.172Z"
   },
   {
    "duration": 0,
    "start_time": "2025-03-21T06:12:42.175Z"
   },
   {
    "duration": 0,
    "start_time": "2025-03-21T06:12:42.176Z"
   },
   {
    "duration": 0,
    "start_time": "2025-03-21T06:12:42.179Z"
   },
   {
    "duration": 0,
    "start_time": "2025-03-21T06:12:42.181Z"
   },
   {
    "duration": 0,
    "start_time": "2025-03-21T06:12:42.182Z"
   },
   {
    "duration": 0,
    "start_time": "2025-03-21T06:12:42.184Z"
   },
   {
    "duration": 1,
    "start_time": "2025-03-21T06:12:42.185Z"
   },
   {
    "duration": 0,
    "start_time": "2025-03-21T06:12:42.187Z"
   },
   {
    "duration": 0,
    "start_time": "2025-03-21T06:12:42.188Z"
   },
   {
    "duration": 0,
    "start_time": "2025-03-21T06:12:42.190Z"
   },
   {
    "duration": 0,
    "start_time": "2025-03-21T06:12:42.191Z"
   },
   {
    "duration": 1,
    "start_time": "2025-03-21T06:12:42.192Z"
   },
   {
    "duration": 0,
    "start_time": "2025-03-21T06:12:42.194Z"
   },
   {
    "duration": 0,
    "start_time": "2025-03-21T06:12:42.195Z"
   },
   {
    "duration": 0,
    "start_time": "2025-03-21T06:12:42.197Z"
   },
   {
    "duration": 0,
    "start_time": "2025-03-21T06:12:42.198Z"
   },
   {
    "duration": 0,
    "start_time": "2025-03-21T06:12:42.199Z"
   },
   {
    "duration": 0,
    "start_time": "2025-03-21T06:12:42.200Z"
   },
   {
    "duration": 0,
    "start_time": "2025-03-21T06:12:42.201Z"
   },
   {
    "duration": 0,
    "start_time": "2025-03-21T06:12:42.202Z"
   },
   {
    "duration": 0,
    "start_time": "2025-03-21T06:12:42.202Z"
   },
   {
    "duration": 5,
    "start_time": "2025-03-21T06:15:12.632Z"
   },
   {
    "duration": 13,
    "start_time": "2025-03-21T06:15:19.929Z"
   },
   {
    "duration": 13,
    "start_time": "2025-03-21T06:16:18.586Z"
   },
   {
    "duration": 1499,
    "start_time": "2025-03-21T06:16:21.661Z"
   },
   {
    "duration": 19,
    "start_time": "2025-03-21T06:17:06.261Z"
   },
   {
    "duration": 6,
    "start_time": "2025-03-21T06:17:35.630Z"
   },
   {
    "duration": 148867,
    "start_time": "2025-03-21T06:20:11.491Z"
   },
   {
    "duration": 1499,
    "start_time": "2025-03-21T06:22:40.361Z"
   },
   {
    "duration": 7,
    "start_time": "2025-03-21T06:22:41.862Z"
   },
   {
    "duration": 90,
    "start_time": "2025-03-21T06:22:41.871Z"
   },
   {
    "duration": 4,
    "start_time": "2025-03-21T06:22:41.963Z"
   },
   {
    "duration": 191545,
    "start_time": "2025-03-21T06:22:41.968Z"
   },
   {
    "duration": 22,
    "start_time": "2025-03-21T06:25:53.514Z"
   },
   {
    "duration": 1429,
    "start_time": "2025-03-21T06:25:53.538Z"
   },
   {
    "duration": 5,
    "start_time": "2025-03-21T06:25:54.970Z"
   },
   {
    "duration": 5,
    "start_time": "2025-03-21T06:25:54.977Z"
   },
   {
    "duration": 4,
    "start_time": "2025-03-21T06:25:54.984Z"
   },
   {
    "duration": 14081,
    "start_time": "2025-03-21T06:36:35.870Z"
   },
   {
    "duration": 1655,
    "start_time": "2025-03-21T06:36:49.954Z"
   },
   {
    "duration": 3,
    "start_time": "2025-03-21T06:36:51.610Z"
   },
   {
    "duration": 3,
    "start_time": "2025-03-21T06:36:51.615Z"
   },
   {
    "duration": 5,
    "start_time": "2025-03-21T06:36:51.619Z"
   },
   {
    "duration": 8,
    "start_time": "2025-03-21T06:36:51.625Z"
   },
   {
    "duration": 937,
    "start_time": "2025-03-21T06:36:51.634Z"
   },
   {
    "duration": 5,
    "start_time": "2025-03-21T06:36:52.572Z"
   },
   {
    "duration": 18,
    "start_time": "2025-03-21T06:36:52.578Z"
   },
   {
    "duration": 16,
    "start_time": "2025-03-21T06:36:52.598Z"
   },
   {
    "duration": 5,
    "start_time": "2025-03-21T06:36:52.615Z"
   },
   {
    "duration": 667,
    "start_time": "2025-03-21T06:36:52.622Z"
   },
   {
    "duration": 3,
    "start_time": "2025-03-21T06:36:53.291Z"
   },
   {
    "duration": 31,
    "start_time": "2025-03-21T06:36:53.295Z"
   },
   {
    "duration": 441,
    "start_time": "2025-03-21T06:36:53.327Z"
   },
   {
    "duration": 123,
    "start_time": "2025-03-21T06:36:53.770Z"
   },
   {
    "duration": 17,
    "start_time": "2025-03-21T06:36:53.894Z"
   },
   {
    "duration": 890,
    "start_time": "2025-03-21T06:36:53.912Z"
   },
   {
    "duration": 753,
    "start_time": "2025-03-21T06:36:54.804Z"
   },
   {
    "duration": 40,
    "start_time": "2025-03-21T06:36:55.558Z"
   },
   {
    "duration": 3816,
    "start_time": "2025-03-21T06:36:55.600Z"
   },
   {
    "duration": 7,
    "start_time": "2025-03-21T06:36:59.417Z"
   },
   {
    "duration": 4,
    "start_time": "2025-03-21T06:36:59.426Z"
   },
   {
    "duration": 53,
    "start_time": "2025-03-21T06:36:59.431Z"
   },
   {
    "duration": 702,
    "start_time": "2025-03-21T06:36:59.486Z"
   },
   {
    "duration": 12,
    "start_time": "2025-03-21T06:37:00.190Z"
   },
   {
    "duration": 11,
    "start_time": "2025-03-21T06:37:00.204Z"
   },
   {
    "duration": 60,
    "start_time": "2025-03-21T06:37:00.219Z"
   },
   {
    "duration": 82,
    "start_time": "2025-03-21T06:37:00.282Z"
   },
   {
    "duration": 282,
    "start_time": "2025-03-21T06:37:00.366Z"
   },
   {
    "duration": 6227,
    "start_time": "2025-03-21T06:37:00.649Z"
   },
   {
    "duration": 11,
    "start_time": "2025-03-21T06:37:06.878Z"
   },
   {
    "duration": 46,
    "start_time": "2025-03-21T06:37:06.891Z"
   },
   {
    "duration": 702,
    "start_time": "2025-03-21T06:37:06.939Z"
   },
   {
    "duration": 778,
    "start_time": "2025-03-21T06:37:07.642Z"
   },
   {
    "duration": 51,
    "start_time": "2025-03-21T06:37:08.422Z"
   },
   {
    "duration": 694,
    "start_time": "2025-03-21T06:37:08.474Z"
   },
   {
    "duration": 650,
    "start_time": "2025-03-21T06:37:09.169Z"
   },
   {
    "duration": 7,
    "start_time": "2025-03-21T06:37:09.821Z"
   },
   {
    "duration": 53,
    "start_time": "2025-03-21T06:37:09.830Z"
   },
   {
    "duration": 292,
    "start_time": "2025-03-21T06:37:09.884Z"
   },
   {
    "duration": 243,
    "start_time": "2025-03-21T06:37:10.178Z"
   },
   {
    "duration": 285,
    "start_time": "2025-03-21T06:37:10.423Z"
   },
   {
    "duration": 285,
    "start_time": "2025-03-21T06:37:10.710Z"
   },
   {
    "duration": 278,
    "start_time": "2025-03-21T06:37:10.997Z"
   },
   {
    "duration": 4,
    "start_time": "2025-03-21T06:37:11.276Z"
   },
   {
    "duration": 44,
    "start_time": "2025-03-21T06:37:11.282Z"
   },
   {
    "duration": 138793,
    "start_time": "2025-03-21T06:37:11.328Z"
   },
   {
    "duration": 36,
    "start_time": "2025-03-21T06:39:30.122Z"
   },
   {
    "duration": 119,
    "start_time": "2025-03-21T06:39:30.159Z"
   },
   {
    "duration": 5,
    "start_time": "2025-03-21T06:39:30.280Z"
   },
   {
    "duration": 2581,
    "start_time": "2025-03-21T06:39:30.286Z"
   },
   {
    "duration": 3,
    "start_time": "2025-03-21T06:39:32.869Z"
   },
   {
    "duration": 35717,
    "start_time": "2025-03-21T06:39:32.874Z"
   },
   {
    "duration": 154094,
    "start_time": "2025-03-21T06:40:08.593Z"
   },
   {
    "duration": 1569,
    "start_time": "2025-03-21T06:42:42.688Z"
   },
   {
    "duration": 14,
    "start_time": "2025-03-21T06:42:44.260Z"
   },
   {
    "duration": 3,
    "start_time": "2025-03-21T06:42:44.356Z"
   },
   {
    "duration": 31,
    "start_time": "2025-03-21T06:42:44.361Z"
   },
   {
    "duration": 192620,
    "start_time": "2025-03-21T06:42:44.393Z"
   },
   {
    "duration": 23,
    "start_time": "2025-03-21T06:45:57.014Z"
   },
   {
    "duration": 1373,
    "start_time": "2025-03-21T06:45:57.039Z"
   },
   {
    "duration": 5,
    "start_time": "2025-03-21T06:45:58.414Z"
   },
   {
    "duration": 70,
    "start_time": "2025-03-21T06:45:58.420Z"
   },
   {
    "duration": 16,
    "start_time": "2025-03-21T06:45:58.491Z"
   },
   {
    "duration": 461428,
    "start_time": "2025-03-21T06:45:58.508Z"
   },
   {
    "duration": 34,
    "start_time": "2025-03-21T06:53:39.938Z"
   },
   {
    "duration": 1697,
    "start_time": "2025-03-21T06:53:39.974Z"
   },
   {
    "duration": 86,
    "start_time": "2025-03-21T06:53:41.673Z"
   },
   {
    "duration": 14,
    "start_time": "2025-03-21T06:53:41.761Z"
   },
   {
    "duration": 20584,
    "start_time": "2025-03-21T06:53:41.776Z"
   },
   {
    "duration": 41905,
    "start_time": "2025-03-21T06:54:02.361Z"
   },
   {
    "duration": 350,
    "start_time": "2025-03-21T06:54:44.267Z"
   },
   {
    "duration": 6,
    "start_time": "2025-03-21T06:54:44.619Z"
   },
   {
    "duration": 26,
    "start_time": "2025-03-21T06:54:44.626Z"
   },
   {
    "duration": 140,
    "start_time": "2025-03-21T06:54:44.656Z"
   },
   {
    "duration": 4,
    "start_time": "2025-03-21T06:54:44.798Z"
   },
   {
    "duration": 11,
    "start_time": "2025-03-21T07:02:55.668Z"
   },
   {
    "duration": 47,
    "start_time": "2025-03-21T10:17:34.360Z"
   },
   {
    "duration": 18097,
    "start_time": "2025-03-21T10:17:56.719Z"
   },
   {
    "duration": 1969,
    "start_time": "2025-03-21T10:18:14.819Z"
   },
   {
    "duration": 3,
    "start_time": "2025-03-21T10:18:16.789Z"
   },
   {
    "duration": 6,
    "start_time": "2025-03-21T10:18:16.794Z"
   },
   {
    "duration": 4,
    "start_time": "2025-03-21T10:18:16.801Z"
   },
   {
    "duration": 5,
    "start_time": "2025-03-21T10:18:16.807Z"
   },
   {
    "duration": 1005,
    "start_time": "2025-03-21T10:18:16.814Z"
   },
   {
    "duration": 4,
    "start_time": "2025-03-21T10:18:17.820Z"
   },
   {
    "duration": 49,
    "start_time": "2025-03-21T10:18:17.826Z"
   },
   {
    "duration": 56,
    "start_time": "2025-03-21T10:18:17.878Z"
   },
   {
    "duration": 12,
    "start_time": "2025-03-21T10:18:17.936Z"
   },
   {
    "duration": 763,
    "start_time": "2025-03-21T10:18:17.949Z"
   },
   {
    "duration": 4,
    "start_time": "2025-03-21T10:18:18.713Z"
   },
   {
    "duration": 28,
    "start_time": "2025-03-21T10:18:18.718Z"
   },
   {
    "duration": 494,
    "start_time": "2025-03-21T10:18:18.748Z"
   },
   {
    "duration": 115,
    "start_time": "2025-03-21T10:18:19.244Z"
   },
   {
    "duration": 16,
    "start_time": "2025-03-21T10:18:19.361Z"
   },
   {
    "duration": 869,
    "start_time": "2025-03-21T10:18:19.379Z"
   },
   {
    "duration": 802,
    "start_time": "2025-03-21T10:18:20.249Z"
   },
   {
    "duration": 37,
    "start_time": "2025-03-21T10:18:21.052Z"
   },
   {
    "duration": 4244,
    "start_time": "2025-03-21T10:18:21.091Z"
   },
   {
    "duration": 8,
    "start_time": "2025-03-21T10:18:25.337Z"
   },
   {
    "duration": 5,
    "start_time": "2025-03-21T10:18:25.346Z"
   },
   {
    "duration": 33,
    "start_time": "2025-03-21T10:18:25.353Z"
   },
   {
    "duration": 710,
    "start_time": "2025-03-21T10:18:25.388Z"
   },
   {
    "duration": 12,
    "start_time": "2025-03-21T10:18:26.099Z"
   },
   {
    "duration": 65,
    "start_time": "2025-03-21T10:18:26.112Z"
   },
   {
    "duration": 29,
    "start_time": "2025-03-21T10:18:26.181Z"
   },
   {
    "duration": 4,
    "start_time": "2025-03-21T10:18:26.211Z"
   },
   {
    "duration": 198,
    "start_time": "2025-03-21T10:18:26.216Z"
   },
   {
    "duration": 5898,
    "start_time": "2025-03-21T10:18:26.416Z"
   },
   {
    "duration": 19,
    "start_time": "2025-03-21T10:18:32.316Z"
   },
   {
    "duration": 25,
    "start_time": "2025-03-21T10:18:32.337Z"
   },
   {
    "duration": 748,
    "start_time": "2025-03-21T10:18:32.364Z"
   },
   {
    "duration": 751,
    "start_time": "2025-03-21T10:18:33.113Z"
   },
   {
    "duration": 36,
    "start_time": "2025-03-21T10:18:33.866Z"
   },
   {
    "duration": 755,
    "start_time": "2025-03-21T10:18:33.904Z"
   },
   {
    "duration": 706,
    "start_time": "2025-03-21T10:18:34.661Z"
   },
   {
    "duration": 6,
    "start_time": "2025-03-21T10:18:35.368Z"
   },
   {
    "duration": 50,
    "start_time": "2025-03-21T10:18:35.376Z"
   },
   {
    "duration": 252,
    "start_time": "2025-03-21T10:18:35.428Z"
   },
   {
    "duration": 296,
    "start_time": "2025-03-21T10:18:35.681Z"
   },
   {
    "duration": 284,
    "start_time": "2025-03-21T10:18:35.979Z"
   },
   {
    "duration": 317,
    "start_time": "2025-03-21T10:18:36.265Z"
   },
   {
    "duration": 272,
    "start_time": "2025-03-21T10:18:36.584Z"
   },
   {
    "duration": 4,
    "start_time": "2025-03-21T10:18:36.858Z"
   },
   {
    "duration": 38,
    "start_time": "2025-03-21T10:18:36.863Z"
   },
   {
    "duration": 139883,
    "start_time": "2025-03-21T10:18:36.903Z"
   },
   {
    "duration": 31,
    "start_time": "2025-03-21T10:20:56.788Z"
   },
   {
    "duration": 124,
    "start_time": "2025-03-21T10:20:56.821Z"
   },
   {
    "duration": 2,
    "start_time": "2025-03-21T10:20:56.947Z"
   },
   {
    "duration": 2561,
    "start_time": "2025-03-21T10:20:56.951Z"
   },
   {
    "duration": 21,
    "start_time": "2025-03-21T10:20:59.514Z"
   },
   {
    "duration": 21439,
    "start_time": "2025-03-21T10:20:59.537Z"
   },
   {
    "duration": 90161,
    "start_time": "2025-03-21T10:21:20.978Z"
   },
   {
    "duration": 1691,
    "start_time": "2025-03-21T10:22:51.145Z"
   },
   {
    "duration": 9,
    "start_time": "2025-03-21T10:22:52.838Z"
   },
   {
    "duration": 90,
    "start_time": "2025-03-21T10:22:52.849Z"
   },
   {
    "duration": 3,
    "start_time": "2025-03-21T10:22:52.940Z"
   },
   {
    "duration": 183345,
    "start_time": "2025-03-21T10:22:52.945Z"
   },
   {
    "duration": 24,
    "start_time": "2025-03-21T10:25:56.292Z"
   },
   {
    "duration": 21,
    "start_time": "2025-03-21T10:25:56.317Z"
   },
   {
    "duration": 1379,
    "start_time": "2025-03-21T10:25:56.340Z"
   },
   {
    "duration": 16,
    "start_time": "2025-03-21T10:25:57.721Z"
   },
   {
    "duration": 5,
    "start_time": "2025-03-21T10:25:57.738Z"
   },
   {
    "duration": 7,
    "start_time": "2025-03-21T10:25:57.744Z"
   },
   {
    "duration": 45142,
    "start_time": "2025-03-21T10:25:57.752Z"
   },
   {
    "duration": 25,
    "start_time": "2025-03-21T10:26:42.895Z"
   },
   {
    "duration": 1433,
    "start_time": "2025-03-21T10:26:42.921Z"
   },
   {
    "duration": 6,
    "start_time": "2025-03-21T10:26:44.435Z"
   },
   {
    "duration": 5,
    "start_time": "2025-03-21T10:26:44.443Z"
   },
   {
    "duration": 19401,
    "start_time": "2025-03-21T10:26:44.449Z"
   },
   {
    "duration": 39887,
    "start_time": "2025-03-21T10:27:03.852Z"
   },
   {
    "duration": 327,
    "start_time": "2025-03-21T10:27:43.741Z"
   },
   {
    "duration": 6,
    "start_time": "2025-03-21T10:27:44.070Z"
   },
   {
    "duration": 14,
    "start_time": "2025-03-21T10:27:44.078Z"
   },
   {
    "duration": 155,
    "start_time": "2025-03-21T10:27:44.094Z"
   },
   {
    "duration": 6,
    "start_time": "2025-03-21T10:27:44.251Z"
   }
  ],
  "kernelspec": {
   "display_name": "Python 3 (ipykernel)",
   "language": "python",
   "name": "python3"
  },
  "language_info": {
   "codemirror_mode": {
    "name": "ipython",
    "version": 3
   },
   "file_extension": ".py",
   "mimetype": "text/x-python",
   "name": "python",
   "nbconvert_exporter": "python",
   "pygments_lexer": "ipython3",
   "version": "3.9.5"
  },
  "toc": {
   "base_numbering": 1,
   "nav_menu": {},
   "number_sections": true,
   "sideBar": true,
   "skip_h1_title": true,
   "title_cell": "Table of Contents",
   "title_sidebar": "Contents",
   "toc_cell": false,
   "toc_position": {},
   "toc_section_display": true,
   "toc_window_display": false
  }
 },
 "nbformat": 4,
 "nbformat_minor": 2
}
